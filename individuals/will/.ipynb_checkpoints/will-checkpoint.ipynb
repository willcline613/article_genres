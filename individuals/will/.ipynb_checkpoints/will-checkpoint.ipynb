{
 "cells": [
  {
   "cell_type": "code",
   "execution_count": 1,
   "metadata": {},
   "outputs": [
    {
     "name": "stderr",
     "output_type": "stream",
     "text": [
      "[nltk_data] Downloading package stopwords to\n",
      "[nltk_data]     /Users/willcline/nltk_data...\n",
      "[nltk_data]   Package stopwords is already up-to-date!\n"
     ]
    },
    {
     "data": {
      "text/plain": [
       "True"
      ]
     },
     "execution_count": 1,
     "metadata": {},
     "output_type": "execute_result"
    }
   ],
   "source": [
    "import pandas as pd\n",
    "import numpy as np\n",
    "from sklearn.ensemble import RandomForestClassifier\n",
    "from sklearn.naive_bayes import MultinomialNB\n",
    "from sklearn.metrics import accuracy_score, confusion_matrix\n",
    "from sklearn.model_selection import train_test_split\n",
    "from sklearn.feature_extraction.text import TfidfVectorizer\n",
    "import string\n",
    "import nltk\n",
    "from nltk.corpus import stopwords\n",
    "nltk.download('stopwords')"
   ]
  },
  {
   "cell_type": "code",
   "execution_count": 2,
   "metadata": {},
   "outputs": [],
   "source": [
    "path = \"../../data/News_Category_Dataset_v2.json\""
   ]
  },
  {
   "cell_type": "code",
   "execution_count": 3,
   "metadata": {},
   "outputs": [],
   "source": [
    "df = pd.read_json(path,lines=True)"
   ]
  },
  {
   "cell_type": "code",
   "execution_count": 4,
   "metadata": {},
   "outputs": [
    {
     "data": {
      "text/html": [
       "<div>\n",
       "<style scoped>\n",
       "    .dataframe tbody tr th:only-of-type {\n",
       "        vertical-align: middle;\n",
       "    }\n",
       "\n",
       "    .dataframe tbody tr th {\n",
       "        vertical-align: top;\n",
       "    }\n",
       "\n",
       "    .dataframe thead th {\n",
       "        text-align: right;\n",
       "    }\n",
       "</style>\n",
       "<table border=\"1\" class=\"dataframe\">\n",
       "  <thead>\n",
       "    <tr style=\"text-align: right;\">\n",
       "      <th></th>\n",
       "      <th>category</th>\n",
       "      <th>headline</th>\n",
       "      <th>authors</th>\n",
       "      <th>link</th>\n",
       "      <th>short_description</th>\n",
       "      <th>date</th>\n",
       "    </tr>\n",
       "  </thead>\n",
       "  <tbody>\n",
       "    <tr>\n",
       "      <th>0</th>\n",
       "      <td>CRIME</td>\n",
       "      <td>There Were 2 Mass Shootings In Texas Last Week...</td>\n",
       "      <td>Melissa Jeltsen</td>\n",
       "      <td>https://www.huffingtonpost.com/entry/texas-ama...</td>\n",
       "      <td>She left her husband. He killed their children...</td>\n",
       "      <td>2018-05-26</td>\n",
       "    </tr>\n",
       "    <tr>\n",
       "      <th>1</th>\n",
       "      <td>ENTERTAINMENT</td>\n",
       "      <td>Will Smith Joins Diplo And Nicky Jam For The 2...</td>\n",
       "      <td>Andy McDonald</td>\n",
       "      <td>https://www.huffingtonpost.com/entry/will-smit...</td>\n",
       "      <td>Of course it has a song.</td>\n",
       "      <td>2018-05-26</td>\n",
       "    </tr>\n",
       "  </tbody>\n",
       "</table>\n",
       "</div>"
      ],
      "text/plain": [
       "        category                                           headline  \\\n",
       "0          CRIME  There Were 2 Mass Shootings In Texas Last Week...   \n",
       "1  ENTERTAINMENT  Will Smith Joins Diplo And Nicky Jam For The 2...   \n",
       "\n",
       "           authors                                               link  \\\n",
       "0  Melissa Jeltsen  https://www.huffingtonpost.com/entry/texas-ama...   \n",
       "1    Andy McDonald  https://www.huffingtonpost.com/entry/will-smit...   \n",
       "\n",
       "                                   short_description       date  \n",
       "0  She left her husband. He killed their children... 2018-05-26  \n",
       "1                           Of course it has a song. 2018-05-26  "
      ]
     },
     "execution_count": 4,
     "metadata": {},
     "output_type": "execute_result"
    }
   ],
   "source": [
    "df.head(2)"
   ]
  },
  {
   "cell_type": "code",
   "execution_count": 50,
   "metadata": {},
   "outputs": [],
   "source": [
    "df['category'] = df['category'].replace(['CULTURE & ARTS'],'ARTS & CULTURE')"
   ]
  },
  {
   "cell_type": "code",
   "execution_count": 5,
   "metadata": {},
   "outputs": [
    {
     "data": {
      "text/plain": [
       "(200853, 6)"
      ]
     },
     "execution_count": 5,
     "metadata": {},
     "output_type": "execute_result"
    }
   ],
   "source": [
    "df.shape"
   ]
  },
  {
   "cell_type": "code",
   "execution_count": 6,
   "metadata": {},
   "outputs": [],
   "source": [
    "df.drop(['link', 'date'], axis=1, inplace=True)"
   ]
  },
  {
   "cell_type": "code",
   "execution_count": 7,
   "metadata": {},
   "outputs": [
    {
     "data": {
      "text/html": [
       "<div>\n",
       "<style scoped>\n",
       "    .dataframe tbody tr th:only-of-type {\n",
       "        vertical-align: middle;\n",
       "    }\n",
       "\n",
       "    .dataframe tbody tr th {\n",
       "        vertical-align: top;\n",
       "    }\n",
       "\n",
       "    .dataframe thead th {\n",
       "        text-align: right;\n",
       "    }\n",
       "</style>\n",
       "<table border=\"1\" class=\"dataframe\">\n",
       "  <thead>\n",
       "    <tr style=\"text-align: right;\">\n",
       "      <th></th>\n",
       "      <th>category</th>\n",
       "      <th>headline</th>\n",
       "      <th>authors</th>\n",
       "      <th>short_description</th>\n",
       "    </tr>\n",
       "  </thead>\n",
       "  <tbody>\n",
       "    <tr>\n",
       "      <th>0</th>\n",
       "      <td>CRIME</td>\n",
       "      <td>There Were 2 Mass Shootings In Texas Last Week...</td>\n",
       "      <td>Melissa Jeltsen</td>\n",
       "      <td>She left her husband. He killed their children...</td>\n",
       "    </tr>\n",
       "    <tr>\n",
       "      <th>1</th>\n",
       "      <td>ENTERTAINMENT</td>\n",
       "      <td>Will Smith Joins Diplo And Nicky Jam For The 2...</td>\n",
       "      <td>Andy McDonald</td>\n",
       "      <td>Of course it has a song.</td>\n",
       "    </tr>\n",
       "  </tbody>\n",
       "</table>\n",
       "</div>"
      ],
      "text/plain": [
       "        category                                           headline  \\\n",
       "0          CRIME  There Were 2 Mass Shootings In Texas Last Week...   \n",
       "1  ENTERTAINMENT  Will Smith Joins Diplo And Nicky Jam For The 2...   \n",
       "\n",
       "           authors                                  short_description  \n",
       "0  Melissa Jeltsen  She left her husband. He killed their children...  \n",
       "1    Andy McDonald                           Of course it has a song.  "
      ]
     },
     "execution_count": 7,
     "metadata": {},
     "output_type": "execute_result"
    }
   ],
   "source": [
    "df.head(2)"
   ]
  },
  {
   "cell_type": "code",
   "execution_count": 8,
   "metadata": {},
   "outputs": [],
   "source": [
    "value_counts = round(df.category.value_counts(normalize=True)*100,2)"
   ]
  },
  {
   "cell_type": "code",
   "execution_count": 9,
   "metadata": {},
   "outputs": [
    {
     "data": {
      "text/plain": [
       "POLITICS          16.30\n",
       "WELLNESS           8.88\n",
       "ENTERTAINMENT      7.99\n",
       "TRAVEL             4.92\n",
       "STYLE & BEAUTY     4.80\n",
       "PARENTING          4.32\n",
       "HEALTHY LIVING     3.33\n",
       "QUEER VOICES       3.14\n",
       "FOOD & DRINK       3.10\n",
       "BUSINESS           2.96\n",
       "COMEDY             2.58\n",
       "SPORTS             2.43\n",
       "BLACK VOICES       2.25\n",
       "HOME & LIVING      2.09\n",
       "PARENTS            1.97\n",
       "THE WORLDPOST      1.82\n",
       "WEDDINGS           1.82\n",
       "WOMEN              1.74\n",
       "IMPACT             1.72\n",
       "DIVORCE            1.71\n",
       "CRIME              1.70\n",
       "MEDIA              1.40\n",
       "WEIRD NEWS         1.33\n",
       "GREEN              1.31\n",
       "WORLDPOST          1.28\n",
       "RELIGION           1.27\n",
       "STYLE              1.12\n",
       "SCIENCE            1.08\n",
       "WORLD NEWS         1.08\n",
       "TASTE              1.04\n",
       "TECH               1.04\n",
       "MONEY              0.85\n",
       "ARTS               0.75\n",
       "FIFTY              0.70\n",
       "GOOD NEWS          0.70\n",
       "ARTS & CULTURE     0.67\n",
       "ENVIRONMENT        0.66\n",
       "COLLEGE            0.57\n",
       "LATINO VOICES      0.56\n",
       "CULTURE & ARTS     0.51\n",
       "EDUCATION          0.50\n",
       "Name: category, dtype: float64"
      ]
     },
     "execution_count": 9,
     "metadata": {},
     "output_type": "execute_result"
    }
   ],
   "source": [
    "value_counts"
   ]
  },
  {
   "cell_type": "markdown",
   "metadata": {},
   "source": [
    "## By categories"
   ]
  },
  {
   "cell_type": "code",
   "execution_count": 67,
   "metadata": {},
   "outputs": [],
   "source": [
    "#gets cat df, X, and y\n",
    "def get_cat(cat, df):\n",
    "    cat_df = df[df['category']==cat]\n",
    "    cat_X = df.drop('category', axis=1)\n",
    "    cat_y = df.category\n",
    "    return cat_df, cat_X, cat_y"
   ]
  },
  {
   "cell_type": "code",
   "execution_count": 68,
   "metadata": {},
   "outputs": [],
   "source": [
    "crime_df, crime_X, crime_y = get_cat('CRIME', df)"
   ]
  },
  {
   "cell_type": "code",
   "execution_count": 80,
   "metadata": {},
   "outputs": [],
   "source": [
    "def cat_eda(df):\n",
    "    category_list = df['category'].value_counts().index.tolist()\n",
    "    print(category_list)\n",
    "    for category in category_list:\n",
    "        cat_df, cat_X, cat_y = get_cat(category, df)\n",
    "        \n",
    "    return cat_df"
   ]
  },
  {
   "cell_type": "code",
   "execution_count": 81,
   "metadata": {
    "collapsed": true,
    "jupyter": {
     "outputs_hidden": true
    },
    "tags": []
   },
   "outputs": [
    {
     "name": "stdout",
     "output_type": "stream",
     "text": [
      "['POLITICS', 'WELLNESS', 'ENTERTAINMENT', 'TRAVEL', 'STYLE & BEAUTY', 'PARENTING', 'HEALTHY LIVING', 'QUEER VOICES', 'FOOD & DRINK', 'BUSINESS', 'COMEDY', 'SPORTS', 'BLACK VOICES', 'HOME & LIVING', 'PARENTS', 'THE WORLDPOST', 'WEDDINGS', 'WOMEN', 'IMPACT', 'DIVORCE', 'CRIME', 'MEDIA', 'WEIRD NEWS', 'GREEN', 'WORLDPOST', 'RELIGION', 'ARTS & CULTURE', 'STYLE', 'SCIENCE', 'WORLD NEWS', 'TASTE', 'TECH', 'MONEY', 'ARTS', 'FIFTY', 'GOOD NEWS', 'ENVIRONMENT', 'COLLEGE', 'LATINO VOICES', 'EDUCATION']\n",
      "0                 CRIME\n",
      "1         ENTERTAINMENT\n",
      "2         ENTERTAINMENT\n",
      "3         ENTERTAINMENT\n",
      "4         ENTERTAINMENT\n",
      "              ...      \n",
      "200848             TECH\n",
      "200849           SPORTS\n",
      "200850           SPORTS\n",
      "200851           SPORTS\n",
      "200852           SPORTS\n",
      "Name: category, Length: 200853, dtype: object\n",
      "0                 CRIME\n",
      "1         ENTERTAINMENT\n",
      "2         ENTERTAINMENT\n",
      "3         ENTERTAINMENT\n",
      "4         ENTERTAINMENT\n",
      "              ...      \n",
      "200848             TECH\n",
      "200849           SPORTS\n",
      "200850           SPORTS\n",
      "200851           SPORTS\n",
      "200852           SPORTS\n",
      "Name: category, Length: 200853, dtype: object\n",
      "0                 CRIME\n",
      "1         ENTERTAINMENT\n",
      "2         ENTERTAINMENT\n",
      "3         ENTERTAINMENT\n",
      "4         ENTERTAINMENT\n",
      "              ...      \n",
      "200848             TECH\n",
      "200849           SPORTS\n",
      "200850           SPORTS\n",
      "200851           SPORTS\n",
      "200852           SPORTS\n",
      "Name: category, Length: 200853, dtype: object\n",
      "0                 CRIME\n",
      "1         ENTERTAINMENT\n",
      "2         ENTERTAINMENT\n",
      "3         ENTERTAINMENT\n",
      "4         ENTERTAINMENT\n",
      "              ...      \n",
      "200848             TECH\n",
      "200849           SPORTS\n",
      "200850           SPORTS\n",
      "200851           SPORTS\n",
      "200852           SPORTS\n",
      "Name: category, Length: 200853, dtype: object\n",
      "0                 CRIME\n",
      "1         ENTERTAINMENT\n",
      "2         ENTERTAINMENT\n",
      "3         ENTERTAINMENT\n",
      "4         ENTERTAINMENT\n",
      "              ...      \n",
      "200848             TECH\n",
      "200849           SPORTS\n",
      "200850           SPORTS\n",
      "200851           SPORTS\n",
      "200852           SPORTS\n",
      "Name: category, Length: 200853, dtype: object\n",
      "0                 CRIME\n",
      "1         ENTERTAINMENT\n",
      "2         ENTERTAINMENT\n",
      "3         ENTERTAINMENT\n",
      "4         ENTERTAINMENT\n",
      "              ...      \n",
      "200848             TECH\n",
      "200849           SPORTS\n",
      "200850           SPORTS\n",
      "200851           SPORTS\n",
      "200852           SPORTS\n",
      "Name: category, Length: 200853, dtype: object\n",
      "0                 CRIME\n",
      "1         ENTERTAINMENT\n",
      "2         ENTERTAINMENT\n",
      "3         ENTERTAINMENT\n",
      "4         ENTERTAINMENT\n",
      "              ...      \n",
      "200848             TECH\n",
      "200849           SPORTS\n",
      "200850           SPORTS\n",
      "200851           SPORTS\n",
      "200852           SPORTS\n",
      "Name: category, Length: 200853, dtype: object\n",
      "0                 CRIME\n",
      "1         ENTERTAINMENT\n",
      "2         ENTERTAINMENT\n",
      "3         ENTERTAINMENT\n",
      "4         ENTERTAINMENT\n",
      "              ...      \n",
      "200848             TECH\n",
      "200849           SPORTS\n",
      "200850           SPORTS\n",
      "200851           SPORTS\n",
      "200852           SPORTS\n",
      "Name: category, Length: 200853, dtype: object\n",
      "0                 CRIME\n",
      "1         ENTERTAINMENT\n",
      "2         ENTERTAINMENT\n",
      "3         ENTERTAINMENT\n",
      "4         ENTERTAINMENT\n",
      "              ...      \n",
      "200848             TECH\n",
      "200849           SPORTS\n",
      "200850           SPORTS\n",
      "200851           SPORTS\n",
      "200852           SPORTS\n",
      "Name: category, Length: 200853, dtype: object\n",
      "0                 CRIME\n",
      "1         ENTERTAINMENT\n",
      "2         ENTERTAINMENT\n",
      "3         ENTERTAINMENT\n",
      "4         ENTERTAINMENT\n",
      "              ...      \n",
      "200848             TECH\n",
      "200849           SPORTS\n",
      "200850           SPORTS\n",
      "200851           SPORTS\n",
      "200852           SPORTS\n",
      "Name: category, Length: 200853, dtype: object\n",
      "0                 CRIME\n",
      "1         ENTERTAINMENT\n",
      "2         ENTERTAINMENT\n",
      "3         ENTERTAINMENT\n",
      "4         ENTERTAINMENT\n",
      "              ...      \n",
      "200848             TECH\n",
      "200849           SPORTS\n",
      "200850           SPORTS\n",
      "200851           SPORTS\n",
      "200852           SPORTS\n",
      "Name: category, Length: 200853, dtype: object\n",
      "0                 CRIME\n",
      "1         ENTERTAINMENT\n",
      "2         ENTERTAINMENT\n",
      "3         ENTERTAINMENT\n",
      "4         ENTERTAINMENT\n",
      "              ...      \n",
      "200848             TECH\n",
      "200849           SPORTS\n",
      "200850           SPORTS\n",
      "200851           SPORTS\n",
      "200852           SPORTS\n",
      "Name: category, Length: 200853, dtype: object\n",
      "0                 CRIME\n",
      "1         ENTERTAINMENT\n",
      "2         ENTERTAINMENT\n",
      "3         ENTERTAINMENT\n",
      "4         ENTERTAINMENT\n",
      "              ...      \n",
      "200848             TECH\n",
      "200849           SPORTS\n",
      "200850           SPORTS\n",
      "200851           SPORTS\n",
      "200852           SPORTS\n",
      "Name: category, Length: 200853, dtype: object\n",
      "0                 CRIME\n",
      "1         ENTERTAINMENT\n",
      "2         ENTERTAINMENT\n",
      "3         ENTERTAINMENT\n",
      "4         ENTERTAINMENT\n",
      "              ...      \n",
      "200848             TECH\n",
      "200849           SPORTS\n",
      "200850           SPORTS\n",
      "200851           SPORTS\n",
      "200852           SPORTS\n",
      "Name: category, Length: 200853, dtype: object\n",
      "0                 CRIME\n",
      "1         ENTERTAINMENT\n",
      "2         ENTERTAINMENT\n",
      "3         ENTERTAINMENT\n",
      "4         ENTERTAINMENT\n",
      "              ...      \n",
      "200848             TECH\n",
      "200849           SPORTS\n",
      "200850           SPORTS\n",
      "200851           SPORTS\n",
      "200852           SPORTS\n",
      "Name: category, Length: 200853, dtype: object\n",
      "0                 CRIME\n",
      "1         ENTERTAINMENT\n",
      "2         ENTERTAINMENT\n",
      "3         ENTERTAINMENT\n",
      "4         ENTERTAINMENT\n",
      "              ...      \n",
      "200848             TECH\n",
      "200849           SPORTS\n",
      "200850           SPORTS\n",
      "200851           SPORTS\n",
      "200852           SPORTS\n",
      "Name: category, Length: 200853, dtype: object\n",
      "0                 CRIME\n",
      "1         ENTERTAINMENT\n",
      "2         ENTERTAINMENT\n",
      "3         ENTERTAINMENT\n",
      "4         ENTERTAINMENT\n",
      "              ...      \n",
      "200848             TECH\n",
      "200849           SPORTS\n",
      "200850           SPORTS\n",
      "200851           SPORTS\n",
      "200852           SPORTS\n",
      "Name: category, Length: 200853, dtype: object\n",
      "0                 CRIME\n",
      "1         ENTERTAINMENT\n",
      "2         ENTERTAINMENT\n",
      "3         ENTERTAINMENT\n",
      "4         ENTERTAINMENT\n",
      "              ...      \n",
      "200848             TECH\n",
      "200849           SPORTS\n",
      "200850           SPORTS\n",
      "200851           SPORTS\n",
      "200852           SPORTS\n",
      "Name: category, Length: 200853, dtype: object\n",
      "0                 CRIME\n",
      "1         ENTERTAINMENT\n",
      "2         ENTERTAINMENT\n",
      "3         ENTERTAINMENT\n",
      "4         ENTERTAINMENT\n",
      "              ...      \n",
      "200848             TECH\n",
      "200849           SPORTS\n",
      "200850           SPORTS\n",
      "200851           SPORTS\n",
      "200852           SPORTS\n",
      "Name: category, Length: 200853, dtype: object\n",
      "0                 CRIME\n",
      "1         ENTERTAINMENT\n",
      "2         ENTERTAINMENT\n",
      "3         ENTERTAINMENT\n",
      "4         ENTERTAINMENT\n",
      "              ...      \n",
      "200848             TECH\n",
      "200849           SPORTS\n",
      "200850           SPORTS\n",
      "200851           SPORTS\n",
      "200852           SPORTS\n",
      "Name: category, Length: 200853, dtype: object\n",
      "0                 CRIME\n",
      "1         ENTERTAINMENT\n",
      "2         ENTERTAINMENT\n",
      "3         ENTERTAINMENT\n",
      "4         ENTERTAINMENT\n",
      "              ...      \n",
      "200848             TECH\n",
      "200849           SPORTS\n",
      "200850           SPORTS\n",
      "200851           SPORTS\n",
      "200852           SPORTS\n",
      "Name: category, Length: 200853, dtype: object\n",
      "0                 CRIME\n",
      "1         ENTERTAINMENT\n",
      "2         ENTERTAINMENT\n",
      "3         ENTERTAINMENT\n",
      "4         ENTERTAINMENT\n",
      "              ...      \n",
      "200848             TECH\n",
      "200849           SPORTS\n",
      "200850           SPORTS\n",
      "200851           SPORTS\n",
      "200852           SPORTS\n",
      "Name: category, Length: 200853, dtype: object\n",
      "0                 CRIME\n",
      "1         ENTERTAINMENT\n",
      "2         ENTERTAINMENT\n",
      "3         ENTERTAINMENT\n",
      "4         ENTERTAINMENT\n",
      "              ...      \n",
      "200848             TECH\n",
      "200849           SPORTS\n",
      "200850           SPORTS\n",
      "200851           SPORTS\n",
      "200852           SPORTS\n",
      "Name: category, Length: 200853, dtype: object\n",
      "0                 CRIME\n",
      "1         ENTERTAINMENT\n",
      "2         ENTERTAINMENT\n",
      "3         ENTERTAINMENT\n",
      "4         ENTERTAINMENT\n",
      "              ...      \n",
      "200848             TECH\n",
      "200849           SPORTS\n",
      "200850           SPORTS\n",
      "200851           SPORTS\n",
      "200852           SPORTS\n",
      "Name: category, Length: 200853, dtype: object\n",
      "0                 CRIME\n",
      "1         ENTERTAINMENT\n",
      "2         ENTERTAINMENT\n",
      "3         ENTERTAINMENT\n",
      "4         ENTERTAINMENT\n",
      "              ...      \n",
      "200848             TECH\n",
      "200849           SPORTS\n",
      "200850           SPORTS\n",
      "200851           SPORTS\n",
      "200852           SPORTS\n",
      "Name: category, Length: 200853, dtype: object\n",
      "0                 CRIME\n",
      "1         ENTERTAINMENT\n",
      "2         ENTERTAINMENT\n",
      "3         ENTERTAINMENT\n",
      "4         ENTERTAINMENT\n",
      "              ...      \n",
      "200848             TECH\n",
      "200849           SPORTS\n",
      "200850           SPORTS\n",
      "200851           SPORTS\n",
      "200852           SPORTS\n",
      "Name: category, Length: 200853, dtype: object\n",
      "0                 CRIME\n",
      "1         ENTERTAINMENT\n",
      "2         ENTERTAINMENT\n",
      "3         ENTERTAINMENT\n",
      "4         ENTERTAINMENT\n",
      "              ...      \n",
      "200848             TECH\n",
      "200849           SPORTS\n",
      "200850           SPORTS\n",
      "200851           SPORTS\n",
      "200852           SPORTS\n",
      "Name: category, Length: 200853, dtype: object\n",
      "0                 CRIME\n",
      "1         ENTERTAINMENT\n",
      "2         ENTERTAINMENT\n",
      "3         ENTERTAINMENT\n",
      "4         ENTERTAINMENT\n",
      "              ...      \n",
      "200848             TECH\n",
      "200849           SPORTS\n",
      "200850           SPORTS\n",
      "200851           SPORTS\n",
      "200852           SPORTS\n",
      "Name: category, Length: 200853, dtype: object\n",
      "0                 CRIME\n",
      "1         ENTERTAINMENT\n",
      "2         ENTERTAINMENT\n",
      "3         ENTERTAINMENT\n",
      "4         ENTERTAINMENT\n",
      "              ...      \n",
      "200848             TECH\n",
      "200849           SPORTS\n",
      "200850           SPORTS\n",
      "200851           SPORTS\n",
      "200852           SPORTS\n",
      "Name: category, Length: 200853, dtype: object\n",
      "0                 CRIME\n",
      "1         ENTERTAINMENT\n",
      "2         ENTERTAINMENT\n",
      "3         ENTERTAINMENT\n",
      "4         ENTERTAINMENT\n",
      "              ...      \n",
      "200848             TECH\n",
      "200849           SPORTS\n",
      "200850           SPORTS\n",
      "200851           SPORTS\n",
      "200852           SPORTS\n",
      "Name: category, Length: 200853, dtype: object\n",
      "0                 CRIME\n",
      "1         ENTERTAINMENT\n",
      "2         ENTERTAINMENT\n",
      "3         ENTERTAINMENT\n",
      "4         ENTERTAINMENT\n",
      "              ...      \n",
      "200848             TECH\n",
      "200849           SPORTS\n",
      "200850           SPORTS\n",
      "200851           SPORTS\n",
      "200852           SPORTS\n",
      "Name: category, Length: 200853, dtype: object\n",
      "0                 CRIME\n",
      "1         ENTERTAINMENT\n",
      "2         ENTERTAINMENT\n",
      "3         ENTERTAINMENT\n",
      "4         ENTERTAINMENT\n",
      "              ...      \n",
      "200848             TECH\n",
      "200849           SPORTS\n",
      "200850           SPORTS\n",
      "200851           SPORTS\n",
      "200852           SPORTS\n",
      "Name: category, Length: 200853, dtype: object\n",
      "0                 CRIME\n",
      "1         ENTERTAINMENT\n",
      "2         ENTERTAINMENT\n",
      "3         ENTERTAINMENT\n",
      "4         ENTERTAINMENT\n",
      "              ...      \n",
      "200848             TECH\n",
      "200849           SPORTS\n",
      "200850           SPORTS\n",
      "200851           SPORTS\n",
      "200852           SPORTS\n",
      "Name: category, Length: 200853, dtype: object\n",
      "0                 CRIME\n",
      "1         ENTERTAINMENT\n",
      "2         ENTERTAINMENT\n",
      "3         ENTERTAINMENT\n",
      "4         ENTERTAINMENT\n",
      "              ...      \n",
      "200848             TECH\n",
      "200849           SPORTS\n",
      "200850           SPORTS\n",
      "200851           SPORTS\n",
      "200852           SPORTS\n",
      "Name: category, Length: 200853, dtype: object\n",
      "0                 CRIME\n",
      "1         ENTERTAINMENT\n",
      "2         ENTERTAINMENT\n",
      "3         ENTERTAINMENT\n",
      "4         ENTERTAINMENT\n",
      "              ...      \n",
      "200848             TECH\n",
      "200849           SPORTS\n",
      "200850           SPORTS\n",
      "200851           SPORTS\n",
      "200852           SPORTS\n",
      "Name: category, Length: 200853, dtype: object\n",
      "0                 CRIME\n",
      "1         ENTERTAINMENT\n",
      "2         ENTERTAINMENT\n",
      "3         ENTERTAINMENT\n",
      "4         ENTERTAINMENT\n",
      "              ...      \n",
      "200848             TECH\n",
      "200849           SPORTS\n",
      "200850           SPORTS\n",
      "200851           SPORTS\n",
      "200852           SPORTS\n",
      "Name: category, Length: 200853, dtype: object\n",
      "0                 CRIME\n",
      "1         ENTERTAINMENT\n",
      "2         ENTERTAINMENT\n",
      "3         ENTERTAINMENT\n",
      "4         ENTERTAINMENT\n",
      "              ...      \n",
      "200848             TECH\n",
      "200849           SPORTS\n",
      "200850           SPORTS\n",
      "200851           SPORTS\n",
      "200852           SPORTS\n",
      "Name: category, Length: 200853, dtype: object\n",
      "0                 CRIME\n",
      "1         ENTERTAINMENT\n",
      "2         ENTERTAINMENT\n",
      "3         ENTERTAINMENT\n",
      "4         ENTERTAINMENT\n",
      "              ...      \n",
      "200848             TECH\n",
      "200849           SPORTS\n",
      "200850           SPORTS\n",
      "200851           SPORTS\n",
      "200852           SPORTS\n",
      "Name: category, Length: 200853, dtype: object\n",
      "0                 CRIME\n",
      "1         ENTERTAINMENT\n",
      "2         ENTERTAINMENT\n",
      "3         ENTERTAINMENT\n",
      "4         ENTERTAINMENT\n",
      "              ...      \n",
      "200848             TECH\n",
      "200849           SPORTS\n",
      "200850           SPORTS\n",
      "200851           SPORTS\n",
      "200852           SPORTS\n",
      "Name: category, Length: 200853, dtype: object\n",
      "0                 CRIME\n",
      "1         ENTERTAINMENT\n",
      "2         ENTERTAINMENT\n",
      "3         ENTERTAINMENT\n",
      "4         ENTERTAINMENT\n",
      "              ...      \n",
      "200848             TECH\n",
      "200849           SPORTS\n",
      "200850           SPORTS\n",
      "200851           SPORTS\n",
      "200852           SPORTS\n",
      "Name: category, Length: 200853, dtype: object\n"
     ]
    }
   ],
   "source": [
    "cat_eda(df)"
   ]
  },
  {
   "cell_type": "markdown",
   "metadata": {},
   "source": [
    "### Make Target and features DFs"
   ]
  },
  {
   "cell_type": "code",
   "execution_count": 10,
   "metadata": {},
   "outputs": [],
   "source": [
    "y = df.category"
   ]
  },
  {
   "cell_type": "code",
   "execution_count": 11,
   "metadata": {},
   "outputs": [],
   "source": [
    "X = df.drop('category', axis=1)"
   ]
  },
  {
   "cell_type": "markdown",
   "metadata": {},
   "source": [
    "### Get list of stop words"
   ]
  },
  {
   "cell_type": "code",
   "execution_count": 12,
   "metadata": {},
   "outputs": [],
   "source": [
    "# generate a list of stopwords for TfidfVectorizer to ignore\n",
    "stopwords_list = stopwords.words('english') + list(string.punctuation)"
   ]
  },
  {
   "cell_type": "markdown",
   "metadata": {},
   "source": [
    "## EDA"
   ]
  },
  {
   "cell_type": "markdown",
   "metadata": {},
   "source": [
    "### Basic cleaning"
   ]
  },
  {
   "cell_type": "code",
   "execution_count": 36,
   "metadata": {},
   "outputs": [],
   "source": [
    "#lower case\n",
    "df['lower_desc'] = df['headline'].apply(lambda x: \" \".join(x.lower() for x in x.split()))"
   ]
  },
  {
   "cell_type": "code",
   "execution_count": 37,
   "metadata": {},
   "outputs": [
    {
     "name": "stderr",
     "output_type": "stream",
     "text": [
      "<ipython-input-37-9688f174aeb7>:2: FutureWarning: The default value of regex will change from True to False in a future version.\n",
      "  df['lower_desc'] = df['lower_desc'].str.replace('[^\\w\\s]','')\n"
     ]
    }
   ],
   "source": [
    "#remove punctuation\n",
    "df['lower_desc'] = df['lower_desc'].str.replace('[^\\w\\s]','')"
   ]
  },
  {
   "cell_type": "code",
   "execution_count": 39,
   "metadata": {},
   "outputs": [],
   "source": [
    "#stopword gathering and removal\n",
    "stop = stopwords.words('english')\n",
    "df['lower_desc'] = df['lower_desc'].apply(lambda x: \" \".join(x for x in x.split() if x not in stop))"
   ]
  },
  {
   "cell_type": "markdown",
   "metadata": {},
   "source": [
    "### Tokenize"
   ]
  },
  {
   "cell_type": "code",
   "execution_count": 40,
   "metadata": {},
   "outputs": [
    {
     "name": "stderr",
     "output_type": "stream",
     "text": [
      "IOPub data rate exceeded.\n",
      "The Jupyter server will temporarily stop sending output\n",
      "to the client in order to avoid crashing it.\n",
      "To change this limit, set the config variable\n",
      "`--ServerApp.iopub_data_rate_limit`.\n",
      "\n",
      "Current values:\n",
      "ServerApp.iopub_data_rate_limit=1000000.0 (bytes/sec)\n",
      "ServerApp.rate_limit_window=3.0 (secs)\n",
      "\n"
     ]
    },
    {
     "name": "stdout",
     "output_type": "stream",
     "text": [
      "1349444\n"
     ]
    }
   ],
   "source": [
    "desc_str = ' '.join(df['lower_desc'].tolist())\n",
    "print(desc_str)\n",
    "tokens = nltk.word_tokenize(desc_str) #tokenizing \n",
    "print(len(tokens))"
   ]
  },
  {
   "cell_type": "markdown",
   "metadata": {},
   "source": [
    "### Pos tagging"
   ]
  },
  {
   "cell_type": "code",
   "execution_count": null,
   "metadata": {},
   "outputs": [],
   "source": [
    "nltk.download('averaged_perceptron_tagger')"
   ]
  },
  {
   "cell_type": "code",
   "execution_count": 41,
   "metadata": {},
   "outputs": [
    {
     "name": "stderr",
     "output_type": "stream",
     "text": [
      "[nltk_data] Downloading package averaged_perceptron_tagger to\n",
      "[nltk_data]     /Users/willcline/nltk_data...\n",
      "[nltk_data]   Package averaged_perceptron_tagger is already up-to-\n",
      "[nltk_data]       date!\n"
     ]
    },
    {
     "data": {
      "text/html": [
       "<div>\n",
       "<style scoped>\n",
       "    .dataframe tbody tr th:only-of-type {\n",
       "        vertical-align: middle;\n",
       "    }\n",
       "\n",
       "    .dataframe tbody tr th {\n",
       "        vertical-align: top;\n",
       "    }\n",
       "\n",
       "    .dataframe thead th {\n",
       "        text-align: right;\n",
       "    }\n",
       "</style>\n",
       "<table border=\"1\" class=\"dataframe\">\n",
       "  <thead>\n",
       "    <tr style=\"text-align: right;\">\n",
       "      <th></th>\n",
       "      <th>POS</th>\n",
       "      <th>word</th>\n",
       "    </tr>\n",
       "  </thead>\n",
       "  <tbody>\n",
       "    <tr>\n",
       "      <th>12</th>\n",
       "      <td>NN</td>\n",
       "      <td>491510</td>\n",
       "    </tr>\n",
       "    <tr>\n",
       "      <th>8</th>\n",
       "      <td>JJ</td>\n",
       "      <td>245190</td>\n",
       "    </tr>\n",
       "    <tr>\n",
       "      <th>15</th>\n",
       "      <td>NNS</td>\n",
       "      <td>199835</td>\n",
       "    </tr>\n",
       "    <tr>\n",
       "      <th>30</th>\n",
       "      <td>VBP</td>\n",
       "      <td>99660</td>\n",
       "    </tr>\n",
       "    <tr>\n",
       "      <th>28</th>\n",
       "      <td>VBG</td>\n",
       "      <td>54318</td>\n",
       "    </tr>\n",
       "    <tr>\n",
       "      <th>31</th>\n",
       "      <td>VBZ</td>\n",
       "      <td>45985</td>\n",
       "    </tr>\n",
       "    <tr>\n",
       "      <th>3</th>\n",
       "      <td>CD</td>\n",
       "      <td>43848</td>\n",
       "    </tr>\n",
       "    <tr>\n",
       "      <th>19</th>\n",
       "      <td>RB</td>\n",
       "      <td>43363</td>\n",
       "    </tr>\n",
       "    <tr>\n",
       "      <th>27</th>\n",
       "      <td>VBD</td>\n",
       "      <td>37770</td>\n",
       "    </tr>\n",
       "    <tr>\n",
       "      <th>26</th>\n",
       "      <td>VB</td>\n",
       "      <td>22330</td>\n",
       "    </tr>\n",
       "    <tr>\n",
       "      <th>7</th>\n",
       "      <td>IN</td>\n",
       "      <td>15846</td>\n",
       "    </tr>\n",
       "    <tr>\n",
       "      <th>29</th>\n",
       "      <td>VBN</td>\n",
       "      <td>14918</td>\n",
       "    </tr>\n",
       "    <tr>\n",
       "      <th>10</th>\n",
       "      <td>JJS</td>\n",
       "      <td>7699</td>\n",
       "    </tr>\n",
       "    <tr>\n",
       "      <th>11</th>\n",
       "      <td>MD</td>\n",
       "      <td>7218</td>\n",
       "    </tr>\n",
       "    <tr>\n",
       "      <th>17</th>\n",
       "      <td>PRP</td>\n",
       "      <td>4844</td>\n",
       "    </tr>\n",
       "    <tr>\n",
       "      <th>9</th>\n",
       "      <td>JJR</td>\n",
       "      <td>3951</td>\n",
       "    </tr>\n",
       "    <tr>\n",
       "      <th>20</th>\n",
       "      <td>RBR</td>\n",
       "      <td>2287</td>\n",
       "    </tr>\n",
       "    <tr>\n",
       "      <th>4</th>\n",
       "      <td>DT</td>\n",
       "      <td>1977</td>\n",
       "    </tr>\n",
       "    <tr>\n",
       "      <th>6</th>\n",
       "      <td>FW</td>\n",
       "      <td>1961</td>\n",
       "    </tr>\n",
       "    <tr>\n",
       "      <th>13</th>\n",
       "      <td>NNP</td>\n",
       "      <td>1570</td>\n",
       "    </tr>\n",
       "    <tr>\n",
       "      <th>22</th>\n",
       "      <td>RP</td>\n",
       "      <td>928</td>\n",
       "    </tr>\n",
       "    <tr>\n",
       "      <th>21</th>\n",
       "      <td>RBS</td>\n",
       "      <td>640</td>\n",
       "    </tr>\n",
       "    <tr>\n",
       "      <th>2</th>\n",
       "      <td>CC</td>\n",
       "      <td>580</td>\n",
       "    </tr>\n",
       "    <tr>\n",
       "      <th>0</th>\n",
       "      <td>$</td>\n",
       "      <td>297</td>\n",
       "    </tr>\n",
       "    <tr>\n",
       "      <th>14</th>\n",
       "      <td>NNPS</td>\n",
       "      <td>205</td>\n",
       "    </tr>\n",
       "    <tr>\n",
       "      <th>33</th>\n",
       "      <td>WP</td>\n",
       "      <td>177</td>\n",
       "    </tr>\n",
       "    <tr>\n",
       "      <th>35</th>\n",
       "      <td>WRB</td>\n",
       "      <td>124</td>\n",
       "    </tr>\n",
       "    <tr>\n",
       "      <th>34</th>\n",
       "      <td>WP$</td>\n",
       "      <td>120</td>\n",
       "    </tr>\n",
       "    <tr>\n",
       "      <th>25</th>\n",
       "      <td>UH</td>\n",
       "      <td>90</td>\n",
       "    </tr>\n",
       "    <tr>\n",
       "      <th>32</th>\n",
       "      <td>WDT</td>\n",
       "      <td>74</td>\n",
       "    </tr>\n",
       "    <tr>\n",
       "      <th>18</th>\n",
       "      <td>PRP$</td>\n",
       "      <td>55</td>\n",
       "    </tr>\n",
       "    <tr>\n",
       "      <th>24</th>\n",
       "      <td>TO</td>\n",
       "      <td>46</td>\n",
       "    </tr>\n",
       "    <tr>\n",
       "      <th>16</th>\n",
       "      <td>POS</td>\n",
       "      <td>11</td>\n",
       "    </tr>\n",
       "    <tr>\n",
       "      <th>5</th>\n",
       "      <td>EX</td>\n",
       "      <td>11</td>\n",
       "    </tr>\n",
       "    <tr>\n",
       "      <th>1</th>\n",
       "      <td>''</td>\n",
       "      <td>5</td>\n",
       "    </tr>\n",
       "    <tr>\n",
       "      <th>23</th>\n",
       "      <td>SYM</td>\n",
       "      <td>1</td>\n",
       "    </tr>\n",
       "  </tbody>\n",
       "</table>\n",
       "</div>"
      ],
      "text/plain": [
       "     POS    word\n",
       "12    NN  491510\n",
       "8     JJ  245190\n",
       "15   NNS  199835\n",
       "30   VBP   99660\n",
       "28   VBG   54318\n",
       "31   VBZ   45985\n",
       "3     CD   43848\n",
       "19    RB   43363\n",
       "27   VBD   37770\n",
       "26    VB   22330\n",
       "7     IN   15846\n",
       "29   VBN   14918\n",
       "10   JJS    7699\n",
       "11    MD    7218\n",
       "17   PRP    4844\n",
       "9    JJR    3951\n",
       "20   RBR    2287\n",
       "4     DT    1977\n",
       "6     FW    1961\n",
       "13   NNP    1570\n",
       "22    RP     928\n",
       "21   RBS     640\n",
       "2     CC     580\n",
       "0      $     297\n",
       "14  NNPS     205\n",
       "33    WP     177\n",
       "35   WRB     124\n",
       "34   WP$     120\n",
       "25    UH      90\n",
       "32   WDT      74\n",
       "18  PRP$      55\n",
       "24    TO      46\n",
       "16   POS      11\n",
       "5     EX      11\n",
       "1     ''       5\n",
       "23   SYM       1"
      ]
     },
     "execution_count": 41,
     "metadata": {},
     "output_type": "execute_result"
    }
   ],
   "source": [
    "tokens_pos = nltk.pos_tag(tokens)\n",
    "pos_df = pd.DataFrame(tokens_pos, columns = ('word','POS'))\n",
    "pos_sum = pos_df.groupby('POS', as_index=False).count() # group by POS tags\n",
    "pos_sum.sort_values(['word'], ascending=[False]) # in descending order of number of words per tag"
   ]
  },
  {
   "cell_type": "code",
   "execution_count": 42,
   "metadata": {},
   "outputs": [
    {
     "name": "stdout",
     "output_type": "stream",
     "text": [
      "693120\n"
     ]
    }
   ],
   "source": [
    "#getting just the nouns\n",
    "filtered_pos = [ ]\n",
    "for one in tokens_pos:\n",
    "    if one[1] == 'NN' or one[1] == 'NNS' or one[1] == 'NNP' or one[1] == 'NNPS':\n",
    "        filtered_pos.append(one)\n",
    "print (len(filtered_pos))"
   ]
  },
  {
   "cell_type": "code",
   "execution_count": 43,
   "metadata": {},
   "outputs": [
    {
     "name": "stdout",
     "output_type": "stream",
     "text": [
      "[(('photos', 'NNS'), 7056), (('trump', 'NN'), 6351), (('day', 'NN'), 4417), (('video', 'NN'), 4220), (('women', 'NNS'), 2845), (('people', 'NNS'), 2785), (('life', 'NN'), 2742), (('kids', 'NNS'), 2661), (('world', 'NN'), 2626), (('time', 'NN'), 2454), (('week', 'NN'), 2376), (('ways', 'NNS'), 2329), (('health', 'NN'), 2326), (('trumps', 'NNS'), 2241), (('things', 'NNS'), 2156), (('house', 'NN'), 2094), (('man', 'NN'), 2044), (('years', 'NNS'), 1945), (('donald', 'NN'), 1928), (('home', 'NN'), 1818), (('way', 'NN'), 1734), (('clinton', 'NN'), 1713), (('bill', 'NN'), 1676), (('food', 'NN'), 1618), (('photo', 'NN'), 1603), (('year', 'NN'), 1533), (('woman', 'NN'), 1485), (('family', 'NN'), 1465), (('tips', 'NNS'), 1426), (('school', 'NN'), 1408), (('president', 'NN'), 1398), (('fashion', 'NN'), 1356), (('news', 'NN'), 1314), (('style', 'NN'), 1290), (('death', 'NN'), 1283), (('state', 'NN'), 1281), (('parents', 'NNS'), 1267), (('marriage', 'NN'), 1211), (('york', 'NN'), 1210), (('study', 'NN'), 1209), (('star', 'NN'), 1206), (('change', 'NN'), 1205), (('watch', 'NN'), 1198), (('court', 'NN'), 1195), (('cancer', 'NN'), 1194), (('heres', 'NNS'), 1181), (('care', 'NN'), 1177), (('divorce', 'NN'), 1138), (('men', 'NNS'), 1098), (('children', 'NNS'), 1097), (('summer', 'NN'), 1085), (('show', 'NN'), 1080), (('game', 'NN'), 1079), (('mom', 'NN'), 1077), (('baby', 'NN'), 1059), (('campaign', 'NN'), 1042), (('report', 'NN'), 1041), (('election', 'NN'), 1012), (('reasons', 'NNS'), 1006), (('war', 'NN'), 992), (('party', 'NN'), 982), (('season', 'NN'), 975), (('part', 'NN'), 955), (('city', 'NN'), 920), (('story', 'NN'), 917), (('gop', 'NN'), 908), (('help', 'NN'), 896), (('obama', 'NN'), 895), (('sanders', 'NNS'), 892), (('history', 'NN'), 874), (('photos', 'NN'), 862), (('money', 'NN'), 861), (('work', 'NN'), 855), (('john', 'NN'), 853), (('media', 'NNS'), 851), (('college', 'NN'), 845), (('sex', 'NN'), 842), (('police', 'NN'), 827), (('recipes', 'NNS'), 826), (('business', 'NN'), 822), (('travel', 'NN'), 822), (('climate', 'NN'), 806), (('rights', 'NNS'), 798), (('heart', 'NN'), 796), (('music', 'NN'), 789), (('thing', 'NN'), 788), (('power', 'NN'), 786), (('look', 'NN'), 785), (('days', 'NNS'), 782), (('night', 'NN'), 776), (('tax', 'NN'), 773), (('beauty', 'NN'), 767), (('gay', 'NN'), 753), (('race', 'NN'), 749), (('americans', 'NNS'), 747), (('dress', 'NN'), 746), (('moms', 'NNS'), 742), (('letter', 'NN'), 738), (('twitter', 'NN'), 736), (('dont', 'NN'), 732)]\n"
     ]
    }
   ],
   "source": [
    "#the 100 most common nouns\n",
    "fdist_pos = nltk.FreqDist(filtered_pos)\n",
    "top_100_words = fdist_pos.most_common(100)\n",
    "print(top_100_words)"
   ]
  },
  {
   "cell_type": "code",
   "execution_count": 44,
   "metadata": {},
   "outputs": [
    {
     "name": "stderr",
     "output_type": "stream",
     "text": [
      "<ipython-input-44-1f3291ea5482>:3: FutureWarning: In a future version of pandas all arguments of DataFrame.drop except for the argument 'labels' will be keyword-only\n",
      "  top_words_df = top_words_df.drop('pos', 1) # drop the previous column\n"
     ]
    },
    {
     "data": {
      "text/html": [
       "<div>\n",
       "<style scoped>\n",
       "    .dataframe tbody tr th:only-of-type {\n",
       "        vertical-align: middle;\n",
       "    }\n",
       "\n",
       "    .dataframe tbody tr th {\n",
       "        vertical-align: top;\n",
       "    }\n",
       "\n",
       "    .dataframe thead th {\n",
       "        text-align: right;\n",
       "    }\n",
       "</style>\n",
       "<table border=\"1\" class=\"dataframe\">\n",
       "  <thead>\n",
       "    <tr style=\"text-align: right;\">\n",
       "      <th></th>\n",
       "      <th>count</th>\n",
       "      <th>Word</th>\n",
       "    </tr>\n",
       "  </thead>\n",
       "  <tbody>\n",
       "    <tr>\n",
       "      <th>0</th>\n",
       "      <td>7056</td>\n",
       "      <td>photos</td>\n",
       "    </tr>\n",
       "    <tr>\n",
       "      <th>1</th>\n",
       "      <td>6351</td>\n",
       "      <td>trump</td>\n",
       "    </tr>\n",
       "    <tr>\n",
       "      <th>2</th>\n",
       "      <td>4417</td>\n",
       "      <td>day</td>\n",
       "    </tr>\n",
       "    <tr>\n",
       "      <th>3</th>\n",
       "      <td>4220</td>\n",
       "      <td>video</td>\n",
       "    </tr>\n",
       "    <tr>\n",
       "      <th>4</th>\n",
       "      <td>2845</td>\n",
       "      <td>women</td>\n",
       "    </tr>\n",
       "    <tr>\n",
       "      <th>5</th>\n",
       "      <td>2785</td>\n",
       "      <td>people</td>\n",
       "    </tr>\n",
       "    <tr>\n",
       "      <th>6</th>\n",
       "      <td>2742</td>\n",
       "      <td>life</td>\n",
       "    </tr>\n",
       "    <tr>\n",
       "      <th>7</th>\n",
       "      <td>2661</td>\n",
       "      <td>kids</td>\n",
       "    </tr>\n",
       "    <tr>\n",
       "      <th>8</th>\n",
       "      <td>2626</td>\n",
       "      <td>world</td>\n",
       "    </tr>\n",
       "    <tr>\n",
       "      <th>9</th>\n",
       "      <td>2454</td>\n",
       "      <td>time</td>\n",
       "    </tr>\n",
       "  </tbody>\n",
       "</table>\n",
       "</div>"
      ],
      "text/plain": [
       "   count    Word\n",
       "0   7056  photos\n",
       "1   6351   trump\n",
       "2   4417     day\n",
       "3   4220   video\n",
       "4   2845   women\n",
       "5   2785  people\n",
       "6   2742    life\n",
       "7   2661    kids\n",
       "8   2626   world\n",
       "9   2454    time"
      ]
     },
     "execution_count": 44,
     "metadata": {},
     "output_type": "execute_result"
    }
   ],
   "source": [
    "top_words_df = pd.DataFrame(top_100_words, columns = ('pos','count'))\n",
    "top_words_df['Word'] = top_words_df['pos'].apply(lambda x: x[0]) # split the tuple of POS\n",
    "top_words_df = top_words_df.drop('pos', 1) # drop the previous column\n",
    "top_words_df.head(10)"
   ]
  },
  {
   "cell_type": "code",
   "execution_count": null,
   "metadata": {},
   "outputs": [],
   "source": [
    "fig, ax = plt.subplots(figsize=(15,18))\n",
    "top_words_df.sort_values(by='count').plot.barh(x='Word',\n",
    "                      y='count',\n",
    "                      ax=ax,\n",
    "                      color=\"purple\")\n",
    "\n",
    "ax.set_title(\"Common Words Found in DS Job Descriptions(Without Stop Words)\")\n",
    "\n",
    "plt.show()"
   ]
  },
  {
   "cell_type": "markdown",
   "metadata": {},
   "source": [
    "### Vectorize data with tf-idf(one of the 3 vectorizer methods) and make a train test split"
   ]
  },
  {
   "cell_type": "code",
   "execution_count": 13,
   "metadata": {},
   "outputs": [],
   "source": [
    "# generate tf-idf vectorization (use sklearn's TfidfVectorizer) for our data\n",
    "def tfidf(X, y,  stopwords_list): \n",
    "    X_train, X_test, y_train, y_test = train_test_split(X, y, random_state=42)\n",
    "    vectorizer = TfidfVectorizer(stop_words=stopwords_list)\n",
    "    tf_idf_train = vectorizer.fit_transform(X_train)\n",
    "    tf_idf_test = vectorizer.transform(X_test)\n",
    "    return tf_idf_train, tf_idf_test, y_train, y_test, vectorizer"
   ]
  },
  {
   "cell_type": "code",
   "execution_count": 14,
   "metadata": {},
   "outputs": [],
   "source": [
    "#Call above function to vectorize and train test split data and put them in variables.\n",
    "#Up here because presumably only have to do it once\n",
    "idf_train, idf_test, y_tr, y_t, vectorizer = tfidf(X['headline'], y, stopwords_list)"
   ]
  },
  {
   "cell_type": "code",
   "execution_count": 15,
   "metadata": {},
   "outputs": [
    {
     "data": {
      "text/plain": [
       "matrix([[0., 0., 0., ..., 0., 0., 0.],\n",
       "        [0., 0., 0., ..., 0., 0., 0.],\n",
       "        [0., 0., 0., ..., 0., 0., 0.],\n",
       "        ...,\n",
       "        [0., 0., 0., ..., 0., 0., 0.],\n",
       "        [0., 0., 0., ..., 0., 0., 0.],\n",
       "        [0., 0., 0., ..., 0., 0., 0.]])"
      ]
     },
     "execution_count": 15,
     "metadata": {},
     "output_type": "execute_result"
    }
   ],
   "source": [
    "idf_train.todense()"
   ]
  },
  {
   "cell_type": "markdown",
   "metadata": {},
   "source": [
    "### Prediction function"
   ]
  },
  {
   "cell_type": "code",
   "execution_count": 16,
   "metadata": {},
   "outputs": [],
   "source": [
    "def classify_text(classifier, tf_idf_train, tf_idf_test, y_train):\n",
    "    classifier.fit(tf_idf_train, y_train)\n",
    "    train_preds = classifier.predict(tf_idf_train)\n",
    "    test_preds = classifier.predict(tf_idf_test)\n",
    "    return train_preds, test_preds"
   ]
  },
  {
   "cell_type": "markdown",
   "metadata": {},
   "source": [
    "### Scoring function to score predictions"
   ]
  },
  {
   "cell_type": "code",
   "execution_count": 31,
   "metadata": {},
   "outputs": [],
   "source": [
    "def score_preds(y_test,y_train,test_preds, train_preds):\n",
    "    print(\"Train: \", accuracy_score(y_train, train_preds))\n",
    "    print(\"Test: \", accuracy_score(y_test, test_preds))\n",
    "#     confusion_matrix(y_test, test_preds)\n",
    "#     confusion_matrix(y_train, train_preds)"
   ]
  },
  {
   "cell_type": "markdown",
   "metadata": {},
   "source": [
    "### Make baseline RF and NB models"
   ]
  },
  {
   "cell_type": "code",
   "execution_count": 18,
   "metadata": {},
   "outputs": [],
   "source": [
    "rfc = RandomForestClassifier(n_estimators=100)\n",
    "nb_classifier = MultinomialNB()"
   ]
  },
  {
   "cell_type": "code",
   "execution_count": 19,
   "metadata": {},
   "outputs": [
    {
     "data": {
      "text/plain": [
       "(150639, 49407)"
      ]
     },
     "execution_count": 19,
     "metadata": {},
     "output_type": "execute_result"
    }
   ],
   "source": [
    "idf_train.shape"
   ]
  },
  {
   "cell_type": "code",
   "execution_count": 23,
   "metadata": {},
   "outputs": [
    {
     "data": {
      "text/plain": [
       "(50214,)"
      ]
     },
     "execution_count": 23,
     "metadata": {},
     "output_type": "execute_result"
    }
   ],
   "source": [
    "y_t.shape"
   ]
  },
  {
   "cell_type": "code",
   "execution_count": 24,
   "metadata": {},
   "outputs": [],
   "source": [
    "#Call function using results of vectorize function using NB model\n",
    "nb_train_preds, nb_test_preds = classify_text(nb_classifier, idf_train, idf_test, y_tr)"
   ]
  },
  {
   "cell_type": "code",
   "execution_count": 32,
   "metadata": {},
   "outputs": [
    {
     "name": "stdout",
     "output_type": "stream",
     "text": [
      "Train:  0.45857314506867414\n",
      "Test:  0.41116023419763414\n"
     ]
    }
   ],
   "source": [
    "#Call function for score\n",
    "score_preds(y_t, y_tr, nb_test_preds, nb_train_preds)"
   ]
  },
  {
   "cell_type": "code",
   "execution_count": 25,
   "metadata": {},
   "outputs": [],
   "source": [
    "#Call function using results of vectorize function using RF model\n",
    "rf_train_preds, rf_test_preds = classify_text(rfc, idf_train, idf_test, y_tr)"
   ]
  },
  {
   "cell_type": "code",
   "execution_count": 33,
   "metadata": {},
   "outputs": [
    {
     "name": "stdout",
     "output_type": "stream",
     "text": [
      "Train:  0.9978425241803252\n",
      "Test:  0.5324411518699964\n"
     ]
    }
   ],
   "source": [
    "#Call function for score\n",
    "score_preds(y_t, y_tr, rf_test_preds, rf_train_preds)"
   ]
  }
 ],
 "metadata": {
  "kernelspec": {
   "display_name": "learn-env",
   "language": "python",
   "name": "learn-env"
  },
  "language_info": {
   "codemirror_mode": {
    "name": "ipython",
    "version": 3
   },
   "file_extension": ".py",
   "mimetype": "text/x-python",
   "name": "python",
   "nbconvert_exporter": "python",
   "pygments_lexer": "ipython3",
   "version": "3.9.5"
  }
 },
 "nbformat": 4,
 "nbformat_minor": 4
}
