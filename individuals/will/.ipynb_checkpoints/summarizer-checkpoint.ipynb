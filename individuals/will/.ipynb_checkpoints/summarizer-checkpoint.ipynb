{
 "cells": [
  {
   "cell_type": "markdown",
   "metadata": {},
   "source": [
    "# 0. Installing Transformers and Importing Dependencies"
   ]
  },
  {
   "cell_type": "code",
   "execution_count": null,
   "metadata": {},
   "outputs": [],
   "source": [
    "!pip install transformers"
   ]
  },
  {
   "cell_type": "code",
   "execution_count": 1,
   "metadata": {
    "tags": []
   },
   "outputs": [],
   "source": [
    "from transformers import pipeline"
   ]
  },
  {
   "cell_type": "markdown",
   "metadata": {},
   "source": [
    "# 1. Load Summarization Pipeline"
   ]
  },
  {
   "cell_type": "code",
   "execution_count": 2,
   "metadata": {},
   "outputs": [
    {
     "data": {
      "application/vnd.jupyter.widget-view+json": {
       "model_id": "6b8ff6a3125f4f0dba8ee61ca3bea0ed",
       "version_major": 2,
       "version_minor": 0
      },
      "text/plain": [
       "Downloading:   0%|          | 0.00/1.80k [00:00<?, ?B/s]"
      ]
     },
     "metadata": {},
     "output_type": "display_data"
    },
    {
     "data": {
      "application/vnd.jupyter.widget-view+json": {
       "model_id": "0f218c2553614e0b84274ca6f0a46c5f",
       "version_major": 2,
       "version_minor": 0
      },
      "text/plain": [
       "Downloading:   0%|          | 0.00/1.22G [00:00<?, ?B/s]"
      ]
     },
     "metadata": {},
     "output_type": "display_data"
    },
    {
     "data": {
      "application/vnd.jupyter.widget-view+json": {
       "model_id": "318862084d6d4b05b5dc9b88f34c1c2e",
       "version_major": 2,
       "version_minor": 0
      },
      "text/plain": [
       "Downloading:   0%|          | 0.00/899k [00:00<?, ?B/s]"
      ]
     },
     "metadata": {},
     "output_type": "display_data"
    },
    {
     "data": {
      "application/vnd.jupyter.widget-view+json": {
       "model_id": "ffce300a083d4c51bf1d731f77239922",
       "version_major": 2,
       "version_minor": 0
      },
      "text/plain": [
       "Downloading:   0%|          | 0.00/456k [00:00<?, ?B/s]"
      ]
     },
     "metadata": {},
     "output_type": "display_data"
    },
    {
     "data": {
      "application/vnd.jupyter.widget-view+json": {
       "model_id": "b34ff71369c14247ac5b2ea77a4cd17c",
       "version_major": 2,
       "version_minor": 0
      },
      "text/plain": [
       "Downloading:   0%|          | 0.00/26.0 [00:00<?, ?B/s]"
      ]
     },
     "metadata": {},
     "output_type": "display_data"
    }
   ],
   "source": [
    "summarizer = pipeline(\"summarization\")"
   ]
  },
  {
   "cell_type": "markdown",
   "metadata": {},
   "source": [
    "# 2. Summarize Text"
   ]
  },
  {
   "cell_type": "markdown",
   "metadata": {},
   "source": [
    "With limited access to phones and no right to a public defender, parents might not be able to find out where their children are. \n",
    "\n",
    "The ORR worked with the DHS to locate parents in immigration custody in about 700 cases since October 2017, according to an ORR spokesperson. \n",
    "\n",
    "Even before the Trump administration concretized the immigration changes this month, family separation at the border sparked legal challenges.\n",
    "In February the American Civil Liberties Union filed a lawsuit on behalf of a Congolese woman who crossed at a port of entry with her daughter.\n",
    "The two were separated despite crossing legally.\n",
    "The ACLU is asking a federal judge to issue a nationwide injunction barring the federal government from separating families at the border, arguing that it violates the Fifth Amendment’s due process clause. \n",
    "“This is as horrific a policy as I’ve seen in 25-plus years doing civil rights work,” Lee Gelerent, an attorney with the ACLU’s Immigrant Rights Project, told HuffPost.\n",
    "“No child should be sent to these government facilities if they don’t have to be, especially with all these problems in the ORR system.”\n",
    "Those cases are now becoming more common.\n",
    "At a recent immigration prosecution hearing in Tucson, Arizona, a 36-year-old Guatemalan woman named Alma Jacinto asked through her assigned lawyer when she could be reunited with her two children, who were separated from her when they crossed the border. Neither the magistrate judge nor the prosecutor knew the answer. \n",
    "\n",
    "\n",
    "In another case, reported by the Houston Chronicle, Esteban Pastor was deported to Guatemala after U.S. authorities separated him from his 18-month-old child.\n",
    "He was unable to locate the child after he returned to Guatemala. \n",
    "“God only knows how many of the kids will get reunited or how they will be reunited when the parents are prosecuted,” said Judy Greene, a co-author of Indefensible: A Decade of Mass Incarceration of Migrants Prosecuted for Crossing the Border.\n",
    "“This is devastating.” "
   ]
  },
  {
   "cell_type": "code",
   "execution_count": 43,
   "metadata": {},
   "outputs": [],
   "source": [
    "ARTICLE = \"\"\"\n",
    "Tens of thousands of children from Central America are apprehended at the U.S.-Mexico border each year, straining the government system caring for minors traveling to the U.S. without their parents.\n",
    "Now Donald Trump’s administration is stretching the system even further. \n",
    "Until recently, families that illegally crossed together generally faced deportation proceedings in civil court. But as of this month, the Trump administration is following a blanket policy of referring for prosecution all people who cross illegally.\\\n",
    "The change means that authorities send parents to jails run by the U.S. Marshals Services and their children wind up in the same agency as minors who came to the U.S. without their parents ― sometimes without their parents being able to locate them. \n",
    "\n",
    "White House chief of staff John Kelly told NPR this month that once separated from their parents, children “will be taken care of — put into foster care or whatever.” \n",
    "\n",
    "That “whatever” is the custody of the Office of Refugee Resettlement, part of the Department of Health and Human Services, which takes custody of unaccompanied children apprehended at the border, who by law may not be immediately deported\n",
    "The ORR is charged with finding a sponsor for the children to live with ― ideally, a parent. \n",
    "Even before Trump administration officials announced the new policy, the ORR was showing signs of strain. \n",
    "While the number of children apprehended while traveling without their parents is lower than it was at its peak in 2014, border agents picked up more than 26,000 unaccompanied minors since October.\n",
    "The ORR recently lost track of nearly 1,500 children once in its custody and in 2014 released some minors to traffickers. \n",
    "\n",
    "“They’re crippling an already overwhelmed system,” Michelle Brané, the director of migrant rights and justice at the Women’s Refugee Commission, said of the administration’s decision.\n",
    "“You take that situation in which children are released, and then there’s little to no follow-up, and add hundreds and hundreds of children ― thousands of children, eventually ― and you’re multiplying the level of the problem.” \n",
    "\n",
    "Last month Steven Wagner, the acting assistant secretary of the Administration for Children and Families, which includes the ORR, told a Senate subcommittee that the federal government was unable to locate 1,475 children who had been released from its custody when it called to check in on them from October the end of 2017.\n",
    "An additional 28 had run away, and 52 were living with someone other than their initial sponsor, he said. \n",
    "Once an unaccompanied minor is placed with a sponsor, “he or she ceases to be in the custody of the U.S. government, and all HHS-provided subsistence — food, shelter, clothing, health care and education — ends at that point, and the child becomes the responsibility of his or her parent, guardian or sponsor,” a spokesperson for the agency said in a statement. \n",
    "The ORR typically calls to check in with sponsors 30 days after releasing a child, but that’s it.\n",
    "The children have little in the way of other help; the government does not provide immigrants with attorneys for removal proceedings, even if they’re children, leaving them to navigate a complicated legal process on their own.\n",
    "This is as horrific a policy as I’ve seen in 25-plus years doing civil rights work.\n",
    "The ORR has already come under scrutiny from some members of Congress, particularly after it was revealed that it released several minors in 2014 to sponsors who ended up being traffickers.\n",
    "HHS and the Department of Homeland Security were supposed to have a joint plan for dealing with unaccompanied minors by February 2017 but failed to meet their deadline.\n",
    "The agencies told the Senate’s permanent subcommittee on investigations last month that they would complete their plan by July 30, according to the office of Sen. Rob Portman (R-Ohio), who chairs the subcommittee and has pressed for quicker action. \n",
    "\n",
    "Now the government could be facing an influx of children, many of them likely to be younger than the average age of minors who traveled without parents.\n",
    "Meanwhile, the Trump administration is taking steps that could deter some sponsors from coming forward to take in children.\n",
    "The ORR previously checked fingerprints of potential sponsors to conduct background checks, and now it has a memorandum of understanding to share that information with Immigration and Customs Enforcement, which could have a chilling effect for undocumented parents already in the U.S. whose children came to join them. \n",
    "\n",
    "Parents in government custody are now in many cases unable to locate their children.\n",
    "After the parents serve time for the misdemeanor offense of illegal entry ― typically a sentence of only a few days and often no more than time served ― they’re then transferred to ICE for deportation.\n",
    "\n",
    "\"\"\""
   ]
  },
  {
   "cell_type": "code",
   "execution_count": 44,
   "metadata": {},
   "outputs": [
    {
     "data": {
      "text/plain": [
       "[{'summary_text': ' Thousands of children from Central America are apprehended at the U.S.-Mexico border each year . Donald Trump’s administration is following a blanket policy of referring for prosecution all people who cross illegally . The change means that authorities send parents to jails and their children to the same agency .'}]"
      ]
     },
     "execution_count": 44,
     "metadata": {},
     "output_type": "execute_result"
    }
   ],
   "source": [
    "summarizer(ARTICLE, max_length=130, min_length=30, do_sample=False)"
   ]
  },
  {
   "cell_type": "code",
   "execution_count": 45,
   "metadata": {},
   "outputs": [
    {
     "data": {
      "text/plain": [
       "4820"
      ]
     },
     "execution_count": 45,
     "metadata": {},
     "output_type": "execute_result"
    }
   ],
   "source": [
    "len(ARTICLE)"
   ]
  }
 ],
 "metadata": {
  "kernelspec": {
   "display_name": "Python 3",
   "language": "python",
   "name": "python3"
  },
  "language_info": {
   "codemirror_mode": {
    "name": "ipython",
    "version": 3
   },
   "file_extension": ".py",
   "mimetype": "text/x-python",
   "name": "python",
   "nbconvert_exporter": "python",
   "pygments_lexer": "ipython3",
   "version": "3.9.5"
  }
 },
 "nbformat": 4,
 "nbformat_minor": 4
}
