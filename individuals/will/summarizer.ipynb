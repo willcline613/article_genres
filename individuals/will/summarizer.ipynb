{
 "cells": [
  {
   "cell_type": "markdown",
   "metadata": {},
   "source": [
    "# 0. Installing Transformers and Importing Dependencies"
   ]
  },
  {
   "cell_type": "code",
   "execution_count": null,
   "metadata": {},
   "outputs": [],
   "source": [
    "!pip install transformers"
   ]
  },
  {
   "cell_type": "code",
   "execution_count": null,
   "metadata": {},
   "outputs": [],
   "source": [
    "from transformers import pipeline"
   ]
  },
  {
   "cell_type": "code",
   "execution_count": 12,
   "metadata": {},
   "outputs": [],
   "source": [
    "import pickle"
   ]
  },
  {
   "cell_type": "code",
   "execution_count": 2,
   "metadata": {},
   "outputs": [],
   "source": [
    "import pandas as pd"
   ]
  },
  {
   "cell_type": "markdown",
   "metadata": {},
   "source": [
    "# 1. Load Summarization Pipeline"
   ]
  },
  {
   "cell_type": "code",
   "execution_count": 6,
   "metadata": {},
   "outputs": [],
   "source": [
    "# summarizer = pipeline(\"summarization\")"
   ]
  },
  {
   "cell_type": "code",
   "execution_count": 7,
   "metadata": {},
   "outputs": [],
   "source": [
    "# with open('summarizer.pickle', 'wb') as handle:\n",
    "#      pickle.dump(summarizer, handle, protocol=pickle.HIGHEST_PROTOCOL)"
   ]
  },
  {
   "cell_type": "code",
   "execution_count": 13,
   "metadata": {},
   "outputs": [],
   "source": [
    "with open('summarizer_model.pickle', 'rb') as handle:\n",
    "    summarizer = pickle.load(handle)"
   ]
  },
  {
   "cell_type": "code",
   "execution_count": 6,
   "metadata": {},
   "outputs": [],
   "source": [
    "app_test = pd.read_csv('app_test.csv')"
   ]
  },
  {
   "cell_type": "code",
   "execution_count": 8,
   "metadata": {},
   "outputs": [],
   "source": [
    "article = app_test[\"article\"]"
   ]
  },
  {
   "cell_type": "code",
   "execution_count": 16,
   "metadata": {},
   "outputs": [
    {
     "data": {
      "text/plain": [
       "'\\nTens of thousands of children from Central America are apprehended at the U.S.-Mexico border each year, straining the government system caring for minors traveling to the U.S. without their parents.\\nNow Donald Trump’s administration is stretching the system even further. \\nUntil recently, families that illegally crossed together generally faced deportation proceedings in civil court. But as of\\xa0this month, the Trump administration is following a blanket policy of referring for prosecution all people who cross illegally.The change means that authorities send parents to jails run by the U.S. Marshals Services\\xa0and\\xa0their children wind up in the same agency as minors who came to the U.S. without their parents ― sometimes without their parents being able to locate them. \\n\\nWhite House chief of staff John Kelly told NPR this month that once separated from their parents, children “will be taken care of — put into foster care or whatever.” \\n\\nThat “whatever” is the custody of the Office of Refugee Resettlement, part of the Department of Health and Human Services, which takes custody of unaccompanied children apprehended at the border, who by law may not be immediately deported\\nThe ORR is charged with finding a sponsor for the children to live with ― ideally, a parent. \\nEven before Trump administration officials announced the new policy, the ORR was showing signs of strain. \\nWhile the number of children apprehended while traveling without their parents is lower than it was at its peak in 2014, border agents picked up more than 26,000 unaccompanied minors since October.\\nThe ORR recently lost track of nearly 1,500 children once in its custody and in 2014 released some minors to traffickers. \\n\\n“They’re crippling an already overwhelmed system,” Michelle Brané, the director of migrant rights and justice at the Women’s Refugee Commission, said of the administration’s decision.\\n“You take that situation in which children are released, and then there’s little to no follow-up, and add hundreds and hundreds of children ― thousands of children, eventually ― and you’re multiplying the level of the problem.” \\n\\nLast month Steven Wagner, the acting assistant secretary of the Administration for Children and Families, which includes the ORR, told a Senate subcommittee that the federal government was unable to locate 1,475 children who had been released from its custody when it called to check in on them from October the end of 2017.\\nAn additional 28 had run away, and 52 were living with someone other than their initial sponsor, he said. \\nOnce an unaccompanied minor is placed with a sponsor, “he or she ceases to be in the custody of the U.S. government, and all HHS-provided subsistence\\xa0— food, shelter, clothing, health care and education —\\xa0ends at that point, and the child becomes the responsibility of his or her parent, guardian or sponsor,” a spokesperson for the agency said in a statement. \\nThe ORR typically calls to check in with sponsors 30 days after releasing a child, but that’s it.\\nThe children have little in the way of other help; the government does not provide immigrants with attorneys for removal proceedings, even if they’re children, leaving them to navigate a complicated legal process on their own.\\nThis is as horrific a policy as I’ve seen in 25-plus years doing civil rights work.\\nThe ORR has already come under scrutiny from some members of Congress, particularly after it was revealed that it released several minors in 2014 to sponsors who ended up being traffickers.\\nHHS and the Department of Homeland Security were supposed to have a joint plan for dealing with unaccompanied minors by February 2017 but failed to meet their deadline.\\nThe agencies told the Senate’s permanent subcommittee on investigations last month that they would complete their plan by July 30, according to the office of Sen. Rob Portman (R-Ohio), who chairs the subcommittee and has pressed for quicker action. \\n\\nNow the government could be facing an influx of children, many of them likely to be younger than the average age of minors who traveled without parents.\\nMeanwhile, the Trump administration is taking steps that could deter some sponsors from coming forward to take in children.\\nThe ORR previously checked fingerprints of potential sponsors to conduct background checks,\\xa0and now it has a memorandum of understanding to share that information with Immigration and Customs Enforcement, which could have a chilling effect for undocumented parents already in the U.S. whose children came to join them. \\n\\nParents in government custody are now in many cases unable to locate their children.\\nAfter the parents serve time for the misdemeanor offense of illegal entry ― typically a sentence of only a few days and often no more than time served ― they’re then transferred to ICE for deportation.\\n\\n'"
      ]
     },
     "execution_count": 16,
     "metadata": {},
     "output_type": "execute_result"
    }
   ],
   "source": [
    "article[0]"
   ]
  },
  {
   "cell_type": "markdown",
   "metadata": {},
   "source": [
    "# 2. Summarize Text"
   ]
  },
  {
   "cell_type": "code",
   "execution_count": 10,
   "metadata": {},
   "outputs": [],
   "source": [
    "ARTICLE = \"\"\"\n",
    "Tens of thousands of children from Central America are apprehended at the U.S.-Mexico border each year, straining the government system caring for minors traveling to the U.S. without their parents.\n",
    "Now Donald Trump’s administration is stretching the system even further. \n",
    "Until recently, families that illegally crossed together generally faced deportation proceedings in civil court. But as of this month, the Trump administration is following a blanket policy of referring for prosecution all people who cross illegally.\\\n",
    "The change means that authorities send parents to jails run by the U.S. Marshals Services and their children wind up in the same agency as minors who came to the U.S. without their parents ― sometimes without their parents being able to locate them. \n",
    "\n",
    "White House chief of staff John Kelly told NPR this month that once separated from their parents, children “will be taken care of — put into foster care or whatever.” \n",
    "\n",
    "That “whatever” is the custody of the Office of Refugee Resettlement, part of the Department of Health and Human Services, which takes custody of unaccompanied children apprehended at the border, who by law may not be immediately deported\n",
    "The ORR is charged with finding a sponsor for the children to live with ― ideally, a parent. \n",
    "Even before Trump administration officials announced the new policy, the ORR was showing signs of strain. \n",
    "While the number of children apprehended while traveling without their parents is lower than it was at its peak in 2014, border agents picked up more than 26,000 unaccompanied minors since October.\n",
    "The ORR recently lost track of nearly 1,500 children once in its custody and in 2014 released some minors to traffickers. \n",
    "\n",
    "“They’re crippling an already overwhelmed system,” Michelle Brané, the director of migrant rights and justice at the Women’s Refugee Commission, said of the administration’s decision.\n",
    "“You take that situation in which children are released, and then there’s little to no follow-up, and add hundreds and hundreds of children ― thousands of children, eventually ― and you’re multiplying the level of the problem.” \n",
    "\n",
    "Last month Steven Wagner, the acting assistant secretary of the Administration for Children and Families, which includes the ORR, told a Senate subcommittee that the federal government was unable to locate 1,475 children who had been released from its custody when it called to check in on them from October the end of 2017.\n",
    "An additional 28 had run away, and 52 were living with someone other than their initial sponsor, he said. \n",
    "Once an unaccompanied minor is placed with a sponsor, “he or she ceases to be in the custody of the U.S. government, and all HHS-provided subsistence — food, shelter, clothing, health care and education — ends at that point, and the child becomes the responsibility of his or her parent, guardian or sponsor,” a spokesperson for the agency said in a statement. \n",
    "The ORR typically calls to check in with sponsors 30 days after releasing a child, but that’s it.\n",
    "The children have little in the way of other help; the government does not provide immigrants with attorneys for removal proceedings, even if they’re children, leaving them to navigate a complicated legal process on their own.\n",
    "This is as horrific a policy as I’ve seen in 25-plus years doing civil rights work.\n",
    "The ORR has already come under scrutiny from some members of Congress, particularly after it was revealed that it released several minors in 2014 to sponsors who ended up being traffickers.\n",
    "HHS and the Department of Homeland Security were supposed to have a joint plan for dealing with unaccompanied minors by February 2017 but failed to meet their deadline.\n",
    "The agencies told the Senate’s permanent subcommittee on investigations last month that they would complete their plan by July 30, according to the office of Sen. Rob Portman (R-Ohio), who chairs the subcommittee and has pressed for quicker action. \n",
    "\n",
    "Now the government could be facing an influx of children, many of them likely to be younger than the average age of minors who traveled without parents.\n",
    "Meanwhile, the Trump administration is taking steps that could deter some sponsors from coming forward to take in children.\n",
    "The ORR previously checked fingerprints of potential sponsors to conduct background checks, and now it has a memorandum of understanding to share that information with Immigration and Customs Enforcement, which could have a chilling effect for undocumented parents already in the U.S. whose children came to join them. \n",
    "\n",
    "Parents in government custody are now in many cases unable to locate their children.\n",
    "After the parents serve time for the misdemeanor offense of illegal entry ― typically a sentence of only a few days and often no more than time served ― they’re then transferred to ICE for deportation.\n",
    "\n",
    "\"\"\""
   ]
  },
  {
   "cell_type": "code",
   "execution_count": 18,
   "metadata": {},
   "outputs": [
    {
     "name": "stderr",
     "output_type": "stream",
     "text": [
      "/Users/willcline/opt/anaconda3/envs/learn-env/lib/python3.9/site-packages/torch/_tensor.py:575: UserWarning: floor_divide is deprecated, and will be removed in a future version of pytorch. It currently rounds toward 0 (like the 'trunc' function NOT 'floor'). This results in incorrect rounding for negative values.\n",
      "To keep the current behavior, use torch.div(a, b, rounding_mode='trunc'), or for actual floor division, use torch.div(a, b, rounding_mode='floor'). (Triggered internally at  /Users/distiller/project/conda/conda-bld/pytorch_1623459065530/work/aten/src/ATen/native/BinaryOps.cpp:467.)\n",
      "  return torch.floor_divide(self, other)\n"
     ]
    }
   ],
   "source": [
    "text = summarizer(article[0], max_length=120, min_length=30, do_sample=False)"
   ]
  },
  {
   "cell_type": "code",
   "execution_count": 25,
   "metadata": {},
   "outputs": [
    {
     "data": {
      "text/plain": [
       "' Thousands of children from Central America are apprehended at the U.S.-Mexico border each year . Donald Trump’s administration is following a blanket policy of referring for prosecution all people who cross illegally . The change means that authorities send parents to jails and their children to the same agency .'"
      ]
     },
     "execution_count": 25,
     "metadata": {},
     "output_type": "execute_result"
    }
   ],
   "source": [
    "text[0]['summary_text']"
   ]
  },
  {
   "cell_type": "code",
   "execution_count": 45,
   "metadata": {},
   "outputs": [
    {
     "data": {
      "text/plain": [
       "4820"
      ]
     },
     "execution_count": 45,
     "metadata": {},
     "output_type": "execute_result"
    }
   ],
   "source": [
    "len(ARTICLE)"
   ]
  }
 ],
 "metadata": {
  "kernelspec": {
   "display_name": "learn-env",
   "language": "python",
   "name": "learn-env"
  },
  "language_info": {
   "codemirror_mode": {
    "name": "ipython",
    "version": 3
   },
   "file_extension": ".py",
   "mimetype": "text/x-python",
   "name": "python",
   "nbconvert_exporter": "python",
   "pygments_lexer": "ipython3",
   "version": "3.9.5"
  }
 },
 "nbformat": 4,
 "nbformat_minor": 4
}
