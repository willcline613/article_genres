{
 "cells": [
  {
   "cell_type": "markdown",
   "metadata": {},
   "source": [
    "# 0. Installing Transformers and Importing Dependencies"
   ]
  },
  {
   "cell_type": "code",
   "execution_count": null,
   "metadata": {},
   "outputs": [],
   "source": [
    "!pip install transformers"
   ]
  },
  {
   "cell_type": "code",
   "execution_count": 26,
   "metadata": {},
   "outputs": [],
   "source": [
    "from transformers import pipeline"
   ]
  },
  {
   "cell_type": "code",
   "execution_count": 27,
   "metadata": {},
   "outputs": [],
   "source": [
    "import pickle"
   ]
  },
  {
   "cell_type": "code",
   "execution_count": 28,
   "metadata": {},
   "outputs": [],
   "source": [
    "import pandas as pd"
   ]
  },
  {
   "cell_type": "markdown",
   "metadata": {},
   "source": [
    "# 1. Load Summarization Pipeline"
   ]
  },
  {
   "cell_type": "code",
   "execution_count": 29,
   "metadata": {},
   "outputs": [],
   "source": [
    "# summarizer = pipeline(\"summarization\")"
   ]
  },
  {
   "cell_type": "code",
   "execution_count": 30,
   "metadata": {},
   "outputs": [],
   "source": [
    "# with open('summarizer.pickle', 'wb') as handle:\n",
    "#      pickle.dump(summarizer, handle, protocol=pickle.HIGHEST_PROTOCOL)"
   ]
  },
  {
   "cell_type": "code",
   "execution_count": 31,
   "metadata": {},
   "outputs": [],
   "source": [
    "with open('summarizer_model.pickle', 'rb') as handle:\n",
    "    summarizer = pickle.load(handle)"
   ]
  },
  {
   "cell_type": "code",
   "execution_count": 32,
   "metadata": {},
   "outputs": [],
   "source": [
    "app_test = pd.read_csv('app_test.csv')"
   ]
  },
  {
   "cell_type": "code",
   "execution_count": 8,
   "metadata": {},
   "outputs": [],
   "source": [
    "article = app_test[\"article\"]"
   ]
  },
  {
   "cell_type": "markdown",
   "metadata": {},
   "source": [
    "# 2. Summarize Text"
   ]
  },
  {
   "cell_type": "code",
   "execution_count": 43,
   "metadata": {},
   "outputs": [],
   "source": [
    "ARTICLE = \"\"\"What does it mean to be happy? It is the most elusive of questions, and permeates much of our daily lives. While we toil away in our work and personal lives, we secretly pray for happiness. \"I just want to be happy,\" so many people say. But do we even know what happiness is?\n",
    "\n",
    "In the past few years, a science of happiness has cropped up in the field of psychology. There are many studies on every aspect of happiness, the most coveted of all human achievements. After much scientific discussion and review, researchers have come to define happiness as the ability to sustain an overall sense of well being over time. However, the capacity to generate and maintain well-being while coping with daily challenges requires quite a bit of emotional flexibility.\n",
    "\n",
    "Traditionally, scientists suggested that a person's happiness might have a particular \"set-point,\" a level above which he or she does not usually reach. Yet recent studies are finding new and interesting trends. Sonja Lyubomirsky, Ph.D., happiness researcher and author of The How of Happiness and The Myths of Happiness, says that people are more able to play a direct role in the attainment of their own joy than earlier studies indicated. Her research showed that happiness levels increased when people took a few surprisingly simple steps:\n",
    "\n",
    "• Count your blessings\n",
    "• Reframe situations in a positive light\n",
    "• Perform acts of kindness\n",
    "\n",
    "Those participants who expressed gratitude and kept an optimistic outlook were less depressed and happier than the control group. Happy people, Lyubomirsky says, choose to be happy by taking steps to ensure it.\n",
    "\n",
    "It might not be as difficult as it sounds. As filmmaker Woody Allen put it in the film Shadows and Fog, \"...we're all happy, if we only knew it.\" So, perhaps attaining happiness is more about uncovering the joy that is already within us -- though clouded over with doubt -- rather than seeking to find it \"out there.\" Much like we think the sky is ominous and overcast until we board an airplane, ascend through the clouds, and see that, yes, the sun is actually shining all the time. Through this new reorientation, discovering well-being as innate, we start to glimpse the inner wellspring from which happiness flows.\n",
    "\n",
    "Another important aspect of happiness is human connection and physical touch. An Australian study measured the relationship between the health and happiness of almost 60,000 males. The study found that men who hugged scored above the national male average for happiness, were thinner, and even wealthier, than men who didn't hug. The evidence is clear: more hugs equals more happiness. The problem is that most of us are looking for happiness in all the wrong places, chasing after ephemeral phantom wisps rather than the real thing.\n",
    "\n",
    "There is a big difference between hedonic happiness (getting a shiny new car) and eudemonic happiness (focusing on meaning). One is fleeting, the other long lasting. Contrary to some of our most basic fears, happiness is not something to be earned. In contrast, the truth is that every person has a birthright to happiness, just for having been born. At the same time, there is no happiness \"how-to\" handbook. Thus, in my quest to discover exactly how to achieve the happiness we all so desperately seek, I met with a highly revered Tibetan Lama, Gelek Rimpoche, the spiritual director of Jewel Heart in Ann Arbor, Michigan.\n",
    "\n",
    "Sitting quietly in his office study, I asked the Lama what helps people experience a richer life? \"Satisfaction,\" he quickly answered. \"It is very important to learn how to be satisfied with whatever you have in life. And desire?\" he continued. \"Desires have no limitations; they always 'want.' If you let desire run your life, you're in big trouble. And if you know how to have satisfaction and be happy, then you'll know how to manage your life, no matter whether you're rich, poor, man, woman, child -- whatever you may be. Compassion is key to happiness,\" he explained, \"and compassion is based on love.\"\n",
    "Eudemonic happiness is experienced as a byproduct of love. While hanging out with a best friend, being with our family, watching a sunset, taking a walk on the beach, or listening to the sounds of a favorite song, we transcend our ordinary state of mind and feel happiness deep in our belly, happiness that has the capacity to soften our heart. A new designer handbag (handsome as it is), can never deliver this kind of happiness.\n",
    "\"\"\""
   ]
  },
  {
   "cell_type": "code",
   "execution_count": 44,
   "metadata": {},
   "outputs": [],
   "source": [
    "text = summarizer(ARTICLE, max_length=120, min_length=30, do_sample=False)"
   ]
  },
  {
   "cell_type": "code",
   "execution_count": 45,
   "metadata": {},
   "outputs": [
    {
     "data": {
      "text/plain": [
       "' There are many studies on every aspect of happiness, the most coveted of all human achievements . Researchers define happiness as the ability to sustain an overall sense of well being over time . Happiness is not something to be earned, says author Sonja Lyubomirsky, Ph.D., author of The How of Happiness .'"
      ]
     },
     "execution_count": 45,
     "metadata": {},
     "output_type": "execute_result"
    }
   ],
   "source": [
    "text[0]['summary_text']"
   ]
  },
  {
   "cell_type": "code",
   "execution_count": 45,
   "metadata": {},
   "outputs": [
    {
     "data": {
      "text/plain": [
       "4820"
      ]
     },
     "execution_count": 45,
     "metadata": {},
     "output_type": "execute_result"
    }
   ],
   "source": [
    "len(ARTICLE)"
   ]
  }
 ],
 "metadata": {
  "kernelspec": {
   "display_name": "learn-env",
   "language": "python",
   "name": "learn-env"
  },
  "language_info": {
   "codemirror_mode": {
    "name": "ipython",
    "version": 3
   },
   "file_extension": ".py",
   "mimetype": "text/x-python",
   "name": "python",
   "nbconvert_exporter": "python",
   "pygments_lexer": "ipython3",
   "version": "3.9.5"
  }
 },
 "nbformat": 4,
 "nbformat_minor": 4
}
