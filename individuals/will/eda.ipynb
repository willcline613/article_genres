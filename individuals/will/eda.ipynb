{
 "cells": [
  {
   "cell_type": "code",
   "execution_count": 203,
   "metadata": {},
   "outputs": [
    {
     "name": "stderr",
     "output_type": "stream",
     "text": [
      "[nltk_data] Downloading package stopwords to\n",
      "[nltk_data]     /Users/willcline/nltk_data...\n",
      "[nltk_data]   Package stopwords is already up-to-date!\n"
     ]
    },
    {
     "data": {
      "text/plain": [
       "True"
      ]
     },
     "execution_count": 203,
     "metadata": {},
     "output_type": "execute_result"
    }
   ],
   "source": [
    "import pandas as pd\n",
    "import numpy as np\n",
    "import matplotlib.pyplot as plt\n",
    "from sklearn.ensemble import RandomForestClassifier\n",
    "from sklearn.naive_bayes import MultinomialNB\n",
    "from sklearn.metrics import accuracy_score, confusion_matrix\n",
    "from sklearn.model_selection import train_test_split\n",
    "from sklearn.feature_extraction.text import TfidfVectorizer\n",
    "from nltk.stem import PorterStemmer, WordNetLemmatizer\n",
    "import string\n",
    "import pickle\n",
    "import nltk\n",
    "from nltk.corpus import stopwords\n",
    "nltk.download('stopwords')"
   ]
  },
  {
   "cell_type": "code",
   "execution_count": 206,
   "metadata": {},
   "outputs": [],
   "source": [
    "path = \"../../data/News_Category_Dataset_v2.json\""
   ]
  },
  {
   "cell_type": "code",
   "execution_count": 213,
   "metadata": {},
   "outputs": [],
   "source": [
    "df = pd.read_json(path,lines=True)"
   ]
  },
  {
   "cell_type": "code",
   "execution_count": 214,
   "metadata": {},
   "outputs": [
    {
     "data": {
      "text/html": [
       "<div>\n",
       "<style scoped>\n",
       "    .dataframe tbody tr th:only-of-type {\n",
       "        vertical-align: middle;\n",
       "    }\n",
       "\n",
       "    .dataframe tbody tr th {\n",
       "        vertical-align: top;\n",
       "    }\n",
       "\n",
       "    .dataframe thead th {\n",
       "        text-align: right;\n",
       "    }\n",
       "</style>\n",
       "<table border=\"1\" class=\"dataframe\">\n",
       "  <thead>\n",
       "    <tr style=\"text-align: right;\">\n",
       "      <th></th>\n",
       "      <th>category</th>\n",
       "      <th>headline</th>\n",
       "      <th>authors</th>\n",
       "      <th>link</th>\n",
       "      <th>short_description</th>\n",
       "      <th>date</th>\n",
       "    </tr>\n",
       "  </thead>\n",
       "  <tbody>\n",
       "    <tr>\n",
       "      <th>0</th>\n",
       "      <td>CRIME</td>\n",
       "      <td>There Were 2 Mass Shootings In Texas Last Week...</td>\n",
       "      <td>Melissa Jeltsen</td>\n",
       "      <td>https://www.huffingtonpost.com/entry/texas-ama...</td>\n",
       "      <td>She left her husband. He killed their children...</td>\n",
       "      <td>2018-05-26</td>\n",
       "    </tr>\n",
       "    <tr>\n",
       "      <th>1</th>\n",
       "      <td>ENTERTAINMENT</td>\n",
       "      <td>Will Smith Joins Diplo And Nicky Jam For The 2...</td>\n",
       "      <td>Andy McDonald</td>\n",
       "      <td>https://www.huffingtonpost.com/entry/will-smit...</td>\n",
       "      <td>Of course it has a song.</td>\n",
       "      <td>2018-05-26</td>\n",
       "    </tr>\n",
       "  </tbody>\n",
       "</table>\n",
       "</div>"
      ],
      "text/plain": [
       "        category                                           headline  \\\n",
       "0          CRIME  There Were 2 Mass Shootings In Texas Last Week...   \n",
       "1  ENTERTAINMENT  Will Smith Joins Diplo And Nicky Jam For The 2...   \n",
       "\n",
       "           authors                                               link  \\\n",
       "0  Melissa Jeltsen  https://www.huffingtonpost.com/entry/texas-ama...   \n",
       "1    Andy McDonald  https://www.huffingtonpost.com/entry/will-smit...   \n",
       "\n",
       "                                   short_description       date  \n",
       "0  She left her husband. He killed their children... 2018-05-26  \n",
       "1                           Of course it has a song. 2018-05-26  "
      ]
     },
     "execution_count": 214,
     "metadata": {},
     "output_type": "execute_result"
    }
   ],
   "source": [
    "df.head(2)"
   ]
  },
  {
   "cell_type": "code",
   "execution_count": 215,
   "metadata": {
    "jupyter": {
     "source_hidden": true
    },
    "tags": []
   },
   "outputs": [
    {
     "data": {
      "text/plain": [
       "POLITICS          32739\n",
       "WELLNESS          17827\n",
       "ENTERTAINMENT     16058\n",
       "TRAVEL             9887\n",
       "STYLE & BEAUTY     9649\n",
       "PARENTING          8677\n",
       "HEALTHY LIVING     6694\n",
       "QUEER VOICES       6314\n",
       "FOOD & DRINK       6226\n",
       "BUSINESS           5937\n",
       "COMEDY             5175\n",
       "SPORTS             4884\n",
       "BLACK VOICES       4528\n",
       "HOME & LIVING      4195\n",
       "PARENTS            3955\n",
       "THE WORLDPOST      3664\n",
       "WEDDINGS           3651\n",
       "WOMEN              3490\n",
       "IMPACT             3459\n",
       "DIVORCE            3426\n",
       "CRIME              3405\n",
       "MEDIA              2815\n",
       "WEIRD NEWS         2670\n",
       "GREEN              2622\n",
       "WORLDPOST          2579\n",
       "RELIGION           2556\n",
       "STYLE              2254\n",
       "SCIENCE            2178\n",
       "WORLD NEWS         2177\n",
       "TASTE              2096\n",
       "TECH               2082\n",
       "MONEY              1707\n",
       "ARTS               1509\n",
       "FIFTY              1401\n",
       "GOOD NEWS          1398\n",
       "ARTS & CULTURE     1339\n",
       "ENVIRONMENT        1323\n",
       "COLLEGE            1144\n",
       "LATINO VOICES      1129\n",
       "CULTURE & ARTS     1030\n",
       "EDUCATION          1004\n",
       "Name: category, dtype: int64"
      ]
     },
     "execution_count": 215,
     "metadata": {},
     "output_type": "execute_result"
    }
   ],
   "source": [
    "df.category.value_counts()"
   ]
  },
  {
   "cell_type": "code",
   "execution_count": 220,
   "metadata": {},
   "outputs": [],
   "source": [
    "df.category = df.category.replace([\"ARTS\"], \"ARTS & CULTURE\").replace(['THE WORLDPOST'], 'WORLD NEWS').replace(['STYLE'], 'STYLE & BEAUTY')\\\n",
    ".replace(['TASTE'], 'FOOD & DRINK').replace(['WELLNESS'], 'HEALTHY LIVING').replace(['PARENTING'], 'PARENTS').replace(['MONEY'], 'BUSINESS')\\\n",
    ".replace(['COLLEGE'], 'EDUCATION').replace(['GREEN'], 'ENVIRONMENT')\n",
    "df = df[~df.category.isin(['WEIRD NEWS', 'IMPACT', 'GOOD NEWS'])]"
   ]
  },
  {
   "cell_type": "code",
   "execution_count": 231,
   "metadata": {},
   "outputs": [],
   "source": [
    "df = df[~df.category.isin(['WEIRD NEWS', 'IMPACT', 'GOOD NEWS'])]"
   ]
  },
  {
   "cell_type": "code",
   "execution_count": 232,
   "metadata": {},
   "outputs": [
    {
     "data": {
      "text/plain": [
       "array(['CRIME', 'ENTERTAINMENT', 'WORLD NEWS', 'POLITICS', 'BLACK VOICES',\n",
       "       'WOMEN', 'COMEDY', 'QUEER VOICES', 'SPORTS', 'BUSINESS', 'TRAVEL',\n",
       "       'MEDIA', 'TECH', 'RELIGION', 'SCIENCE', 'LATINO VOICES',\n",
       "       'EDUCATION', 'PARENTS', 'ARTS & CULTURE', 'STYLE & BEAUTY',\n",
       "       'ENVIRONMENT', 'FOOD & DRINK', 'HEALTHY LIVING', 'WORLDPOST',\n",
       "       'FIFTY', 'HOME & LIVING', 'DIVORCE', 'WEDDINGS', 'CULTURE & ARTS'],\n",
       "      dtype=object)"
      ]
     },
     "execution_count": 232,
     "metadata": {},
     "output_type": "execute_result"
    }
   ],
   "source": [
    "df.category.unique()"
   ]
  },
  {
   "cell_type": "code",
   "execution_count": null,
   "metadata": {},
   "outputs": [],
   "source": [
    "#test to see if combined\n",
    "df[df[\"category\"]==\"CRIME\"]"
   ]
  },
  {
   "cell_type": "code",
   "execution_count": 131,
   "metadata": {},
   "outputs": [
    {
     "name": "stdout",
     "output_type": "stream",
     "text": [
      "Emilia Clarke Dishes On Her Final 'Game Of Thrones' Scene\n",
      "Now we're really curious about the farewell season.\n",
      "https://www.huffingtonpost.com/entry/emilia-clarke-game-of-thrones-final-scne_us_5b08137fe4b0568a880ac1af\n"
     ]
    }
   ],
   "source": [
    "ind = 20\n",
    "C = 'ENTERTAINMENT'\n",
    "print(df[df['category']==C].reset_index()[\"headline\"][ind])\n",
    "print(df[df['category']==C].reset_index()[\"short_description\"][ind])\n",
    "print(df[df['category']==C].reset_index()[\"link\"][ind])\n"
   ]
  },
  {
   "cell_type": "code",
   "execution_count": 95,
   "metadata": {},
   "outputs": [],
   "source": [
    "travel = df[df['category']==\"TRAVEL\"].reset_index(drop=True)"
   ]
  },
  {
   "cell_type": "code",
   "execution_count": 97,
   "metadata": {},
   "outputs": [],
   "source": [
    "#iloc finds specific index(30)\n",
    "travel_test = travel.iloc[[ind]]"
   ]
  },
  {
   "cell_type": "code",
   "execution_count": 81,
   "metadata": {},
   "outputs": [],
   "source": [
    "entertainment = df[df['category']==\"ENTERTAINMENT\"].reset_index(drop=True)"
   ]
  },
  {
   "cell_type": "code",
   "execution_count": 82,
   "metadata": {},
   "outputs": [],
   "source": [
    "#iloc finds specific index(20)\n",
    "entertainment_test = ENTERTAINMENT.iloc[[ind]]"
   ]
  },
  {
   "cell_type": "code",
   "execution_count": 70,
   "metadata": {},
   "outputs": [],
   "source": [
    "wellness = df[df['category']==\"WELLNESS\"].reset_index(drop=True)"
   ]
  },
  {
   "cell_type": "code",
   "execution_count": 71,
   "metadata": {},
   "outputs": [],
   "source": [
    "#iloc finds specific index(29ish)\n",
    "wellness_test = wellness.iloc[[ind]]"
   ]
  },
  {
   "cell_type": "code",
   "execution_count": 107,
   "metadata": {},
   "outputs": [],
   "source": [
    "entertainment_article = \"\"\"\n",
    "Emilia Clarke had a few intriguing things to say about her character Daenerys Targaryen’s final moment on “Game of Thrones,” set to air in 2019.\n",
    "\n",
    "“It fucked me up,” the 31-year-old actress told Vanity Fair.\n",
    "“Knowing that is going to be a lasting flavor in someone’s mouth of what Daenerys is ... ”\n",
    "\n",
    "And if that’s not enough to whet your appetite for the HBO fantasy, she said of the entire farewell season: “I’m doing all this weird shit. You’ll know what I mean when you see it.”\n",
    "\n",
    "She gave no hint as to whether Daenerys will win dominion over all seven kingdoms of Westeros, so we’ll just have to stay tuned. \n",
    "\n",
    "“It really is the most heartbreaking thing to be filming the last of anything,” Clarke told “Good Morning America” on Wednesday. “I’ve become an emotional wreck on set. They’re like ‘Emilia…it’s OK,’ and I’m like, ‘But it’s the last time!’”\n",
    "\n",
    "Fans hope the time will fly until the final season arrives.\n",
    "\n",
    "\n",
    "In the meantime, Clarke can be seen playing Qi’ra in “Solo: A Star Wars Story” and doing a poor Chewbacca impression on a talk show.\n",
    "\"\"\""
   ]
  },
  {
   "cell_type": "code",
   "execution_count": 104,
   "metadata": {},
   "outputs": [],
   "source": [
    "travel_article = \"\"\"\n",
    "\n",
    "United Airlines is evaluating the way it handles pets after a string of animal-related mishaps last week — including one incident in which a puppy died in an aircraft’s overhead bin.\n",
    "\n",
    "The company announced on Tuesday that it will temporarily stop taking new reservations for PetSafe, its program in which animals travel in the plane’s cargo compartment, until May 1. It will, however, still honor reservations that have already been made for the service.\n",
    "\n",
    "“We are deeply committed to the safety and comfort of the animals and pets in our care,” the airline wrote in a post on its site. “We are conducting a thorough and systematic review of our program for pets that travel in the cargo compartment to make improvements that will ensure the best possible experience for our customers and their pets.”\n",
    "\n",
    "Last week was an extraordinary bad week for pets flying on United. On Tuesday, a German shepherd wound up in Japan and a Great Dane flew to Kansas City, Missouri, after the airline mixed up their destinations.\n",
    "\n",
    "On Thursday, a St. Louis-bound flight had to take a sudden detour when the airline discovered it had loaded a dog in cargo that was meant to go to Akron, Ohio.\n",
    "\n",
    "United told the Chicago Tribune that all three dogs were reunited with their owners and all 33 passengers aboard the diverted flight to St. Louis were compensated for the inconvenience.\n",
    "\n",
    "These hiccups, however, pale in comparison to a heartbreaking incident that occurred on Monday, when a 10-month-old French bulldog died after its owners said a flight attendant insisted the puppy and its carrier be stored in the cabin’s overhead bin and the animal suffocated.\n",
    "\n",
    "Though United is temporarily pausing its program for pets traveling in cargo, the suspension will not affect pets that are traveling with their owners in cabins.\n",
    "\n",
    "United’s announcement on Tuesday mentions that the company is reviewing its service for cabin-flying pets and will “issue bright colored bag tags to help better identify pets who are traveling in-cabin.”\n",
    "\n",
    "When HuffPost asked United for additional information about pets flying in cabins, the company directed us to its detail about colored tags. The company also said the “flight attendant did not hear or understand” the passengers who were asked to store the carrier containing their puppy in the overhead bin, which United called a “tragic accident.”\"\"\""
   ]
  },
  {
   "cell_type": "code",
   "execution_count": 105,
   "metadata": {},
   "outputs": [],
   "source": [
    "wellness_article = \"\"\"What does it mean to be happy? It is the most elusive of questions, and permeates much of our daily lives. While we toil away in our work and personal lives, we secretly pray for happiness. \"I just want to be happy,\" so many people say. But do we even know what happiness is?\n",
    "\n",
    "In the past few years, a science of happiness has cropped up in the field of psychology. There are many studies on every aspect of happiness, the most coveted of all human achievements. After much scientific discussion and review, researchers have come to define happiness as the ability to sustain an overall sense of well being over time. However, the capacity to generate and maintain well-being while coping with daily challenges requires quite a bit of emotional flexibility.\n",
    "\n",
    "Traditionally, scientists suggested that a person's happiness might have a particular \"set-point,\" a level above which he or she does not usually reach. Yet recent studies are finding new and interesting trends. Sonja Lyubomirsky, Ph.D., happiness researcher and author of The How of Happiness and The Myths of Happiness, says that people are more able to play a direct role in the attainment of their own joy than earlier studies indicated. Her research showed that happiness levels increased when people took a few surprisingly simple steps:\n",
    "\n",
    "• Count your blessings\n",
    "• Reframe situations in a positive light\n",
    "• Perform acts of kindness\n",
    "\n",
    "Those participants who expressed gratitude and kept an optimistic outlook were less depressed and happier than the control group. Happy people, Lyubomirsky says, choose to be happy by taking steps to ensure it.\n",
    "\n",
    "It might not be as difficult as it sounds. As filmmaker Woody Allen put it in the film Shadows and Fog, \"...we're all happy, if we only knew it.\" So, perhaps attaining happiness is more about uncovering the joy that is already within us -- though clouded over with doubt -- rather than seeking to find it \"out there.\" Much like we think the sky is ominous and overcast until we board an airplane, ascend through the clouds, and see that, yes, the sun is actually shining all the time. Through this new reorientation, discovering well-being as innate, we start to glimpse the inner wellspring from which happiness flows.\n",
    "\n",
    "Another important aspect of happiness is human connection and physical touch. An Australian study measured the relationship between the health and happiness of almost 60,000 males. The study found that men who hugged scored above the national male average for happiness, were thinner, and even wealthier, than men who didn't hug. The evidence is clear: more hugs equals more happiness. The problem is that most of us are looking for happiness in all the wrong places, chasing after ephemeral phantom wisps rather than the real thing.\n",
    "\n",
    "There is a big difference between hedonic happiness (getting a shiny new car) and eudemonic happiness (focusing on meaning). One is fleeting, the other long lasting. Contrary to some of our most basic fears, happiness is not something to be earned. In contrast, the truth is that every person has a birthright to happiness, just for having been born. At the same time, there is no happiness \"how-to\" handbook. Thus, in my quest to discover exactly how to achieve the happiness we all so desperately seek, I met with a highly revered Tibetan Lama, Gelek Rimpoche, the spiritual director of Jewel Heart in Ann Arbor, Michigan.\n",
    "\n",
    "Sitting quietly in his office study, I asked the Lama what helps people experience a richer life? \"Satisfaction,\" he quickly answered. \"It is very important to learn how to be satisfied with whatever you have in life. And desire?\" he continued. \"Desires have no limitations; they always 'want.' If you let desire run your life, you're in big trouble. And if you know how to have satisfaction and be happy, then you'll know how to manage your life, no matter whether you're rich, poor, man, woman, child -- whatever you may be. Compassion is key to happiness,\" he explained, \"and compassion is based on love.\"\n",
    "Eudemonic happiness is experienced as a byproduct of love. While hanging out with a best friend, being with our family, watching a sunset, taking a walk on the beach, or listening to the sounds of a favorite song, we transcend our ordinary state of mind and feel happiness deep in our belly, happiness that has the capacity to soften our heart. A new designer handbag (handsome as it is), can never deliver this kind of happiness.\n",
    "\"\"\""
   ]
  },
  {
   "cell_type": "code",
   "execution_count": 108,
   "metadata": {},
   "outputs": [],
   "source": [
    "test_articles = [entertainment_article,wellness_article,travel_article]"
   ]
  },
  {
   "cell_type": "code",
   "execution_count": 103,
   "metadata": {},
   "outputs": [],
   "source": [
    "#Create app_test_df with 3 sample rows from 3 popular columns\n",
    "app_test_df = entertainment_test.append([wellness_test,travel_test])"
   ]
  },
  {
   "cell_type": "code",
   "execution_count": 169,
   "metadata": {},
   "outputs": [],
   "source": [
    "app_test_df.reset_index(drop=True,inplace=True)"
   ]
  },
  {
   "cell_type": "code",
   "execution_count": 176,
   "metadata": {},
   "outputs": [
    {
     "data": {
      "text/plain": [
       "\"Emilia Clarke Dishes On Her Final 'Game Of Thrones' Scene\""
      ]
     },
     "execution_count": 176,
     "metadata": {},
     "output_type": "execute_result"
    }
   ],
   "source": [
    "#add matching articles to app test df for deployment testing\n",
    "pd.DataFrame(app_test_df[app_test_df['headline']==\"Emilia Clarke Dishes On Her Final 'Game Of Thrones' Scene\"])[\"headline\"].item()"
   ]
  },
  {
   "cell_type": "code",
   "execution_count": 168,
   "metadata": {},
   "outputs": [
    {
     "data": {
      "text/html": [
       "<div>\n",
       "<style scoped>\n",
       "    .dataframe tbody tr th:only-of-type {\n",
       "        vertical-align: middle;\n",
       "    }\n",
       "\n",
       "    .dataframe tbody tr th {\n",
       "        vertical-align: top;\n",
       "    }\n",
       "\n",
       "    .dataframe thead th {\n",
       "        text-align: right;\n",
       "    }\n",
       "</style>\n",
       "<table border=\"1\" class=\"dataframe\">\n",
       "  <thead>\n",
       "    <tr style=\"text-align: right;\">\n",
       "      <th></th>\n",
       "      <th>category</th>\n",
       "      <th>headline</th>\n",
       "      <th>authors</th>\n",
       "      <th>link</th>\n",
       "      <th>short_description</th>\n",
       "      <th>date</th>\n",
       "      <th>article</th>\n",
       "    </tr>\n",
       "  </thead>\n",
       "  <tbody>\n",
       "    <tr>\n",
       "      <th>0</th>\n",
       "      <td>ENTERTAINMENT</td>\n",
       "      <td>Emilia Clarke Dishes On Her Final 'Game Of Thr...</td>\n",
       "      <td>Ron Dicker</td>\n",
       "      <td>https://www.huffingtonpost.com/entry/emilia-cl...</td>\n",
       "      <td>Now we're really curious about the farewell se...</td>\n",
       "      <td>2018-05-25</td>\n",
       "      <td>\\nEmilia Clarke had a few intriguing things to...</td>\n",
       "    </tr>\n",
       "    <tr>\n",
       "      <th>1</th>\n",
       "      <td>WELLNESS</td>\n",
       "      <td>Mindfulness in Everyday Life: Desperately Seek...</td>\n",
       "      <td>Donna Rockwell, Contributor\\nClinical Psycholo...</td>\n",
       "      <td>https://www.huffingtonpost.com/entry/mindfulne...</td>\n",
       "      <td>What does it mean to be happy? It is the most ...</td>\n",
       "      <td>2014-04-17</td>\n",
       "      <td>What does it mean to be happy? It is the most ...</td>\n",
       "    </tr>\n",
       "    <tr>\n",
       "      <th>2</th>\n",
       "      <td>TRAVEL</td>\n",
       "      <td>United Airlines Temporarily Suspends Cargo Tra...</td>\n",
       "      <td>Elyse Wanshel</td>\n",
       "      <td>https://www.huffingtonpost.com/entry/united-su...</td>\n",
       "      <td>The decision follows multiple pet-related mish...</td>\n",
       "      <td>2018-03-20</td>\n",
       "      <td>\\n\\nUnited Airlines is evaluating the way it h...</td>\n",
       "    </tr>\n",
       "  </tbody>\n",
       "</table>\n",
       "</div>"
      ],
      "text/plain": [
       "        category                                           headline  \\\n",
       "0  ENTERTAINMENT  Emilia Clarke Dishes On Her Final 'Game Of Thr...   \n",
       "1       WELLNESS  Mindfulness in Everyday Life: Desperately Seek...   \n",
       "2         TRAVEL  United Airlines Temporarily Suspends Cargo Tra...   \n",
       "\n",
       "                                             authors  \\\n",
       "0                                         Ron Dicker   \n",
       "1  Donna Rockwell, Contributor\\nClinical Psycholo...   \n",
       "2                                      Elyse Wanshel   \n",
       "\n",
       "                                                link  \\\n",
       "0  https://www.huffingtonpost.com/entry/emilia-cl...   \n",
       "1  https://www.huffingtonpost.com/entry/mindfulne...   \n",
       "2  https://www.huffingtonpost.com/entry/united-su...   \n",
       "\n",
       "                                   short_description       date  \\\n",
       "0  Now we're really curious about the farewell se... 2018-05-25   \n",
       "1  What does it mean to be happy? It is the most ... 2014-04-17   \n",
       "2  The decision follows multiple pet-related mish... 2018-03-20   \n",
       "\n",
       "                                             article  \n",
       "0  \\nEmilia Clarke had a few intriguing things to...  \n",
       "1  What does it mean to be happy? It is the most ...  \n",
       "2  \\n\\nUnited Airlines is evaluating the way it h...  "
      ]
     },
     "execution_count": 168,
     "metadata": {},
     "output_type": "execute_result"
    }
   ],
   "source": [
    "app_test_df"
   ]
  },
  {
   "cell_type": "code",
   "execution_count": 137,
   "metadata": {},
   "outputs": [
    {
     "data": {
      "text/plain": [
       "29    Donna Rockwell, Contributor\\nClinical Psycholo...\n",
       "Name: authors, dtype: object"
      ]
     },
     "execution_count": 137,
     "metadata": {},
     "output_type": "execute_result"
    }
   ],
   "source": [
    "app_test_df['authors'].iloc[[1]]"
   ]
  },
  {
   "cell_type": "code",
   "execution_count": 134,
   "metadata": {},
   "outputs": [],
   "source": [
    "app_test_df.to_csv(\"app_test_df.csv\")"
   ]
  },
  {
   "cell_type": "code",
   "execution_count": null,
   "metadata": {},
   "outputs": [],
   "source": [
    "df['all_words'] = df['headline'] + \"; \" + df['short_description']"
   ]
  },
  {
   "cell_type": "code",
   "execution_count": 8,
   "metadata": {},
   "outputs": [],
   "source": [
    "df['category'] = df['category'].replace(['CULTURE & ARTS'],'ARTS & CULTURE')"
   ]
  },
  {
   "cell_type": "code",
   "execution_count": 9,
   "metadata": {},
   "outputs": [],
   "source": [
    "df.drop(['link', 'date'], axis=1, inplace=True)"
   ]
  },
  {
   "cell_type": "code",
   "execution_count": 10,
   "metadata": {},
   "outputs": [
    {
     "data": {
      "text/html": [
       "<div>\n",
       "<style scoped>\n",
       "    .dataframe tbody tr th:only-of-type {\n",
       "        vertical-align: middle;\n",
       "    }\n",
       "\n",
       "    .dataframe tbody tr th {\n",
       "        vertical-align: top;\n",
       "    }\n",
       "\n",
       "    .dataframe thead th {\n",
       "        text-align: right;\n",
       "    }\n",
       "</style>\n",
       "<table border=\"1\" class=\"dataframe\">\n",
       "  <thead>\n",
       "    <tr style=\"text-align: right;\">\n",
       "      <th></th>\n",
       "      <th>category</th>\n",
       "      <th>headline</th>\n",
       "      <th>authors</th>\n",
       "      <th>short_description</th>\n",
       "      <th>all_words</th>\n",
       "    </tr>\n",
       "  </thead>\n",
       "  <tbody>\n",
       "    <tr>\n",
       "      <th>0</th>\n",
       "      <td>CRIME</td>\n",
       "      <td>There Were 2 Mass Shootings In Texas Last Week...</td>\n",
       "      <td>Melissa Jeltsen</td>\n",
       "      <td>She left her husband. He killed their children...</td>\n",
       "      <td>There Were 2 Mass Shootings In Texas Last Week...</td>\n",
       "    </tr>\n",
       "    <tr>\n",
       "      <th>1</th>\n",
       "      <td>ENTERTAINMENT</td>\n",
       "      <td>Will Smith Joins Diplo And Nicky Jam For The 2...</td>\n",
       "      <td>Andy McDonald</td>\n",
       "      <td>Of course it has a song.</td>\n",
       "      <td>Will Smith Joins Diplo And Nicky Jam For The 2...</td>\n",
       "    </tr>\n",
       "  </tbody>\n",
       "</table>\n",
       "</div>"
      ],
      "text/plain": [
       "        category                                           headline  \\\n",
       "0          CRIME  There Were 2 Mass Shootings In Texas Last Week...   \n",
       "1  ENTERTAINMENT  Will Smith Joins Diplo And Nicky Jam For The 2...   \n",
       "\n",
       "           authors                                  short_description  \\\n",
       "0  Melissa Jeltsen  She left her husband. He killed their children...   \n",
       "1    Andy McDonald                           Of course it has a song.   \n",
       "\n",
       "                                           all_words  \n",
       "0  There Were 2 Mass Shootings In Texas Last Week...  \n",
       "1  Will Smith Joins Diplo And Nicky Jam For The 2...  "
      ]
     },
     "execution_count": 10,
     "metadata": {},
     "output_type": "execute_result"
    }
   ],
   "source": [
    "df.head(2)"
   ]
  },
  {
   "cell_type": "code",
   "execution_count": 11,
   "metadata": {},
   "outputs": [],
   "source": [
    "value_counts = round(df.category.value_counts(normalize=True)*100,2)"
   ]
  },
  {
   "cell_type": "markdown",
   "metadata": {},
   "source": [
    "## By categories"
   ]
  },
  {
   "cell_type": "code",
   "execution_count": 12,
   "metadata": {},
   "outputs": [],
   "source": [
    "#gets cat df, X, and y\n",
    "def get_cat(cat, df):\n",
    "    cat_df = df[df['category']==cat]\n",
    "    cat_X = df.drop('category', axis=1)\n",
    "    cat_y = df.category\n",
    "    return cat_df, cat_X, cat_y"
   ]
  },
  {
   "cell_type": "code",
   "execution_count": 13,
   "metadata": {},
   "outputs": [],
   "source": [
    "crime_df, crime_X, crime_y = get_cat('CRIME', df)"
   ]
  },
  {
   "cell_type": "markdown",
   "metadata": {},
   "source": [
    "## Cleans, Lemmatizes, Tokenizes each Category and puts them in Dictionary. Dictionary is Pickled and function call is commented out so it doesn't load every time"
   ]
  },
  {
   "cell_type": "code",
   "execution_count": 14,
   "metadata": {},
   "outputs": [],
   "source": [
    "def cat_eda(df):\n",
    "    category_list = df['category'].value_counts().index.tolist()\n",
    "    \n",
    "    cat_df_dict = {}\n",
    "    for category in category_list:\n",
    "        cat_df, cat_X, cat_y = get_cat(category, df)\n",
    "        cat_df['lower_desc'] = cat_df['headline'].apply(lambda x: \" \".join(x.lower() for x in x.split()))\n",
    "        cat_df['lower_desc'] = cat_df['lower_desc'].str.replace('[^\\w\\s]','')\n",
    "        #stopword gathering and removal\n",
    "        stop = stopwords.words('english')\n",
    "        cat_df['lower_desc'] = cat_df['lower_desc'].apply(lambda x: \" \".join(x for x in x.split() if x not in stop))\n",
    "        desc_str = ' '.join(cat_df['lower_desc'].tolist())\n",
    "        tokens = nltk.word_tokenize(desc_str) #tokenizing\n",
    "        #lemmatize after tokenizing\n",
    "        lemmatizer = WordNetLemmatizer()\n",
    "        lemmatized_tokens = ' '.join([lemmatizer.lemmatize(token) for token in tokens])\n",
    "        tokens = nltk.word_tokenize(lemmatized_tokens)\n",
    "        \n",
    "#         tfidf_vect = TfidfVectorizer(analyzer=tokens)\n",
    "#         X_tfidf = tfidf_vect.fit_transform(df[category])\n",
    "        fdist_pos = nltk.FreqDist(tokens)\n",
    "        top_100_words = fdist_pos.most_common(100)\n",
    "        top_words_df = pd.DataFrame(top_100_words, columns = ('word', 'count'))\n",
    "        \n",
    "        cat_df_dict[category] = top_words_df\n",
    "    return cat_df_dict\n",
    "#         print(tfidf_vect)\n",
    "#         print(X_tfidf) "
   ]
  },
  {
   "cell_type": "code",
   "execution_count": 18,
   "metadata": {
    "tags": []
   },
   "outputs": [
    {
     "name": "stderr",
     "output_type": "stream",
     "text": [
      "<ipython-input-14-eebd8b023015>:7: SettingWithCopyWarning: \n",
      "A value is trying to be set on a copy of a slice from a DataFrame.\n",
      "Try using .loc[row_indexer,col_indexer] = value instead\n",
      "\n",
      "See the caveats in the documentation: https://pandas.pydata.org/pandas-docs/stable/user_guide/indexing.html#returning-a-view-versus-a-copy\n",
      "  cat_df['lower_desc'] = cat_df['headline'].apply(lambda x: \" \".join(x.lower() for x in x.split()))\n",
      "<ipython-input-14-eebd8b023015>:8: SettingWithCopyWarning: \n",
      "A value is trying to be set on a copy of a slice from a DataFrame.\n",
      "Try using .loc[row_indexer,col_indexer] = value instead\n",
      "\n",
      "See the caveats in the documentation: https://pandas.pydata.org/pandas-docs/stable/user_guide/indexing.html#returning-a-view-versus-a-copy\n",
      "  cat_df['lower_desc'] = cat_df['lower_desc'].str.replace('[^\\w\\s]','')\n",
      "<ipython-input-14-eebd8b023015>:11: SettingWithCopyWarning: \n",
      "A value is trying to be set on a copy of a slice from a DataFrame.\n",
      "Try using .loc[row_indexer,col_indexer] = value instead\n",
      "\n",
      "See the caveats in the documentation: https://pandas.pydata.org/pandas-docs/stable/user_guide/indexing.html#returning-a-view-versus-a-copy\n",
      "  cat_df['lower_desc'] = cat_df['lower_desc'].apply(lambda x: \" \".join(x for x in x.split() if x not in stop))\n"
     ]
    },
    {
     "name": "stdout",
     "output_type": "stream",
     "text": [
      "POLITICS\n",
      "WELLNESS\n",
      "ENTERTAINMENT\n",
      "TRAVEL\n",
      "STYLE & BEAUTY\n",
      "PARENTING\n",
      "HEALTHY LIVING\n",
      "QUEER VOICES\n",
      "FOOD & DRINK\n",
      "BUSINESS\n",
      "COMEDY\n",
      "SPORTS\n",
      "BLACK VOICES\n",
      "HOME & LIVING\n",
      "PARENTS\n",
      "THE WORLDPOST\n",
      "WEDDINGS\n",
      "WOMEN\n",
      "IMPACT\n",
      "DIVORCE\n",
      "CRIME\n",
      "MEDIA\n",
      "WEIRD NEWS\n",
      "GREEN\n",
      "WORLDPOST\n",
      "RELIGION\n",
      "ARTS & CULTURE\n",
      "STYLE\n",
      "SCIENCE\n",
      "WORLD NEWS\n",
      "TASTE\n",
      "TECH\n",
      "MONEY\n",
      "ARTS\n",
      "FIFTY\n",
      "GOOD NEWS\n",
      "ENVIRONMENT\n",
      "COLLEGE\n",
      "LATINO VOICES\n",
      "EDUCATION\n"
     ]
    }
   ],
   "source": [
    "cat_df_dict = cat_eda(df)\n",
    "\n",
    "# with open('cat_df_dict.pickle', 'wb') as handle:\n",
    "#     pickle.dump(cat_df_dict, handle, protocol=pickle.HIGHEST_PROTOCOL)"
   ]
  },
  {
   "cell_type": "code",
   "execution_count": 16,
   "metadata": {},
   "outputs": [
    {
     "ename": "AttributeError",
     "evalue": "Can't get attribute 'new_block' on <module 'pandas.core.internals.blocks' from '/Users/willcline/opt/anaconda3/envs/learn-env/lib/python3.9/site-packages/pandas/core/internals/blocks.py'>",
     "output_type": "error",
     "traceback": [
      "\u001b[0;31m---------------------------------------------------------------------------\u001b[0m",
      "\u001b[0;31mAttributeError\u001b[0m                            Traceback (most recent call last)",
      "\u001b[0;32m<ipython-input-16-1fdef3ed5c36>\u001b[0m in \u001b[0;36m<module>\u001b[0;34m\u001b[0m\n\u001b[1;32m      1\u001b[0m \u001b[0;32mwith\u001b[0m \u001b[0mopen\u001b[0m\u001b[0;34m(\u001b[0m\u001b[0;34m'cat_df_dict.pickle'\u001b[0m\u001b[0;34m,\u001b[0m \u001b[0;34m'rb'\u001b[0m\u001b[0;34m)\u001b[0m \u001b[0;32mas\u001b[0m \u001b[0mhandle\u001b[0m\u001b[0;34m:\u001b[0m\u001b[0;34m\u001b[0m\u001b[0;34m\u001b[0m\u001b[0m\n\u001b[0;32m----> 2\u001b[0;31m     \u001b[0mcat_df_dict\u001b[0m \u001b[0;34m=\u001b[0m \u001b[0mpickle\u001b[0m\u001b[0;34m.\u001b[0m\u001b[0mload\u001b[0m\u001b[0;34m(\u001b[0m\u001b[0mhandle\u001b[0m\u001b[0;34m)\u001b[0m\u001b[0;34m\u001b[0m\u001b[0;34m\u001b[0m\u001b[0m\n\u001b[0m",
      "\u001b[0;31mAttributeError\u001b[0m: Can't get attribute 'new_block' on <module 'pandas.core.internals.blocks' from '/Users/willcline/opt/anaconda3/envs/learn-env/lib/python3.9/site-packages/pandas/core/internals/blocks.py'>"
     ]
    }
   ],
   "source": [
    "with open('cat_df_dict.pickle', 'rb') as handle:\n",
    "    cat_df_dict = pickle.load(handle)"
   ]
  },
  {
   "cell_type": "code",
   "execution_count": 86,
   "metadata": {},
   "outputs": [],
   "source": [
    "#which categories have the most articles?\n",
    "top_topics = round(df[\"category\"].value_counts(normalize=True)*100, 2)"
   ]
  },
  {
   "cell_type": "code",
   "execution_count": 93,
   "metadata": {},
   "outputs": [],
   "source": [
    "top_topics_df = pd.DataFrame(top_topics)"
   ]
  },
  {
   "cell_type": "code",
   "execution_count": 96,
   "metadata": {},
   "outputs": [],
   "source": [
    "top_topics_df.columns=['percentage']"
   ]
  },
  {
   "cell_type": "code",
   "execution_count": 99,
   "metadata": {},
   "outputs": [],
   "source": [
    "top_topics_df['percentage']= top_topics_df['percentage'].apply(lambda per: str(per)+ '%')"
   ]
  },
  {
   "cell_type": "code",
   "execution_count": 102,
   "metadata": {},
   "outputs": [
    {
     "data": {
      "text/plain": [
       "40"
      ]
     },
     "execution_count": 102,
     "metadata": {},
     "output_type": "execute_result"
    }
   ],
   "source": [
    "len(top_topics_df)"
   ]
  },
  {
   "cell_type": "code",
   "execution_count": 100,
   "metadata": {},
   "outputs": [
    {
     "data": {
      "text/html": [
       "<div>\n",
       "<style scoped>\n",
       "    .dataframe tbody tr th:only-of-type {\n",
       "        vertical-align: middle;\n",
       "    }\n",
       "\n",
       "    .dataframe tbody tr th {\n",
       "        vertical-align: top;\n",
       "    }\n",
       "\n",
       "    .dataframe thead th {\n",
       "        text-align: right;\n",
       "    }\n",
       "</style>\n",
       "<table border=\"1\" class=\"dataframe\">\n",
       "  <thead>\n",
       "    <tr style=\"text-align: right;\">\n",
       "      <th></th>\n",
       "      <th>percentage</th>\n",
       "    </tr>\n",
       "  </thead>\n",
       "  <tbody>\n",
       "    <tr>\n",
       "      <th>POLITICS</th>\n",
       "      <td>16.3%</td>\n",
       "    </tr>\n",
       "    <tr>\n",
       "      <th>WELLNESS</th>\n",
       "      <td>8.88%</td>\n",
       "    </tr>\n",
       "    <tr>\n",
       "      <th>ENTERTAINMENT</th>\n",
       "      <td>7.99%</td>\n",
       "    </tr>\n",
       "    <tr>\n",
       "      <th>TRAVEL</th>\n",
       "      <td>4.92%</td>\n",
       "    </tr>\n",
       "    <tr>\n",
       "      <th>STYLE &amp; BEAUTY</th>\n",
       "      <td>4.8%</td>\n",
       "    </tr>\n",
       "    <tr>\n",
       "      <th>PARENTING</th>\n",
       "      <td>4.32%</td>\n",
       "    </tr>\n",
       "    <tr>\n",
       "      <th>HEALTHY LIVING</th>\n",
       "      <td>3.33%</td>\n",
       "    </tr>\n",
       "  </tbody>\n",
       "</table>\n",
       "</div>"
      ],
      "text/plain": [
       "               percentage\n",
       "POLITICS            16.3%\n",
       "WELLNESS            8.88%\n",
       "ENTERTAINMENT       7.99%\n",
       "TRAVEL              4.92%\n",
       "STYLE & BEAUTY       4.8%\n",
       "PARENTING           4.32%\n",
       "HEALTHY LIVING      3.33%"
      ]
     },
     "execution_count": 100,
     "metadata": {},
     "output_type": "execute_result"
    }
   ],
   "source": [
    "#outputs top 7 topics which account for 50% of the articles\n",
    "top_topics_df[:7]"
   ]
  },
  {
   "cell_type": "markdown",
   "metadata": {},
   "source": [
    "### Print the top words for any category by changin \"cat\" variable in next line"
   ]
  },
  {
   "cell_type": "code",
   "execution_count": 29,
   "metadata": {},
   "outputs": [],
   "source": [
    "cat_top = cat_df_dict[cat].sort_values(by='count', ascending=False)"
   ]
  },
  {
   "cell_type": "code",
   "execution_count": 76,
   "metadata": {},
   "outputs": [
    {
     "data": {
      "image/png": "[encoded data removed]",
      "text/plain": [
       "<Figure size 360x216 with 1 Axes>"
      ]
     },
     "metadata": {
      "needs_background": "light"
     },
     "output_type": "display_data"
    }
   ],
   "source": [
    "cat = \"POLITICS\"\n",
    "fig, ax = plt.subplots(figsize=(5,3))\n",
    "cat_top = cat_df_dict[cat].sort_values(by='count',ascending=False).head()\n",
    "cat_top.plot.barh(x='word',\n",
    "                      y='count',\n",
    "                      ax=ax,\n",
    "                      color=\"#4FA79A\", fontsize=20).invert_yaxis()\n",
    "\n",
    "ax.set_title(f\"{cat}\", fontsize=20)\n",
    "ax.tick_params(axis='x', labelsize=12)\n",
    "\n",
    "plt.show()"
   ]
  },
  {
   "cell_type": "code",
   "execution_count": 77,
   "metadata": {},
   "outputs": [
    {
     "data": {
      "image/png": "[encoded data removed]",
      "text/plain": [
       "<Figure size 360x216 with 1 Axes>"
      ]
     },
     "metadata": {
      "needs_background": "light"
     },
     "output_type": "display_data"
    }
   ],
   "source": [
    "cat = \"WELLNESS\"\n",
    "fig, ax = plt.subplots(figsize=(5,3))\n",
    "cat_top = cat_df_dict[cat].sort_values(by='count',ascending=False).head()\n",
    "cat_top.plot.barh(x='word',\n",
    "                      y='count',\n",
    "                      ax=ax,\n",
    "                      color=\"#4FA79A\", fontsize=20).invert_yaxis()\n",
    "\n",
    "ax.set_title(f\"{cat}\", fontsize=20)\n",
    "ax.tick_params(axis='x', labelsize=12)\n",
    "\n",
    "plt.show()"
   ]
  },
  {
   "cell_type": "code",
   "execution_count": 78,
   "metadata": {},
   "outputs": [
    {
     "data": {
      "image/png": "[encoded data removed]",
      "text/plain": [
       "<Figure size 360x216 with 1 Axes>"
      ]
     },
     "metadata": {
      "needs_background": "light"
     },
     "output_type": "display_data"
    }
   ],
   "source": [
    "cat = \"ENTERTAINMENT\"\n",
    "fig, ax = plt.subplots(figsize=(5,3))\n",
    "cat_top = cat_df_dict[cat].sort_values(by='count',ascending=False).head()\n",
    "cat_top.plot.barh(x='word',\n",
    "                      y='count',\n",
    "                      ax=ax,\n",
    "                      color=\"#4FA79A\", fontsize=20).invert_yaxis()\n",
    "\n",
    "ax.set_title(f\"{cat}\", fontsize=20)\n",
    "ax.tick_params(axis='x', labelsize=12)\n",
    "\n",
    "plt.show()"
   ]
  },
  {
   "cell_type": "code",
   "execution_count": 79,
   "metadata": {},
   "outputs": [
    {
     "data": {
      "image/png": "[encoded data removed]",
      "text/plain": [
       "<Figure size 360x216 with 1 Axes>"
      ]
     },
     "metadata": {
      "needs_background": "light"
     },
     "output_type": "display_data"
    }
   ],
   "source": [
    "cat = \"TRAVEL\"\n",
    "fig, ax = plt.subplots(figsize=(5,3))\n",
    "cat_top = cat_df_dict[cat].sort_values(by='count',ascending=False).head()\n",
    "cat_top.plot.barh(x='word',\n",
    "                      y='count',\n",
    "                      ax=ax,\n",
    "                      color=\"#4FA79A\", fontsize=20).invert_yaxis()\n",
    "\n",
    "ax.set_title(f\"{cat}\", fontsize=20)\n",
    "ax.tick_params(axis='x', labelsize=12)\n",
    "\n",
    "plt.show()"
   ]
  },
  {
   "cell_type": "code",
   "execution_count": null,
   "metadata": {},
   "outputs": [],
   "source": []
  },
  {
   "cell_type": "markdown",
   "metadata": {},
   "source": [
    "### Pos tagging"
   ]
  },
  {
   "cell_type": "code",
   "execution_count": 23,
   "metadata": {},
   "outputs": [],
   "source": [
    "tokens_pos = nltk.pos_tag(tokens)\n",
    "pos_df = pd.DataFrame(tokens_pos, columns = ('word','POS'))\n",
    "pos_sum = pos_df.groupby('POS', as_index=False).count() # group by POS tags\n",
    "pos_sum_df = pos_sum.sort_values(['word'], ascending=[False]) # in descending order of number of words per tag"
   ]
  },
  {
   "cell_type": "code",
   "execution_count": 24,
   "metadata": {},
   "outputs": [
    {
     "name": "stdout",
     "output_type": "stream",
     "text": [
      "693120\n"
     ]
    }
   ],
   "source": [
    "#getting just the nouns\n",
    "filtered_pos = [ ]\n",
    "for one in tokens_pos:\n",
    "    if one[1] == 'NN' or one[1] == 'NNS' or one[1] == 'NNP' or one[1] == 'NNPS':\n",
    "        filtered_pos.append(one)\n",
    "print (len(filtered_pos))"
   ]
  },
  {
   "cell_type": "code",
   "execution_count": 137,
   "metadata": {},
   "outputs": [],
   "source": [
    "#the 100 most common nouns\n",
    "fdist_pos = nltk.FreqDist(filtered_pos)\n",
    "top_100_words = fdist_pos.most_common(100)\n",
    "# print(top_100_words)"
   ]
  },
  {
   "cell_type": "code",
   "execution_count": 135,
   "metadata": {},
   "outputs": [
    {
     "data": {
      "text/html": [
       "<div>\n",
       "<style scoped>\n",
       "    .dataframe tbody tr th:only-of-type {\n",
       "        vertical-align: middle;\n",
       "    }\n",
       "\n",
       "    .dataframe tbody tr th {\n",
       "        vertical-align: top;\n",
       "    }\n",
       "\n",
       "    .dataframe thead th {\n",
       "        text-align: right;\n",
       "    }\n",
       "</style>\n",
       "<table border=\"1\" class=\"dataframe\">\n",
       "  <thead>\n",
       "    <tr style=\"text-align: right;\">\n",
       "      <th></th>\n",
       "      <th>pos</th>\n",
       "      <th>count</th>\n",
       "      <th>Word</th>\n",
       "    </tr>\n",
       "  </thead>\n",
       "  <tbody>\n",
       "    <tr>\n",
       "      <th>0</th>\n",
       "      <td>(photos, NNS)</td>\n",
       "      <td>7056</td>\n",
       "      <td>photos</td>\n",
       "    </tr>\n",
       "    <tr>\n",
       "      <th>1</th>\n",
       "      <td>(trump, NN)</td>\n",
       "      <td>6351</td>\n",
       "      <td>trump</td>\n",
       "    </tr>\n",
       "    <tr>\n",
       "      <th>2</th>\n",
       "      <td>(day, NN)</td>\n",
       "      <td>4417</td>\n",
       "      <td>day</td>\n",
       "    </tr>\n",
       "    <tr>\n",
       "      <th>3</th>\n",
       "      <td>(video, NN)</td>\n",
       "      <td>4220</td>\n",
       "      <td>video</td>\n",
       "    </tr>\n",
       "    <tr>\n",
       "      <th>4</th>\n",
       "      <td>(women, NNS)</td>\n",
       "      <td>2845</td>\n",
       "      <td>women</td>\n",
       "    </tr>\n",
       "    <tr>\n",
       "      <th>...</th>\n",
       "      <td>...</td>\n",
       "      <td>...</td>\n",
       "      <td>...</td>\n",
       "    </tr>\n",
       "    <tr>\n",
       "      <th>95</th>\n",
       "      <td>(dress, NN)</td>\n",
       "      <td>746</td>\n",
       "      <td>dress</td>\n",
       "    </tr>\n",
       "    <tr>\n",
       "      <th>96</th>\n",
       "      <td>(moms, NNS)</td>\n",
       "      <td>742</td>\n",
       "      <td>moms</td>\n",
       "    </tr>\n",
       "    <tr>\n",
       "      <th>97</th>\n",
       "      <td>(letter, NN)</td>\n",
       "      <td>738</td>\n",
       "      <td>letter</td>\n",
       "    </tr>\n",
       "    <tr>\n",
       "      <th>98</th>\n",
       "      <td>(twitter, NN)</td>\n",
       "      <td>736</td>\n",
       "      <td>twitter</td>\n",
       "    </tr>\n",
       "    <tr>\n",
       "      <th>99</th>\n",
       "      <td>(dont, NN)</td>\n",
       "      <td>732</td>\n",
       "      <td>dont</td>\n",
       "    </tr>\n",
       "  </tbody>\n",
       "</table>\n",
       "<p>100 rows × 3 columns</p>\n",
       "</div>"
      ],
      "text/plain": [
       "              pos  count     Word\n",
       "0   (photos, NNS)   7056   photos\n",
       "1     (trump, NN)   6351    trump\n",
       "2       (day, NN)   4417      day\n",
       "3     (video, NN)   4220    video\n",
       "4    (women, NNS)   2845    women\n",
       "..            ...    ...      ...\n",
       "95    (dress, NN)    746    dress\n",
       "96    (moms, NNS)    742     moms\n",
       "97   (letter, NN)    738   letter\n",
       "98  (twitter, NN)    736  twitter\n",
       "99     (dont, NN)    732     dont\n",
       "\n",
       "[100 rows x 3 columns]"
      ]
     },
     "execution_count": 135,
     "metadata": {},
     "output_type": "execute_result"
    }
   ],
   "source": [
    "top_words_df = pd.DataFrame(top_100_words, columns = ('pos','count'))\n",
    "top_words_df['Word'] = top_words_df['pos'].apply(lambda x: x[0]) # split the tuple of POS\n",
    "top_words_df"
   ]
  },
  {
   "cell_type": "code",
   "execution_count": 27,
   "metadata": {
    "tags": []
   },
   "outputs": [
    {
     "ename": "NameError",
     "evalue": "name 'plt' is not defined",
     "output_type": "error",
     "traceback": [
      "\u001b[0;31m---------------------------------------------------------------------------\u001b[0m",
      "\u001b[0;31mNameError\u001b[0m                                 Traceback (most recent call last)",
      "\u001b[0;32m<ipython-input-27-c29f664a2940>\u001b[0m in \u001b[0;36m<module>\u001b[0;34m\u001b[0m\n\u001b[0;32m----> 1\u001b[0;31m \u001b[0mfig\u001b[0m\u001b[0;34m,\u001b[0m \u001b[0max\u001b[0m \u001b[0;34m=\u001b[0m \u001b[0mplt\u001b[0m\u001b[0;34m.\u001b[0m\u001b[0msubplots\u001b[0m\u001b[0;34m(\u001b[0m\u001b[0mfigsize\u001b[0m\u001b[0;34m=\u001b[0m\u001b[0;34m(\u001b[0m\u001b[0;36m15\u001b[0m\u001b[0;34m,\u001b[0m\u001b[0;36m18\u001b[0m\u001b[0;34m)\u001b[0m\u001b[0;34m)\u001b[0m\u001b[0;34m\u001b[0m\u001b[0;34m\u001b[0m\u001b[0m\n\u001b[0m\u001b[1;32m      2\u001b[0m top_words_df.sort_values(by='count').plot.barh(x='Word',\n\u001b[1;32m      3\u001b[0m                       \u001b[0my\u001b[0m\u001b[0;34m=\u001b[0m\u001b[0;34m'count'\u001b[0m\u001b[0;34m,\u001b[0m\u001b[0;34m\u001b[0m\u001b[0;34m\u001b[0m\u001b[0m\n\u001b[1;32m      4\u001b[0m                       \u001b[0max\u001b[0m\u001b[0;34m=\u001b[0m\u001b[0max\u001b[0m\u001b[0;34m,\u001b[0m\u001b[0;34m\u001b[0m\u001b[0;34m\u001b[0m\u001b[0m\n\u001b[1;32m      5\u001b[0m                       color=\"purple\")\n",
      "\u001b[0;31mNameError\u001b[0m: name 'plt' is not defined"
     ]
    }
   ],
   "source": [
    "fig, ax = plt.subplots(figsize=(15,18))\n",
    "top_words_df.sort_values(by='count').plot.barh(x='Word',\n",
    "                      y='count',\n",
    "                      ax=ax,\n",
    "                      color=\"purple\")\n",
    "\n",
    "ax.set_title(\"Common Words Found in DS Job Descriptions(Without Stop Words)\")\n",
    "\n",
    "plt.show()"
   ]
  }
 ],
 "metadata": {
  "kernelspec": {
   "display_name": "Python 3",
   "language": "python",
   "name": "python3"
  },
  "language_info": {
   "codemirror_mode": {
    "name": "ipython",
    "version": 3
   },
   "file_extension": ".py",
   "mimetype": "text/x-python",
   "name": "python",
   "nbconvert_exporter": "python",
   "pygments_lexer": "ipython3",
   "version": "3.9.5"
  }
 },
 "nbformat": 4,
 "nbformat_minor": 4
}
