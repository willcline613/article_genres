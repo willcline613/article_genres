{
 "cells": [
  {
   "cell_type": "code",
   "execution_count": null,
   "metadata": {},
   "outputs": [],
   "source": [
    "import numpy as np"
   ]
  },
  {
   "cell_type": "code",
   "execution_count": 2,
   "metadata": {},
   "outputs": [],
   "source": [
    "import pandas as pd\n",
    "\n",
    "df = pd.read_json('../../data/News_Category_Dataset_v2.json', lines=True)"
   ]
  },
  {
   "cell_type": "code",
   "execution_count": 6,
   "metadata": {},
   "outputs": [
    {
     "data": {
      "text/plain": [
       "'https://www.huffingtonpost.com/entry/texas-amanda-painter-mass-shooting_us_5b081ab4e4b0802d69caad89'"
      ]
     },
     "execution_count": 6,
     "metadata": {},
     "output_type": "execute_result"
    }
   ],
   "source": [
    "df.link[0]"
   ]
  },
  {
   "cell_type": "code",
   "execution_count": 45,
   "metadata": {},
   "outputs": [],
   "source": [
    "article_text = pd.DataFrame()"
   ]
  },
  {
   "cell_type": "code",
   "execution_count": 208,
   "metadata": {},
   "outputs": [],
   "source": [
    "df1k = df[:1000]\n",
    "df2k = df[1000:2000]"
   ]
  },
  {
   "cell_type": "code",
   "execution_count": null,
   "metadata": {},
   "outputs": [],
   "source": [
    "len(article_text)"
   ]
  },
  {
   "cell_type": "code",
   "execution_count": 102,
   "metadata": {},
   "outputs": [],
   "source": [
    "from ratelimit import limits, RateLimitException\n",
    "from backoff import on_exception, expo\n",
    "import requests"
   ]
  },
  {
   "cell_type": "code",
   "execution_count": 111,
   "metadata": {},
   "outputs": [],
   "source": [
    "from newspaper.article import ArticleException"
   ]
  },
  {
   "cell_type": "code",
   "execution_count": null,
   "metadata": {},
   "outputs": [],
   "source": [
    "\n",
    "    # make request\n",
    "except ArticleException:\n",
    "    list.append(None)"
   ]
  },
  {
   "cell_type": "code",
   "execution_count": 338,
   "metadata": {},
   "outputs": [],
   "source": [
    "dffulltext.to_csv('dffulltext.csv')"
   ]
  },
  {
   "cell_type": "code",
   "execution_count": 329,
   "metadata": {},
   "outputs": [
    {
     "name": "stderr",
     "output_type": "stream",
     "text": [
      "<ipython-input-329-d12e5c2a86bc>:1: SettingWithCopyWarning: \n",
      "A value is trying to be set on a copy of a slice from a DataFrame.\n",
      "Try using .loc[row_indexer,col_indexer] = value instead\n",
      "\n",
      "See the caveats in the documentation: https://pandas.pydata.org/pandas-docs/stable/user_guide/indexing.html#returning-a-view-versus-a-copy\n",
      "  dffulltext['full_text'] = article_text\n"
     ]
    }
   ],
   "source": [
    "dffulltext['full_text'] = article_text"
   ]
  },
  {
   "cell_type": "code",
   "execution_count": 327,
   "metadata": {},
   "outputs": [],
   "source": [
    "dffulltext= df.iloc[:40383,:]"
   ]
  },
  {
   "cell_type": "code",
   "execution_count": 333,
   "metadata": {},
   "outputs": [
    {
     "data": {
      "text/html": [
       "<div>\n",
       "<style scoped>\n",
       "    .dataframe tbody tr th:only-of-type {\n",
       "        vertical-align: middle;\n",
       "    }\n",
       "\n",
       "    .dataframe tbody tr th {\n",
       "        vertical-align: top;\n",
       "    }\n",
       "\n",
       "    .dataframe thead th {\n",
       "        text-align: right;\n",
       "    }\n",
       "</style>\n",
       "<table border=\"1\" class=\"dataframe\">\n",
       "  <thead>\n",
       "    <tr style=\"text-align: right;\">\n",
       "      <th></th>\n",
       "      <th>category</th>\n",
       "      <th>headline</th>\n",
       "      <th>authors</th>\n",
       "      <th>link</th>\n",
       "      <th>short_description</th>\n",
       "      <th>date</th>\n",
       "      <th>full_text</th>\n",
       "    </tr>\n",
       "  </thead>\n",
       "  <tbody>\n",
       "    <tr>\n",
       "      <th>0</th>\n",
       "      <td>CRIME</td>\n",
       "      <td>There Were 2 Mass Shootings In Texas Last Week...</td>\n",
       "      <td>Melissa Jeltsen</td>\n",
       "      <td>https://www.huffingtonpost.com/entry/texas-ama...</td>\n",
       "      <td>She left her husband. He killed their children...</td>\n",
       "      <td>2018-05-26</td>\n",
       "      <td>Mei-Chun Jau for HuffPost Amanda Painter is th...</td>\n",
       "    </tr>\n",
       "    <tr>\n",
       "      <th>1</th>\n",
       "      <td>ENTERTAINMENT</td>\n",
       "      <td>Will Smith Joins Diplo And Nicky Jam For The 2...</td>\n",
       "      <td>Andy McDonald</td>\n",
       "      <td>https://www.huffingtonpost.com/entry/will-smit...</td>\n",
       "      <td>Of course it has a song.</td>\n",
       "      <td>2018-05-26</td>\n",
       "      <td>The 2018 FIFA World Cup starts June 14 in Russ...</td>\n",
       "    </tr>\n",
       "    <tr>\n",
       "      <th>2</th>\n",
       "      <td>ENTERTAINMENT</td>\n",
       "      <td>Hugh Grant Marries For The First Time At Age 57</td>\n",
       "      <td>Ron Dicker</td>\n",
       "      <td>https://www.huffingtonpost.com/entry/hugh-gran...</td>\n",
       "      <td>The actor and his longtime girlfriend Anna Ebe...</td>\n",
       "      <td>2018-05-26</td>\n",
       "      <td>Love actually turned to matrimony for Hugh Gra...</td>\n",
       "    </tr>\n",
       "    <tr>\n",
       "      <th>3</th>\n",
       "      <td>ENTERTAINMENT</td>\n",
       "      <td>Jim Carrey Blasts 'Castrato' Adam Schiff And D...</td>\n",
       "      <td>Ron Dicker</td>\n",
       "      <td>https://www.huffingtonpost.com/entry/jim-carre...</td>\n",
       "      <td>The actor gives Dems an ass-kicking for not fi...</td>\n",
       "      <td>2018-05-26</td>\n",
       "      <td>Rep. Adam Schiff (D-Calif.) and fellow Democra...</td>\n",
       "    </tr>\n",
       "    <tr>\n",
       "      <th>4</th>\n",
       "      <td>ENTERTAINMENT</td>\n",
       "      <td>Julianna Margulies Uses Donald Trump Poop Bags...</td>\n",
       "      <td>Ron Dicker</td>\n",
       "      <td>https://www.huffingtonpost.com/entry/julianna-...</td>\n",
       "      <td>The \"Dietland\" actress said using the bags is ...</td>\n",
       "      <td>2018-05-26</td>\n",
       "      <td>The “Dietland” star told host Jimmy Fallon tha...</td>\n",
       "    </tr>\n",
       "    <tr>\n",
       "      <th>...</th>\n",
       "      <td>...</td>\n",
       "      <td>...</td>\n",
       "      <td>...</td>\n",
       "      <td>...</td>\n",
       "      <td>...</td>\n",
       "      <td>...</td>\n",
       "      <td>...</td>\n",
       "    </tr>\n",
       "    <tr>\n",
       "      <th>40378</th>\n",
       "      <td>ARTS &amp; CULTURE</td>\n",
       "      <td>Book Publishers Are Scrambling To Release Trum...</td>\n",
       "      <td>Maddie Crum</td>\n",
       "      <td>https://www.huffingtonpost.com/entry/trump-sur...</td>\n",
       "      <td>Several forthcoming new books center on coping...</td>\n",
       "      <td>2016-12-09</td>\n",
       "      <td>The day after Donald Trump’s election win, man...</td>\n",
       "    </tr>\n",
       "    <tr>\n",
       "      <th>40379</th>\n",
       "      <td>BLACK VOICES</td>\n",
       "      <td>Second NFL Player Targeted By Stomach-Turning ...</td>\n",
       "      <td>Ryan Grenoble</td>\n",
       "      <td>https://www.huffingtonpost.com/entry/brandon-m...</td>\n",
       "      <td>Broncos linebacker Brandon Marshall said he wa...</td>\n",
       "      <td>2016-12-09</td>\n",
       "      <td>Justin Edmonds via Getty Images Brandon Marsha...</td>\n",
       "    </tr>\n",
       "    <tr>\n",
       "      <th>40380</th>\n",
       "      <td>POLITICS</td>\n",
       "      <td>Senate Democrats Give Up On Coal Miner Health ...</td>\n",
       "      <td>Laura Barrón-López</td>\n",
       "      <td>https://www.huffingtonpost.com/entry/governmen...</td>\n",
       "      <td>Sen. Joe Manchin said he hopes to enlist Presi...</td>\n",
       "      <td>2016-12-09</td>\n",
       "      <td>Coal-state Senate Democrats on Friday backed o...</td>\n",
       "    </tr>\n",
       "    <tr>\n",
       "      <th>40381</th>\n",
       "      <td>POLITICS</td>\n",
       "      <td>Courtesy Over Death Penalty Cases May Be Dead ...</td>\n",
       "      <td>Cristian Farias</td>\n",
       "      <td>https://www.huffingtonpost.com/entry/supreme-c...</td>\n",
       "      <td>The justices agreed to stay one man's executio...</td>\n",
       "      <td>2016-12-09</td>\n",
       "      <td>Days before the presidential election, Chief J...</td>\n",
       "    </tr>\n",
       "    <tr>\n",
       "      <th>40382</th>\n",
       "      <td>SCIENCE</td>\n",
       "      <td>Scientists Discover Feathered Dinosaur Tail Tr...</td>\n",
       "      <td>Mary Papenfuss</td>\n",
       "      <td>https://www.huffingtonpost.com/entry/feathered...</td>\n",
       "      <td>The surprise finding is 99 million years old.</td>\n",
       "      <td>2016-12-09</td>\n",
       "      <td>Royal Saskatchewan Museum/RC McKellar Tiny fea...</td>\n",
       "    </tr>\n",
       "  </tbody>\n",
       "</table>\n",
       "<p>40383 rows × 7 columns</p>\n",
       "</div>"
      ],
      "text/plain": [
       "             category                                           headline  \\\n",
       "0               CRIME  There Were 2 Mass Shootings In Texas Last Week...   \n",
       "1       ENTERTAINMENT  Will Smith Joins Diplo And Nicky Jam For The 2...   \n",
       "2       ENTERTAINMENT    Hugh Grant Marries For The First Time At Age 57   \n",
       "3       ENTERTAINMENT  Jim Carrey Blasts 'Castrato' Adam Schiff And D...   \n",
       "4       ENTERTAINMENT  Julianna Margulies Uses Donald Trump Poop Bags...   \n",
       "...               ...                                                ...   \n",
       "40378  ARTS & CULTURE  Book Publishers Are Scrambling To Release Trum...   \n",
       "40379    BLACK VOICES  Second NFL Player Targeted By Stomach-Turning ...   \n",
       "40380        POLITICS  Senate Democrats Give Up On Coal Miner Health ...   \n",
       "40381        POLITICS  Courtesy Over Death Penalty Cases May Be Dead ...   \n",
       "40382         SCIENCE  Scientists Discover Feathered Dinosaur Tail Tr...   \n",
       "\n",
       "                  authors                                               link  \\\n",
       "0         Melissa Jeltsen  https://www.huffingtonpost.com/entry/texas-ama...   \n",
       "1           Andy McDonald  https://www.huffingtonpost.com/entry/will-smit...   \n",
       "2              Ron Dicker  https://www.huffingtonpost.com/entry/hugh-gran...   \n",
       "3              Ron Dicker  https://www.huffingtonpost.com/entry/jim-carre...   \n",
       "4              Ron Dicker  https://www.huffingtonpost.com/entry/julianna-...   \n",
       "...                   ...                                                ...   \n",
       "40378         Maddie Crum  https://www.huffingtonpost.com/entry/trump-sur...   \n",
       "40379       Ryan Grenoble  https://www.huffingtonpost.com/entry/brandon-m...   \n",
       "40380  Laura Barrón-López  https://www.huffingtonpost.com/entry/governmen...   \n",
       "40381     Cristian Farias  https://www.huffingtonpost.com/entry/supreme-c...   \n",
       "40382      Mary Papenfuss  https://www.huffingtonpost.com/entry/feathered...   \n",
       "\n",
       "                                       short_description       date  \\\n",
       "0      She left her husband. He killed their children... 2018-05-26   \n",
       "1                               Of course it has a song. 2018-05-26   \n",
       "2      The actor and his longtime girlfriend Anna Ebe... 2018-05-26   \n",
       "3      The actor gives Dems an ass-kicking for not fi... 2018-05-26   \n",
       "4      The \"Dietland\" actress said using the bags is ... 2018-05-26   \n",
       "...                                                  ...        ...   \n",
       "40378  Several forthcoming new books center on coping... 2016-12-09   \n",
       "40379  Broncos linebacker Brandon Marshall said he wa... 2016-12-09   \n",
       "40380  Sen. Joe Manchin said he hopes to enlist Presi... 2016-12-09   \n",
       "40381  The justices agreed to stay one man's executio... 2016-12-09   \n",
       "40382      The surprise finding is 99 million years old. 2016-12-09   \n",
       "\n",
       "                                               full_text  \n",
       "0      Mei-Chun Jau for HuffPost Amanda Painter is th...  \n",
       "1      The 2018 FIFA World Cup starts June 14 in Russ...  \n",
       "2      Love actually turned to matrimony for Hugh Gra...  \n",
       "3      Rep. Adam Schiff (D-Calif.) and fellow Democra...  \n",
       "4      The “Dietland” star told host Jimmy Fallon tha...  \n",
       "...                                                  ...  \n",
       "40378  The day after Donald Trump’s election win, man...  \n",
       "40379  Justin Edmonds via Getty Images Brandon Marsha...  \n",
       "40380  Coal-state Senate Democrats on Friday backed o...  \n",
       "40381  Days before the presidential election, Chief J...  \n",
       "40382  Royal Saskatchewan Museum/RC McKellar Tiny fea...  \n",
       "\n",
       "[40383 rows x 7 columns]"
      ]
     },
     "execution_count": 333,
     "metadata": {},
     "output_type": "execute_result"
    }
   ],
   "source": [
    "dffulltext"
   ]
  },
  {
   "cell_type": "code",
   "execution_count": 233,
   "metadata": {},
   "outputs": [
    {
     "data": {
      "text/plain": [
       "1000    https://www.huffingtonpost.com/entry/pakistan-...\n",
       "1001    https://www.huffingtonpost.com/entry/vladimir-...\n",
       "1002    https://www.huffingtonpost.com/entry/lebanon-h...\n",
       "1003    https://www.huffingtonpost.com/entry/tronc-chi...\n",
       "1004    https://www.huffingtonpost.com/entry/indiana-g...\n",
       "                              ...                        \n",
       "1995    https://www.huffingtonpost.com/entry/laura-ing...\n",
       "1996    https://www.huffingtonpost.com/entry/3rd-grade...\n",
       "1997    https://www.huffingtonpost.com/entry/stephen-c...\n",
       "1998    https://www.huffingtonpost.com/entry/rudy-giul...\n",
       "1999    https://www.huffingtonpost.com/entry/comeback-...\n",
       "Name: link, Length: 1000, dtype: object"
      ]
     },
     "execution_count": 233,
     "metadata": {},
     "output_type": "execute_result"
    }
   ],
   "source": [
    "df2k.link"
   ]
  },
  {
   "cell_type": "code",
   "execution_count": 212,
   "metadata": {},
   "outputs": [],
   "source": [
    "collected_data_text = []\n",
    "\n",
    "for idx in df2k[['full_text']].index:\n",
    "    sub_dict = {'id': idx, 'text': df2k['full_text'][idx]}\n",
    "    collected_data_text.append(sub_dict)"
   ]
  },
  {
   "cell_type": "code",
   "execution_count": 213,
   "metadata": {},
   "outputs": [],
   "source": [
    "collected_data = {}\n",
    "\n",
    "collected_data['text'] = collected_data_text"
   ]
  },
  {
   "cell_type": "markdown",
   "metadata": {},
   "source": [
    "Updating saved json file\n"
   ]
  },
  {
   "cell_type": "code",
   "execution_count": 227,
   "metadata": {},
   "outputs": [],
   "source": [
    "import json\n",
    "\n",
    "# Load in the json file\n",
    "file = open('collected_data.json', 'r')\n",
    "loaded_data = json.load(file)\n",
    "file.close()\n",
    "\n",
    "# Write new data to json file\n",
    "file = open('collected_data.json', 'w')\n",
    "loaded_data['text'] = loaded_data['text'] + collected_data_text\n",
    "json.dump(loaded_data, file)\n",
    "file.close()"
   ]
  },
  {
   "cell_type": "code",
   "execution_count": 228,
   "metadata": {},
   "outputs": [],
   "source": [
    "file = open('collected_data.json', 'r')\n",
    "loaded_data = json.load(file)\n"
   ]
  },
  {
   "cell_type": "code",
   "execution_count": 229,
   "metadata": {},
   "outputs": [
    {
     "data": {
      "text/plain": [
       "4000"
      ]
     },
     "execution_count": 229,
     "metadata": {},
     "output_type": "execute_result"
    }
   ],
   "source": [
    "len(loaded_data['text'])"
   ]
  },
  {
   "cell_type": "code",
   "execution_count": 177,
   "metadata": {},
   "outputs": [
    {
     "data": {
      "text/plain": [
       "33"
      ]
     },
     "execution_count": 177,
     "metadata": {},
     "output_type": "execute_result"
    }
   ],
   "source": [
    "df1k.full_text.isna().sum()"
   ]
  },
  {
   "cell_type": "code",
   "execution_count": null,
   "metadata": {},
   "outputs": [],
   "source": [
    "import json\n",
    "\n",
    "collected_data = {}\n",
    "\n",
    "collected_data['text']"
   ]
  },
  {
   "cell_type": "code",
   "execution_count": null,
   "metadata": {},
   "outputs": [],
   "source": []
  },
  {
   "cell_type": "code",
   "execution_count": 316,
   "metadata": {},
   "outputs": [
    {
     "data": {
      "text/plain": [
       "40383"
      ]
     },
     "execution_count": 316,
     "metadata": {},
     "output_type": "execute_result"
    }
   ],
   "source": [
    "len(article_text)"
   ]
  },
  {
   "cell_type": "code",
   "execution_count": 317,
   "metadata": {},
   "outputs": [],
   "source": [
    "article_text_2= article_text"
   ]
  },
  {
   "cell_type": "code",
   "execution_count": 334,
   "metadata": {},
   "outputs": [],
   "source": [
    "import time\n",
    "article_text =  article_text[:5890]\n",
    "article_authors = article_authors[:5890]\n",
    "article_keywords = article_keywords[:5890]\n",
    "x=0\n",
    "for i in df.link.iloc[5890:50000]:\n",
    "    try:\n",
    "        article = Article(i)\n",
    "        article.download()\n",
    "        article.parse()\n",
    "        article_text.append(article.text.replace('\\n', ' '))\n",
    "        article_authors.append(article.authors)\n",
    "        article_keywords.append(article.keywords)\n",
    "    except ArticleException:\n",
    "        article_text.append(np.nan)\n",
    "        article_authors.append(np.nan)\n",
    "        article_keywords.append(np.nan)\n",
    "        print('nan found')\n",
    "    x+=1\n",
    "    if x %2 == True:\n",
    "        time.sleep(2)\n",
    "        print(x, 'done')"
   ]
  },
  {
   "cell_type": "code",
   "execution_count": null,
   "metadata": {},
   "outputs": [],
   "source": [
    "\n",
    "@on_exception(expo, RateLimitException, max_tries=8)\n",
    "@limits(calls=20, period=240)\n",
    "def get_article(url):\n",
    "    article = Article(url)\n",
    "    article.download()\n",
    "    article.parse()\n",
    "    article_text.append(article.text.replace('\\n', ' '))\n",
    "    return article_text"
   ]
  },
  {
   "cell_type": "code",
   "execution_count": 40,
   "metadata": {},
   "outputs": [],
   "source": [
    "from newspaper import Article\n",
    "\n",
    "url = 'https://www.huffingtonpost.com/entry/texas-amanda-painter-mass-shooting_us_5b081ab4e4b0802d69caad89'\n",
    "article = Article(url)"
   ]
  },
  {
   "cell_type": "code",
   "execution_count": 34,
   "metadata": {},
   "outputs": [],
   "source": [
    "article.download()"
   ]
  },
  {
   "cell_type": "code",
   "execution_count": 35,
   "metadata": {},
   "outputs": [],
   "source": [
    "article.parse()\n",
    "article.text"
   ]
  },
  {
   "cell_type": "code",
   "execution_count": null,
   "metadata": {},
   "outputs": [],
   "source": []
  }
 ],
 "metadata": {
  "kernelspec": {
   "display_name": "learn-env",
   "language": "python",
   "name": "learn-env"
  },
  "language_info": {
   "codemirror_mode": {
    "name": "ipython",
    "version": 3
   },
   "file_extension": ".py",
   "mimetype": "text/x-python",
   "name": "python",
   "nbconvert_exporter": "python",
   "pygments_lexer": "ipython3",
   "version": "3.8.5"
  }
 },
 "nbformat": 4,
 "nbformat_minor": 4
}
