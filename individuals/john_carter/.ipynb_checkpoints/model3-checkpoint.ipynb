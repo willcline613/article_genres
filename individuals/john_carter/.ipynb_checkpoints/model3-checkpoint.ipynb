{
 "cells": [
  {
   "cell_type": "code",
   "execution_count": 25,
   "metadata": {},
   "outputs": [],
   "source": [
    "import numpy as np\n",
    "import pandas as pd\n",
    "import tensorflow as tf\n",
    "from imblearn.over_sampling import SMOTE \n",
    "from sklearn.model_selection import train_test_split\n",
    "from sklearn.feature_extraction.text import TfidfVectorizer\n",
    "from sklearn.ensemble import RandomForestClassifier\n",
    "from sklearn.metrics import accuracy_score, confusion_matrix\n",
    "from sklearn.naive_bayes import MultinomialNB\n",
    "from tensorflow.keras.layers import Embedding, Bidirectional, LSTM, Dense, GlobalMaxPool1D, Dropout\n",
    "from gensim.models import Word2Vec\n",
    "from keras.preprocessing.text import Tokenizer\n",
    "from keras.preprocessing.sequence import pad_sequences\n",
    "import pickle"
   ]
  },
  {
   "cell_type": "code",
   "execution_count": 26,
   "metadata": {},
   "outputs": [],
   "source": [
    "df = pd.read_csv('finaldf.csv.gzip', compression='gzip')"
   ]
  },
  {
   "cell_type": "code",
   "execution_count": 27,
   "metadata": {},
   "outputs": [],
   "source": [
    "df.category = df.category.replace([\"ARTS\",'CULTURE & ARTS'], \"ARTS & CULTURE\")\\\n",
    ".replace(['THE WORLDPOST', 'WORLDPOST'], 'WORLD NEWS')\\\n",
    ".replace(['STYLE'], 'STYLE & BEAUTY')\\\n",
    ".replace(['TASTE'], 'FOOD & DRINK')\\\n",
    ".replace(['WELLNESS'], 'HEALTHY LIVING')\\\n",
    ".replace(['PARENTING', 'PARENTS'], 'HOME & LIVING')\\\n",
    ".replace(['MONEY'], 'BUSINESS')\\\n",
    ".replace(['COLLEGE'], 'EDUCATION')\\\n",
    ".replace(['TECH', 'SCIENCE', 'ENVIRONMENT', 'GREEN'], 'TECH & SCIENCE')\\\n",
    ".replace(['WEDDINGS', 'DIVORCE'], 'WEDDINGS & DIVORCE')\\\n",
    ".replace([\"WOMEN\", \"BLACK VOICES\", 'QUEER VOICES', 'LATINO VOICES'], 'DIVERSE VOICES')\\\n",
    ".replace(['COMEDY'], 'ENTERTAINMENT')\n",
    "df = df[~df.category.isin(['WEIRD NEWS', 'IMPACT', 'GOOD NEWS', 'FIFTY'])]\n",
    "df = df.drop('combined', axis=1)"
   ]
  },
  {
   "cell_type": "code",
   "execution_count": null,
   "metadata": {},
   "outputs": [],
   "source": []
  },
  {
   "cell_type": "code",
   "execution_count": 28,
   "metadata": {},
   "outputs": [],
   "source": [
    "y = df.category\n",
    "X = df.cleaned\n"
   ]
  },
  {
   "cell_type": "code",
   "execution_count": 29,
   "metadata": {},
   "outputs": [],
   "source": [
    "from keras.utils import np_utils\n",
    "from sklearn.preprocessing import LabelEncoder\n",
    "# encode class values as integers\n",
    "encoder = LabelEncoder()\n",
    "encoder.fit(df['category'])\n",
    "encoded_Y = encoder.transform(df['category'])\n",
    "# convert integers to dummy variables (i.e. one hot encoded)\n",
    "dummy_y = np_utils.to_categorical(encoded_Y)"
   ]
  },
  {
   "cell_type": "code",
   "execution_count": 30,
   "metadata": {
    "tags": []
   },
   "outputs": [],
   "source": [
    "rnn_X_train, rnn_X_test, rnn_y_train, rnn_y_test = train_test_split(df['cleaned'],\n",
    "                                                                   dummy_y, random_state=42)"
   ]
  },
  {
   "cell_type": "code",
   "execution_count": 31,
   "metadata": {},
   "outputs": [],
   "source": [
    "with open('article_seq.pkl','rb') as f:\n",
    "    article_seq = pickle.load(f)"
   ]
  },
  {
   "cell_type": "code",
   "execution_count": 32,
   "metadata": {},
   "outputs": [],
   "source": [
    "with open('embedding_matrix.pkl','rb') as f:\n",
    "    embedding_matrix = pickle.load(f)"
   ]
  },
  {
   "cell_type": "code",
   "execution_count": 33,
   "metadata": {},
   "outputs": [],
   "source": [
    "with open('val_seq.pkl','rb') as f:\n",
    "    val_seq = pickle.load(f)"
   ]
  },
  {
   "cell_type": "code",
   "execution_count": null,
   "metadata": {},
   "outputs": [
    {
     "name": "stdout",
     "output_type": "stream",
     "text": [
      "Epoch 1/5\n",
      "744/744 [==============================] - 2921s 4s/step - loss: 1.3097 - categorical_accuracy: 0.6108 - val_loss: 1.0395 - val_categorical_accuracy: 0.6906\n",
      "Epoch 2/5\n",
      "744/744 [==============================] - 2950s 4s/step - loss: 0.8688 - categorical_accuracy: 0.7349 - val_loss: 0.7568 - val_categorical_accuracy: 0.7630\n",
      "Epoch 3/5\n",
      "744/744 [==============================] - 2923s 4s/step - loss: 0.6909 - categorical_accuracy: 0.7827 - val_loss: 0.7118 - val_categorical_accuracy: 0.7736\n",
      "Epoch 4/5\n",
      "697/744 [===========================>..] - ETA: 2:42 - loss: 0.6333 - categorical_accuracy: 0.7998"
     ]
    }
   ],
   "source": [
    "from tensorflow.keras.metrics import FalseNegatives\n",
    "from tensorflow.keras.layers import Embedding, Bidirectional, LSTM, Dense\n",
    "from tensorflow.keras import Sequential\n",
    "embedding_size = 128\n",
    "top_words=1500\n",
    "max_len=1000\n",
    "model = Sequential()\n",
    "model.add(Embedding(top_words + 1, embedding_size, input_length=max_len, weights=[embedding_matrix], trainable=False))\n",
    "model.add(Bidirectional(LSTM(128, return_sequences=True)))\n",
    "model.add(Dense(64, activation='relu'))\n",
    "model.add(Dropout(0.25))\n",
    "model.add(Bidirectional(LSTM(64, return_sequences=False)))\n",
    "model.add(Dense(128, activation='tanh'))\n",
    "model.add(Dropout(0.25))\n",
    "model.add(Dense(64, activation='relu'))\n",
    "model.add(Dense(18, activation='softmax'))\n",
    "\n",
    "model.compile(optimizer='adam', loss='categorical_crossentropy', metrics=['categorical_accuracy'])\n",
    "\n",
    "model.fit(article_seq, rnn_y_train, validation_data=(val_seq, rnn_y_test), epochs=5, batch_size=128)\n",
    "\n",
    "# Share\n",
    "# Improve this answer\n",
    "# Follow "
   ]
  },
  {
   "cell_type": "code",
   "execution_count": null,
   "metadata": {},
   "outputs": [],
   "source": [
    "# serialize model to YAML\n",
    "model_yaml = model.to_yaml()\n",
    "with open(\"model3.yaml\", \"w\") as yaml_file:\n",
    "    yaml_file.write(model_yaml)\n",
    "# serialize weights to HDF5\n",
    "model.save_weights(\"model3.h5\")\n",
    "print(\"Saved model to disk\")"
   ]
  },
  {
   "cell_type": "code",
   "execution_count": null,
   "metadata": {},
   "outputs": [],
   "source": [
    "import matplotlib.pyplot as plt\n",
    "def plot_results(model):\n",
    "    fig, (ax1,ax2) = plt.subplots(1,2, figsize=(15,5))\n",
    "\n",
    "    ax1.plot(model.history.epoch, model.history.history['loss'], label='train')\n",
    "    ax1.plot(model.history.epoch, model.history.history['val_loss'], label='test')\n",
    "    \n",
    "    ax1.legend()\n",
    "    \n",
    "    ax2.plot(model.history.epoch, model.history.history['categorical_accuracy'], label='train')\n",
    "    ax2.plot(model.history.epoch, model.history.history['val_categorical_accuracy'], label='test')\n",
    "\n",
    "    ax2.legend()\n",
    "    \n",
    "    \n",
    "plot_results(model)"
   ]
  },
  {
   "cell_type": "code",
   "execution_count": null,
   "metadata": {},
   "outputs": [],
   "source": [
    "len(article_seq)"
   ]
  },
  {
   "cell_type": "code",
   "execution_count": null,
   "metadata": {},
   "outputs": [],
   "source": [
    "from sklearn.metrics import plot_confusion_matrix\n",
    "from sklearn.base import ClassifierMixin\n",
    "\n",
    "class SKWrapper (ClassifierMixin):\n",
    "    def __init__(self, model):\n",
    "        self.model = model\n",
    "        self.classes_ = list(range(0,18))\n",
    "    def predict(self, X):\n",
    "        return self.model.predict_classes(X)\n",
    "sk_model = SKWrapper(model)\n",
    "fig, ax = plt.subplots(figsize=(20,20))\n",
    "plot_confusion_matrix(sk_model, val_seq[:1000], np.argmax(rnn_y_train[:1000], axis=1), ax=ax)"
   ]
  },
  {
   "cell_type": "code",
   "execution_count": null,
   "metadata": {},
   "outputs": [],
   "source": [
    "from sklearn.metrics import plot_confusion_matrix\n",
    "from sklearn.base import ClassifierMixin\n",
    "\n",
    "class SKWrapper (ClassifierMixin):\n",
    "    def __init__(self, model):\n",
    "        self.model = model\n",
    "        self.classes_ = list(range(0,18))\n",
    "    def predict(self, X):\n",
    "        return self.model.predict_classes(X)\n",
    "sk_model = SKWrapper(model)\n",
    "fig, ax = plt.subplots(figsize=(20,20))\n",
    "plot_confusion_matrix(sk_model, article_seq[:1000], np.argmax(rnn_y_train[:1000], axis=1), ax=ax)"
   ]
  },
  {
   "cell_type": "code",
   "execution_count": null,
   "metadata": {},
   "outputs": [],
   "source": [
    "np.argmax(rnn_y_train, axis=1)"
   ]
  },
  {
   "cell_type": "code",
   "execution_count": null,
   "metadata": {},
   "outputs": [],
   "source": []
  }
 ],
 "metadata": {
  "kernelspec": {
   "display_name": "learn-env",
   "language": "python",
   "name": "learn-env"
  },
  "language_info": {
   "codemirror_mode": {
    "name": "ipython",
    "version": 3
   },
   "file_extension": ".py",
   "mimetype": "text/x-python",
   "name": "python",
   "nbconvert_exporter": "python",
   "pygments_lexer": "ipython3",
   "version": "3.8.5"
  }
 },
 "nbformat": 4,
 "nbformat_minor": 4
}
