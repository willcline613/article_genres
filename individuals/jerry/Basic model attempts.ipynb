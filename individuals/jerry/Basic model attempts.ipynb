{
 "cells": [
  {
   "cell_type": "markdown",
   "metadata": {},
   "source": [
    "The next step is to evaluate different parameters for basic models with our data, as opposed to more complex models such as neural networks. I imported the necessary libraries below and using the data we had already collected at the time began to try and find good parameters to use."
   ]
  },
  {
   "cell_type": "code",
   "execution_count": 2,
   "metadata": {},
   "outputs": [],
   "source": [
    "import json\n",
    "import pandas as pd\n",
    "import numpy as np\n",
    "from sklearn.preprocessing import LabelEncoder\n",
    "from sklearn.ensemble import RandomForestClassifier\n",
    "from sklearn.naive_bayes import MultinomialNB\n",
    "from sklearn.metrics import accuracy_score, confusion_matrix\n",
    "from sklearn.feature_extraction.text import TfidfVectorizer\n",
    "from sklearn.model_selection import train_test_split\n",
    "import string\n",
    "from nltk.corpus import stopwords\n",
    "from nltk import word_tokenize\n",
    "import scipy\n",
    "import zipfile"
   ]
  },
  {
   "cell_type": "code",
   "execution_count": 6,
   "metadata": {},
   "outputs": [],
   "source": [
    "# df = pd.read_json(\"../../data/News_Category_Dataset_v2.json\", lines = True)\n",
    "\n",
    "\n",
    "zf = zipfile.ZipFile('../../data/dffulltext.csv.zip') \n",
    "df = pd.read_csv(zf.open('dffulltext.csv'))"
   ]
  },
  {
   "cell_type": "code",
   "execution_count": 3,
   "metadata": {},
   "outputs": [],
   "source": [
    "df.drop([\"date\", \"Unnamed: 0\"], axis = 1, inplace = True)"
   ]
  },
  {
   "cell_type": "code",
   "execution_count": 4,
   "metadata": {},
   "outputs": [
    {
     "data": {
      "text/html": [
       "<div>\n",
       "<style scoped>\n",
       "    .dataframe tbody tr th:only-of-type {\n",
       "        vertical-align: middle;\n",
       "    }\n",
       "\n",
       "    .dataframe tbody tr th {\n",
       "        vertical-align: top;\n",
       "    }\n",
       "\n",
       "    .dataframe thead th {\n",
       "        text-align: right;\n",
       "    }\n",
       "</style>\n",
       "<table border=\"1\" class=\"dataframe\">\n",
       "  <thead>\n",
       "    <tr style=\"text-align: right;\">\n",
       "      <th></th>\n",
       "      <th>category</th>\n",
       "      <th>headline</th>\n",
       "      <th>authors</th>\n",
       "      <th>link</th>\n",
       "      <th>short_description</th>\n",
       "    </tr>\n",
       "  </thead>\n",
       "  <tbody>\n",
       "    <tr>\n",
       "      <th>0</th>\n",
       "      <td>CRIME</td>\n",
       "      <td>There Were 2 Mass Shootings In Texas Last Week...</td>\n",
       "      <td>Melissa Jeltsen</td>\n",
       "      <td>https://www.huffingtonpost.com/entry/texas-ama...</td>\n",
       "      <td>She left her husband. He killed their children...</td>\n",
       "    </tr>\n",
       "    <tr>\n",
       "      <th>1</th>\n",
       "      <td>ENTERTAINMENT</td>\n",
       "      <td>Will Smith Joins Diplo And Nicky Jam For The 2...</td>\n",
       "      <td>Andy McDonald</td>\n",
       "      <td>https://www.huffingtonpost.com/entry/will-smit...</td>\n",
       "      <td>Of course it has a song.</td>\n",
       "    </tr>\n",
       "    <tr>\n",
       "      <th>2</th>\n",
       "      <td>ENTERTAINMENT</td>\n",
       "      <td>Hugh Grant Marries For The First Time At Age 57</td>\n",
       "      <td>Ron Dicker</td>\n",
       "      <td>https://www.huffingtonpost.com/entry/hugh-gran...</td>\n",
       "      <td>The actor and his longtime girlfriend Anna Ebe...</td>\n",
       "    </tr>\n",
       "    <tr>\n",
       "      <th>3</th>\n",
       "      <td>ENTERTAINMENT</td>\n",
       "      <td>Jim Carrey Blasts 'Castrato' Adam Schiff And D...</td>\n",
       "      <td>Ron Dicker</td>\n",
       "      <td>https://www.huffingtonpost.com/entry/jim-carre...</td>\n",
       "      <td>The actor gives Dems an ass-kicking for not fi...</td>\n",
       "    </tr>\n",
       "    <tr>\n",
       "      <th>4</th>\n",
       "      <td>ENTERTAINMENT</td>\n",
       "      <td>Julianna Margulies Uses Donald Trump Poop Bags...</td>\n",
       "      <td>Ron Dicker</td>\n",
       "      <td>https://www.huffingtonpost.com/entry/julianna-...</td>\n",
       "      <td>The \"Dietland\" actress said using the bags is ...</td>\n",
       "    </tr>\n",
       "  </tbody>\n",
       "</table>\n",
       "</div>"
      ],
      "text/plain": [
       "        category                                           headline  \\\n",
       "0          CRIME  There Were 2 Mass Shootings In Texas Last Week...   \n",
       "1  ENTERTAINMENT  Will Smith Joins Diplo And Nicky Jam For The 2...   \n",
       "2  ENTERTAINMENT    Hugh Grant Marries For The First Time At Age 57   \n",
       "3  ENTERTAINMENT  Jim Carrey Blasts 'Castrato' Adam Schiff And D...   \n",
       "4  ENTERTAINMENT  Julianna Margulies Uses Donald Trump Poop Bags...   \n",
       "\n",
       "           authors                                               link  \\\n",
       "0  Melissa Jeltsen  https://www.huffingtonpost.com/entry/texas-ama...   \n",
       "1    Andy McDonald  https://www.huffingtonpost.com/entry/will-smit...   \n",
       "2       Ron Dicker  https://www.huffingtonpost.com/entry/hugh-gran...   \n",
       "3       Ron Dicker  https://www.huffingtonpost.com/entry/jim-carre...   \n",
       "4       Ron Dicker  https://www.huffingtonpost.com/entry/julianna-...   \n",
       "\n",
       "                                   short_description  \n",
       "0  She left her husband. He killed their children...  \n",
       "1                           Of course it has a song.  \n",
       "2  The actor and his longtime girlfriend Anna Ebe...  \n",
       "3  The actor gives Dems an ass-kicking for not fi...  \n",
       "4  The \"Dietland\" actress said using the bags is ...  "
      ]
     },
     "execution_count": 4,
     "metadata": {},
     "output_type": "execute_result"
    }
   ],
   "source": [
    "df.head()"
   ]
  },
  {
   "cell_type": "code",
   "execution_count": 5,
   "metadata": {},
   "outputs": [
    {
     "data": {
      "text/plain": [
       "POLITICS          32739\n",
       "WELLNESS          17827\n",
       "ENTERTAINMENT     16058\n",
       "TRAVEL             9887\n",
       "STYLE & BEAUTY     9649\n",
       "PARENTING          8677\n",
       "HEALTHY LIVING     6694\n",
       "QUEER VOICES       6314\n",
       "FOOD & DRINK       6226\n",
       "BUSINESS           5937\n",
       "COMEDY             5175\n",
       "SPORTS             4884\n",
       "BLACK VOICES       4528\n",
       "HOME & LIVING      4195\n",
       "PARENTS            3955\n",
       "THE WORLDPOST      3664\n",
       "WEDDINGS           3651\n",
       "WOMEN              3490\n",
       "IMPACT             3459\n",
       "DIVORCE            3426\n",
       "CRIME              3405\n",
       "MEDIA              2815\n",
       "WEIRD NEWS         2670\n",
       "GREEN              2622\n",
       "WORLDPOST          2579\n",
       "RELIGION           2556\n",
       "STYLE              2254\n",
       "SCIENCE            2178\n",
       "WORLD NEWS         2177\n",
       "TASTE              2096\n",
       "TECH               2082\n",
       "MONEY              1707\n",
       "ARTS               1509\n",
       "FIFTY              1401\n",
       "GOOD NEWS          1398\n",
       "ARTS & CULTURE     1339\n",
       "ENVIRONMENT        1323\n",
       "COLLEGE            1144\n",
       "LATINO VOICES      1129\n",
       "CULTURE & ARTS     1030\n",
       "EDUCATION          1004\n",
       "Name: category, dtype: int64"
      ]
     },
     "execution_count": 5,
     "metadata": {},
     "output_type": "execute_result"
    }
   ],
   "source": [
    "df[\"category\"].value_counts()"
   ]
  },
  {
   "cell_type": "code",
   "execution_count": 6,
   "metadata": {},
   "outputs": [],
   "source": [
    "df_2 = pd.read_csv(\"../../data/dffulltext.csv\").drop(\"Unnamed: 0\", axis = 1)"
   ]
  },
  {
   "cell_type": "code",
   "execution_count": 7,
   "metadata": {},
   "outputs": [],
   "source": [
    "df_2.dropna(subset = [\"full_text\"], inplace = True)"
   ]
  },
  {
   "cell_type": "code",
   "execution_count": 8,
   "metadata": {},
   "outputs": [
    {
     "data": {
      "text/html": [
       "<div>\n",
       "<style scoped>\n",
       "    .dataframe tbody tr th:only-of-type {\n",
       "        vertical-align: middle;\n",
       "    }\n",
       "\n",
       "    .dataframe tbody tr th {\n",
       "        vertical-align: top;\n",
       "    }\n",
       "\n",
       "    .dataframe thead th {\n",
       "        text-align: right;\n",
       "    }\n",
       "</style>\n",
       "<table border=\"1\" class=\"dataframe\">\n",
       "  <thead>\n",
       "    <tr style=\"text-align: right;\">\n",
       "      <th></th>\n",
       "      <th>category</th>\n",
       "      <th>headline</th>\n",
       "      <th>authors</th>\n",
       "      <th>link</th>\n",
       "      <th>short_description</th>\n",
       "      <th>date</th>\n",
       "      <th>full_text</th>\n",
       "    </tr>\n",
       "  </thead>\n",
       "  <tbody>\n",
       "    <tr>\n",
       "      <th>0</th>\n",
       "      <td>CRIME</td>\n",
       "      <td>There Were 2 Mass Shootings In Texas Last Week...</td>\n",
       "      <td>Melissa Jeltsen</td>\n",
       "      <td>https://www.huffingtonpost.com/entry/texas-ama...</td>\n",
       "      <td>She left her husband. He killed their children...</td>\n",
       "      <td>2018-05-26</td>\n",
       "      <td>Mei-Chun Jau for HuffPost Amanda Painter is th...</td>\n",
       "    </tr>\n",
       "    <tr>\n",
       "      <th>1</th>\n",
       "      <td>ENTERTAINMENT</td>\n",
       "      <td>Will Smith Joins Diplo And Nicky Jam For The 2...</td>\n",
       "      <td>Andy McDonald</td>\n",
       "      <td>https://www.huffingtonpost.com/entry/will-smit...</td>\n",
       "      <td>Of course it has a song.</td>\n",
       "      <td>2018-05-26</td>\n",
       "      <td>The 2018 FIFA World Cup starts June 14 in Russ...</td>\n",
       "    </tr>\n",
       "    <tr>\n",
       "      <th>2</th>\n",
       "      <td>ENTERTAINMENT</td>\n",
       "      <td>Hugh Grant Marries For The First Time At Age 57</td>\n",
       "      <td>Ron Dicker</td>\n",
       "      <td>https://www.huffingtonpost.com/entry/hugh-gran...</td>\n",
       "      <td>The actor and his longtime girlfriend Anna Ebe...</td>\n",
       "      <td>2018-05-26</td>\n",
       "      <td>Love actually turned to matrimony for Hugh Gra...</td>\n",
       "    </tr>\n",
       "    <tr>\n",
       "      <th>3</th>\n",
       "      <td>ENTERTAINMENT</td>\n",
       "      <td>Jim Carrey Blasts 'Castrato' Adam Schiff And D...</td>\n",
       "      <td>Ron Dicker</td>\n",
       "      <td>https://www.huffingtonpost.com/entry/jim-carre...</td>\n",
       "      <td>The actor gives Dems an ass-kicking for not fi...</td>\n",
       "      <td>2018-05-26</td>\n",
       "      <td>Rep. Adam Schiff (D-Calif.) and fellow Democra...</td>\n",
       "    </tr>\n",
       "    <tr>\n",
       "      <th>4</th>\n",
       "      <td>ENTERTAINMENT</td>\n",
       "      <td>Julianna Margulies Uses Donald Trump Poop Bags...</td>\n",
       "      <td>Ron Dicker</td>\n",
       "      <td>https://www.huffingtonpost.com/entry/julianna-...</td>\n",
       "      <td>The \"Dietland\" actress said using the bags is ...</td>\n",
       "      <td>2018-05-26</td>\n",
       "      <td>The “Dietland” star told host Jimmy Fallon tha...</td>\n",
       "    </tr>\n",
       "    <tr>\n",
       "      <th>...</th>\n",
       "      <td>...</td>\n",
       "      <td>...</td>\n",
       "      <td>...</td>\n",
       "      <td>...</td>\n",
       "      <td>...</td>\n",
       "      <td>...</td>\n",
       "      <td>...</td>\n",
       "    </tr>\n",
       "    <tr>\n",
       "      <th>40378</th>\n",
       "      <td>ARTS &amp; CULTURE</td>\n",
       "      <td>Book Publishers Are Scrambling To Release Trum...</td>\n",
       "      <td>Maddie Crum</td>\n",
       "      <td>https://www.huffingtonpost.com/entry/trump-sur...</td>\n",
       "      <td>Several forthcoming new books center on coping...</td>\n",
       "      <td>2016-12-09</td>\n",
       "      <td>The day after Donald Trump’s election win, man...</td>\n",
       "    </tr>\n",
       "    <tr>\n",
       "      <th>40379</th>\n",
       "      <td>BLACK VOICES</td>\n",
       "      <td>Second NFL Player Targeted By Stomach-Turning ...</td>\n",
       "      <td>Ryan Grenoble</td>\n",
       "      <td>https://www.huffingtonpost.com/entry/brandon-m...</td>\n",
       "      <td>Broncos linebacker Brandon Marshall said he wa...</td>\n",
       "      <td>2016-12-09</td>\n",
       "      <td>Justin Edmonds via Getty Images Brandon Marsha...</td>\n",
       "    </tr>\n",
       "    <tr>\n",
       "      <th>40380</th>\n",
       "      <td>POLITICS</td>\n",
       "      <td>Senate Democrats Give Up On Coal Miner Health ...</td>\n",
       "      <td>Laura Barrón-López</td>\n",
       "      <td>https://www.huffingtonpost.com/entry/governmen...</td>\n",
       "      <td>Sen. Joe Manchin said he hopes to enlist Presi...</td>\n",
       "      <td>2016-12-09</td>\n",
       "      <td>Coal-state Senate Democrats on Friday backed o...</td>\n",
       "    </tr>\n",
       "    <tr>\n",
       "      <th>40381</th>\n",
       "      <td>POLITICS</td>\n",
       "      <td>Courtesy Over Death Penalty Cases May Be Dead ...</td>\n",
       "      <td>Cristian Farias</td>\n",
       "      <td>https://www.huffingtonpost.com/entry/supreme-c...</td>\n",
       "      <td>The justices agreed to stay one man's executio...</td>\n",
       "      <td>2016-12-09</td>\n",
       "      <td>Days before the presidential election, Chief J...</td>\n",
       "    </tr>\n",
       "    <tr>\n",
       "      <th>40382</th>\n",
       "      <td>SCIENCE</td>\n",
       "      <td>Scientists Discover Feathered Dinosaur Tail Tr...</td>\n",
       "      <td>Mary Papenfuss</td>\n",
       "      <td>https://www.huffingtonpost.com/entry/feathered...</td>\n",
       "      <td>The surprise finding is 99 million years old.</td>\n",
       "      <td>2016-12-09</td>\n",
       "      <td>Royal Saskatchewan Museum/RC McKellar Tiny fea...</td>\n",
       "    </tr>\n",
       "  </tbody>\n",
       "</table>\n",
       "<p>39367 rows × 7 columns</p>\n",
       "</div>"
      ],
      "text/plain": [
       "             category                                           headline  \\\n",
       "0               CRIME  There Were 2 Mass Shootings In Texas Last Week...   \n",
       "1       ENTERTAINMENT  Will Smith Joins Diplo And Nicky Jam For The 2...   \n",
       "2       ENTERTAINMENT    Hugh Grant Marries For The First Time At Age 57   \n",
       "3       ENTERTAINMENT  Jim Carrey Blasts 'Castrato' Adam Schiff And D...   \n",
       "4       ENTERTAINMENT  Julianna Margulies Uses Donald Trump Poop Bags...   \n",
       "...               ...                                                ...   \n",
       "40378  ARTS & CULTURE  Book Publishers Are Scrambling To Release Trum...   \n",
       "40379    BLACK VOICES  Second NFL Player Targeted By Stomach-Turning ...   \n",
       "40380        POLITICS  Senate Democrats Give Up On Coal Miner Health ...   \n",
       "40381        POLITICS  Courtesy Over Death Penalty Cases May Be Dead ...   \n",
       "40382         SCIENCE  Scientists Discover Feathered Dinosaur Tail Tr...   \n",
       "\n",
       "                  authors                                               link  \\\n",
       "0         Melissa Jeltsen  https://www.huffingtonpost.com/entry/texas-ama...   \n",
       "1           Andy McDonald  https://www.huffingtonpost.com/entry/will-smit...   \n",
       "2              Ron Dicker  https://www.huffingtonpost.com/entry/hugh-gran...   \n",
       "3              Ron Dicker  https://www.huffingtonpost.com/entry/jim-carre...   \n",
       "4              Ron Dicker  https://www.huffingtonpost.com/entry/julianna-...   \n",
       "...                   ...                                                ...   \n",
       "40378         Maddie Crum  https://www.huffingtonpost.com/entry/trump-sur...   \n",
       "40379       Ryan Grenoble  https://www.huffingtonpost.com/entry/brandon-m...   \n",
       "40380  Laura Barrón-López  https://www.huffingtonpost.com/entry/governmen...   \n",
       "40381     Cristian Farias  https://www.huffingtonpost.com/entry/supreme-c...   \n",
       "40382      Mary Papenfuss  https://www.huffingtonpost.com/entry/feathered...   \n",
       "\n",
       "                                       short_description        date  \\\n",
       "0      She left her husband. He killed their children...  2018-05-26   \n",
       "1                               Of course it has a song.  2018-05-26   \n",
       "2      The actor and his longtime girlfriend Anna Ebe...  2018-05-26   \n",
       "3      The actor gives Dems an ass-kicking for not fi...  2018-05-26   \n",
       "4      The \"Dietland\" actress said using the bags is ...  2018-05-26   \n",
       "...                                                  ...         ...   \n",
       "40378  Several forthcoming new books center on coping...  2016-12-09   \n",
       "40379  Broncos linebacker Brandon Marshall said he wa...  2016-12-09   \n",
       "40380  Sen. Joe Manchin said he hopes to enlist Presi...  2016-12-09   \n",
       "40381  The justices agreed to stay one man's executio...  2016-12-09   \n",
       "40382      The surprise finding is 99 million years old.  2016-12-09   \n",
       "\n",
       "                                               full_text  \n",
       "0      Mei-Chun Jau for HuffPost Amanda Painter is th...  \n",
       "1      The 2018 FIFA World Cup starts June 14 in Russ...  \n",
       "2      Love actually turned to matrimony for Hugh Gra...  \n",
       "3      Rep. Adam Schiff (D-Calif.) and fellow Democra...  \n",
       "4      The “Dietland” star told host Jimmy Fallon tha...  \n",
       "...                                                  ...  \n",
       "40378  The day after Donald Trump’s election win, man...  \n",
       "40379  Justin Edmonds via Getty Images Brandon Marsha...  \n",
       "40380  Coal-state Senate Democrats on Friday backed o...  \n",
       "40381  Days before the presidential election, Chief J...  \n",
       "40382  Royal Saskatchewan Museum/RC McKellar Tiny fea...  \n",
       "\n",
       "[39367 rows x 7 columns]"
      ]
     },
     "execution_count": 8,
     "metadata": {},
     "output_type": "execute_result"
    }
   ],
   "source": [
    "df_2"
   ]
  },
  {
   "cell_type": "markdown",
   "metadata": {},
   "source": [
    "The first thing I had to do with the data was clean the full text we had gathered. This involved removing all capital letters and punctuation. But also with natural language processing we want to determine what words a computer does not need to look at while determining categorization. I did this here and wrote some code to pull all of the website links from the article text as they were unique nonsense words a machine wouldn't be able to categorize well."
   ]
  },
  {
   "cell_type": "code",
   "execution_count": 9,
   "metadata": {},
   "outputs": [],
   "source": [
    "df_2['lower_text'] = df_2['full_text'].apply(lambda x: \" \".join(x.lower() for x in x.split()))"
   ]
  },
  {
   "cell_type": "code",
   "execution_count": 10,
   "metadata": {},
   "outputs": [
    {
     "data": {
      "text/plain": [
       "0    mei-chun jau for huffpost amanda painter is th...\n",
       "1    the 2018 fifa world cup starts june 14 in russ...\n",
       "2    love actually turned to matrimony for hugh gra...\n",
       "3    rep. adam schiff (d-calif.) and fellow democra...\n",
       "4    the “dietland” star told host jimmy fallon tha...\n",
       "Name: lower_text, dtype: object"
      ]
     },
     "execution_count": 10,
     "metadata": {},
     "output_type": "execute_result"
    }
   ],
   "source": [
    "df_2[\"lower_text\"].head()"
   ]
  },
  {
   "cell_type": "code",
   "execution_count": 11,
   "metadata": {},
   "outputs": [
    {
     "data": {
      "text/plain": [
       "'!\"#$%&\\'()*+,-./:;<=>?@[\\\\]^_`{|}~'"
      ]
     },
     "execution_count": 11,
     "metadata": {},
     "output_type": "execute_result"
    }
   ],
   "source": [
    "string.punctuation"
   ]
  },
  {
   "cell_type": "code",
   "execution_count": 12,
   "metadata": {},
   "outputs": [],
   "source": [
    "df_2[\"lower_text\"] = df_2[\"lower_text\"].str.replace('[^\\w\\s]', \"\")"
   ]
  },
  {
   "cell_type": "code",
   "execution_count": 13,
   "metadata": {},
   "outputs": [],
   "source": [
    "stop = stopwords.words(\"english\")"
   ]
  },
  {
   "cell_type": "code",
   "execution_count": 14,
   "metadata": {},
   "outputs": [],
   "source": [
    "df_2['lower_text'] = df_2['lower_text'].apply(lambda x: \" \".join(x for x in x.split() if x not in stop))"
   ]
  },
  {
   "cell_type": "code",
   "execution_count": 15,
   "metadata": {},
   "outputs": [
    {
     "data": {
      "text/plain": [
       "0    meichun jau huffpost amanda painter sole survi...\n",
       "1    2018 fifa world cup starts june 14 russia offi...\n",
       "2    love actually turned matrimony hugh grant 57ye...\n",
       "3    rep adam schiff dcalif fellow democrats better...\n",
       "4    dietland star told host jimmy fallon uses trum...\n",
       "Name: lower_text, dtype: object"
      ]
     },
     "execution_count": 15,
     "metadata": {},
     "output_type": "execute_result"
    }
   ],
   "source": [
    "df_2[\"lower_text\"].head()"
   ]
  },
  {
   "cell_type": "code",
   "execution_count": 16,
   "metadata": {},
   "outputs": [],
   "source": [
    "df_2[\"category\"] = df_2[\"category\"].str.lower()"
   ]
  },
  {
   "cell_type": "code",
   "execution_count": 18,
   "metadata": {},
   "outputs": [],
   "source": [
    "def tfidf(X, y,  stopwords_list): \n",
    "    X_train, X_test, y_train, y_test = train_test_split(X, y, random_state=42)\n",
    "    vectorizer = TfidfVectorizer(stop_words=stopwords_list)\n",
    "    tf_idf_train = vectorizer.fit_transform(X_train)\n",
    "    tf_idf_test = vectorizer.transform(X_test)\n",
    "    return tf_idf_train, tf_idf_test, y_train, y_test, vectorizer"
   ]
  },
  {
   "cell_type": "code",
   "execution_count": 19,
   "metadata": {},
   "outputs": [],
   "source": [
    "# stopwords_list = stopwords.words('english') \n",
    "# idf_train, idf_test, y_tr, y_t, vectorizer = tfidf(X, y, stopwords_list)"
   ]
  },
  {
   "cell_type": "code",
   "execution_count": 20,
   "metadata": {},
   "outputs": [],
   "source": [
    "df_3 = pd.DataFrame()"
   ]
  },
  {
   "cell_type": "code",
   "execution_count": 21,
   "metadata": {},
   "outputs": [],
   "source": [
    "# df_3[\"lower_text\"] = df_2[\"lower_text\"].apply(lambda x: x.replace(\"  \", \" \").replace(\"   \", \" \").replace(\"    \", \" \").replace(\"     \", \" \"))"
   ]
  },
  {
   "cell_type": "code",
   "execution_count": 22,
   "metadata": {},
   "outputs": [],
   "source": [
    "df_3[\"lower_text\"] = df_2[\"lower_text\"].apply(lambda x: x.split(\" \"))"
   ]
  },
  {
   "cell_type": "code",
   "execution_count": 23,
   "metadata": {},
   "outputs": [],
   "source": [
    "df_3[\"category\"] = df_2[\"category\"]"
   ]
  },
  {
   "cell_type": "markdown",
   "metadata": {},
   "source": [
    "I built a seperate dataframe to contain a single row per word found in a text in order to determine what words were used very infrequently, or frequently, that the computer wouldn't recieve value from by noticing."
   ]
  },
  {
   "cell_type": "code",
   "execution_count": 24,
   "metadata": {},
   "outputs": [
    {
     "data": {
      "text/html": [
       "<div>\n",
       "<style scoped>\n",
       "    .dataframe tbody tr th:only-of-type {\n",
       "        vertical-align: middle;\n",
       "    }\n",
       "\n",
       "    .dataframe tbody tr th {\n",
       "        vertical-align: top;\n",
       "    }\n",
       "\n",
       "    .dataframe thead th {\n",
       "        text-align: right;\n",
       "    }\n",
       "</style>\n",
       "<table border=\"1\" class=\"dataframe\">\n",
       "  <thead>\n",
       "    <tr style=\"text-align: right;\">\n",
       "      <th></th>\n",
       "      <th>lower_text</th>\n",
       "      <th>category</th>\n",
       "    </tr>\n",
       "  </thead>\n",
       "  <tbody>\n",
       "    <tr>\n",
       "      <th>0</th>\n",
       "      <td>[meichun, jau, huffpost, amanda, painter, sole...</td>\n",
       "      <td>crime</td>\n",
       "    </tr>\n",
       "    <tr>\n",
       "      <th>1</th>\n",
       "      <td>[2018, fifa, world, cup, starts, june, 14, rus...</td>\n",
       "      <td>entertainment</td>\n",
       "    </tr>\n",
       "    <tr>\n",
       "      <th>2</th>\n",
       "      <td>[love, actually, turned, matrimony, hugh, gran...</td>\n",
       "      <td>entertainment</td>\n",
       "    </tr>\n",
       "    <tr>\n",
       "      <th>3</th>\n",
       "      <td>[rep, adam, schiff, dcalif, fellow, democrats,...</td>\n",
       "      <td>entertainment</td>\n",
       "    </tr>\n",
       "    <tr>\n",
       "      <th>4</th>\n",
       "      <td>[dietland, star, told, host, jimmy, fallon, us...</td>\n",
       "      <td>entertainment</td>\n",
       "    </tr>\n",
       "    <tr>\n",
       "      <th>...</th>\n",
       "      <td>...</td>\n",
       "      <td>...</td>\n",
       "    </tr>\n",
       "    <tr>\n",
       "      <th>40378</th>\n",
       "      <td>[day, donald, trumps, election, win, many, ame...</td>\n",
       "      <td>arts &amp; culture</td>\n",
       "    </tr>\n",
       "    <tr>\n",
       "      <th>40379</th>\n",
       "      <td>[justin, edmonds, via, getty, images, brandon,...</td>\n",
       "      <td>black voices</td>\n",
       "    </tr>\n",
       "    <tr>\n",
       "      <th>40380</th>\n",
       "      <td>[coalstate, senate, democrats, friday, backed,...</td>\n",
       "      <td>politics</td>\n",
       "    </tr>\n",
       "    <tr>\n",
       "      <th>40381</th>\n",
       "      <td>[days, presidential, election, chief, justice,...</td>\n",
       "      <td>politics</td>\n",
       "    </tr>\n",
       "    <tr>\n",
       "      <th>40382</th>\n",
       "      <td>[royal, saskatchewan, museumrc, mckellar, tiny...</td>\n",
       "      <td>science</td>\n",
       "    </tr>\n",
       "  </tbody>\n",
       "</table>\n",
       "<p>39367 rows × 2 columns</p>\n",
       "</div>"
      ],
      "text/plain": [
       "                                              lower_text        category\n",
       "0      [meichun, jau, huffpost, amanda, painter, sole...           crime\n",
       "1      [2018, fifa, world, cup, starts, june, 14, rus...   entertainment\n",
       "2      [love, actually, turned, matrimony, hugh, gran...   entertainment\n",
       "3      [rep, adam, schiff, dcalif, fellow, democrats,...   entertainment\n",
       "4      [dietland, star, told, host, jimmy, fallon, us...   entertainment\n",
       "...                                                  ...             ...\n",
       "40378  [day, donald, trumps, election, win, many, ame...  arts & culture\n",
       "40379  [justin, edmonds, via, getty, images, brandon,...    black voices\n",
       "40380  [coalstate, senate, democrats, friday, backed,...        politics\n",
       "40381  [days, presidential, election, chief, justice,...        politics\n",
       "40382  [royal, saskatchewan, museumrc, mckellar, tiny...         science\n",
       "\n",
       "[39367 rows x 2 columns]"
      ]
     },
     "execution_count": 24,
     "metadata": {},
     "output_type": "execute_result"
    }
   ],
   "source": [
    "df_3"
   ]
  },
  {
   "cell_type": "code",
   "execution_count": 25,
   "metadata": {},
   "outputs": [],
   "source": [
    "df_3 = df_3.explode(\"lower_text\")"
   ]
  },
  {
   "cell_type": "code",
   "execution_count": 26,
   "metadata": {},
   "outputs": [
    {
     "data": {
      "text/html": [
       "<div>\n",
       "<style scoped>\n",
       "    .dataframe tbody tr th:only-of-type {\n",
       "        vertical-align: middle;\n",
       "    }\n",
       "\n",
       "    .dataframe tbody tr th {\n",
       "        vertical-align: top;\n",
       "    }\n",
       "\n",
       "    .dataframe thead th {\n",
       "        text-align: right;\n",
       "    }\n",
       "</style>\n",
       "<table border=\"1\" class=\"dataframe\">\n",
       "  <thead>\n",
       "    <tr style=\"text-align: right;\">\n",
       "      <th></th>\n",
       "      <th>lower_text</th>\n",
       "      <th>category</th>\n",
       "    </tr>\n",
       "  </thead>\n",
       "  <tbody>\n",
       "    <tr>\n",
       "      <th>0</th>\n",
       "      <td>meichun</td>\n",
       "      <td>crime</td>\n",
       "    </tr>\n",
       "    <tr>\n",
       "      <th>0</th>\n",
       "      <td>jau</td>\n",
       "      <td>crime</td>\n",
       "    </tr>\n",
       "    <tr>\n",
       "      <th>0</th>\n",
       "      <td>huffpost</td>\n",
       "      <td>crime</td>\n",
       "    </tr>\n",
       "    <tr>\n",
       "      <th>0</th>\n",
       "      <td>amanda</td>\n",
       "      <td>crime</td>\n",
       "    </tr>\n",
       "    <tr>\n",
       "      <th>0</th>\n",
       "      <td>painter</td>\n",
       "      <td>crime</td>\n",
       "    </tr>\n",
       "  </tbody>\n",
       "</table>\n",
       "</div>"
      ],
      "text/plain": [
       "  lower_text category\n",
       "0    meichun    crime\n",
       "0        jau    crime\n",
       "0   huffpost    crime\n",
       "0     amanda    crime\n",
       "0    painter    crime"
      ]
     },
     "execution_count": 26,
     "metadata": {},
     "output_type": "execute_result"
    }
   ],
   "source": [
    "df_3.head()"
   ]
  },
  {
   "cell_type": "markdown",
   "metadata": {},
   "source": [
    "In the cell below we can see that the articles contain \"words\" which contain nothing but a picture link from twitter. This is an example of a \"word\" that only occurs once and as a category can be searched out and removed from our articles entirely."
   ]
  },
  {
   "cell_type": "code",
   "execution_count": 27,
   "metadata": {},
   "outputs": [
    {
     "data": {
      "text/plain": [
       "said                       106009\n",
       "trump                       76536\n",
       "people                      66456\n",
       "would                       59388\n",
       "us                          56237\n",
       "                            ...  \n",
       "pictwittercomxiygv4syuq         1\n",
       "nonalternative                  1\n",
       "sklars                          1\n",
       "roomtoroom                      1\n",
       "gusisnotforus                   1\n",
       "Name: lower_text, Length: 246874, dtype: int64"
      ]
     },
     "execution_count": 27,
     "metadata": {},
     "output_type": "execute_result"
    }
   ],
   "source": [
    "df_3.lower_text.value_counts()"
   ]
  },
  {
   "cell_type": "code",
   "execution_count": 28,
   "metadata": {},
   "outputs": [],
   "source": [
    "pictwitter = df_3[\"lower_text\"].loc[df_3[\"lower_text\"].str.startswith(\"pictwitter\")]"
   ]
  },
  {
   "cell_type": "code",
   "execution_count": 29,
   "metadata": {},
   "outputs": [],
   "source": [
    "df_3 = df_3.loc[df_3[\"lower_text\"].str.startswith(\"pictwitter\") == False]"
   ]
  },
  {
   "cell_type": "code",
   "execution_count": 30,
   "metadata": {
    "scrolled": true
   },
   "outputs": [
    {
     "data": {
      "text/plain": [
       "6        hrefhttpenrocketnews24com20170307mcdonaldsjapa...\n",
       "19       httpswwwscotsmancomnewspoliticstrumpturnberryp...\n",
       "19       httpswwwscotsmancomnewspoliticstrumpturnberryp...\n",
       "19       httpswwwscotsmancomnewspoliticstrumpturnberryp...\n",
       "19       httpswwwscotsmancomnewspoliticstrumpturnberryp...\n",
       "                               ...                        \n",
       "40251                                   httpstcoc55yokslif\n",
       "40280    hrefhttpswwwhuffpostcomentryilhanomarelectedto...\n",
       "40280    hrefhttpwwwstartribunecomilhanomarwillbenation...\n",
       "40280    hrefhttpswwwhuffpostcomentrypccccandidates2016...\n",
       "40291                      httpsfundrazrcomcampaigns11b5z8\n",
       "Name: lower_text, Length: 6160, dtype: object"
      ]
     },
     "execution_count": 30,
     "metadata": {},
     "output_type": "execute_result"
    }
   ],
   "source": [
    "df_3[\"lower_text\"].loc[df_3[\"lower_text\"].str.contains(\"http\")]"
   ]
  },
  {
   "cell_type": "code",
   "execution_count": 31,
   "metadata": {},
   "outputs": [],
   "source": [
    "http = df_3[\"lower_text\"].loc[df_3[\"lower_text\"].str.contains(\"http\")]"
   ]
  },
  {
   "cell_type": "code",
   "execution_count": 32,
   "metadata": {},
   "outputs": [],
   "source": [
    "df_3 = df_3.loc[df_3[\"lower_text\"].str.contains(\"http\") == False]"
   ]
  },
  {
   "cell_type": "code",
   "execution_count": 33,
   "metadata": {},
   "outputs": [
    {
     "data": {
      "text/plain": [
       "42west             1\n",
       "eckes              1\n",
       "steamgrill         1\n",
       "breathoflife       1\n",
       "compradorist       1\n",
       "layhani            1\n",
       "boles              1\n",
       "decs               1\n",
       "candrashekar       1\n",
       "baams              1\n",
       "sourcewater        1\n",
       "inman              1\n",
       "grothmans          1\n",
       "laberge            1\n",
       "josephsteinberg    1\n",
       "latuffcartoons     1\n",
       "stagehands         1\n",
       "raouf              1\n",
       "arzobispo          1\n",
       "multioctave        1\n",
       "suna               1\n",
       "nrakept            1\n",
       "armors             1\n",
       "wfmztv             1\n",
       "swolfley79         1\n",
       "russianarmenian    1\n",
       "fromit             1\n",
       "pfas               1\n",
       "penneast           1\n",
       "gusisnotforus      1\n",
       "Name: lower_text, dtype: int64"
      ]
     },
     "execution_count": 33,
     "metadata": {},
     "output_type": "execute_result"
    }
   ],
   "source": [
    "df_3[\"lower_text\"].value_counts().tail(30)"
   ]
  },
  {
   "cell_type": "code",
   "execution_count": 34,
   "metadata": {},
   "outputs": [
    {
     "data": {
      "text/plain": [
       "304                                      wwwregulationsgov\n",
       "628                                        wwwbretbaiercom\n",
       "2357                                    wwwgodhatesfagscom\n",
       "3460                                        wwwjoesoukicom\n",
       "4022                                     wwwregulationsgov\n",
       "                               ...                        \n",
       "40231                         wwwmonumentsmenfoundationorg\n",
       "40234                                         wwwlascauxfr\n",
       "40243    wwwbillboardcomarticleseventswomeninmusic76168...\n",
       "40303                             wwwlorrainedevonwilkecom\n",
       "40305                                  wwwjackiekcoopercom\n",
       "Name: lower_text, Length: 950, dtype: object"
      ]
     },
     "execution_count": 34,
     "metadata": {},
     "output_type": "execute_result"
    }
   ],
   "source": [
    "df_3[\"lower_text\"].loc[df_3[\"lower_text\"].str.startswith(\"www\") == True]"
   ]
  },
  {
   "cell_type": "code",
   "execution_count": 35,
   "metadata": {},
   "outputs": [],
   "source": [
    "www = df_3[\"lower_text\"].loc[df_3[\"lower_text\"].str.startswith(\"www\") == True]"
   ]
  },
  {
   "cell_type": "code",
   "execution_count": 36,
   "metadata": {},
   "outputs": [],
   "source": [
    "df_3 = df_3.loc[(df_3[\"lower_text\"].str.startswith(\"www\") != True)]"
   ]
  },
  {
   "cell_type": "code",
   "execution_count": 37,
   "metadata": {},
   "outputs": [],
   "source": [
    "df_2['target'] = df_2['category'].replace(['the worldpost', 'worldpost'],'world news').replace(['black voices', 'queer voices', 'latino voices', 'women'],'diverse voices')"
   ]
  },
  {
   "cell_type": "code",
   "execution_count": 38,
   "metadata": {},
   "outputs": [],
   "source": [
    "df_2.drop([\"authors\", \"link\", \"category\", \"date\", \"full_text\"], axis = 1, inplace = True)"
   ]
  },
  {
   "cell_type": "code",
   "execution_count": 39,
   "metadata": {},
   "outputs": [
    {
     "data": {
      "text/html": [
       "<div>\n",
       "<style scoped>\n",
       "    .dataframe tbody tr th:only-of-type {\n",
       "        vertical-align: middle;\n",
       "    }\n",
       "\n",
       "    .dataframe tbody tr th {\n",
       "        vertical-align: top;\n",
       "    }\n",
       "\n",
       "    .dataframe thead th {\n",
       "        text-align: right;\n",
       "    }\n",
       "</style>\n",
       "<table border=\"1\" class=\"dataframe\">\n",
       "  <thead>\n",
       "    <tr style=\"text-align: right;\">\n",
       "      <th></th>\n",
       "      <th>headline</th>\n",
       "      <th>short_description</th>\n",
       "      <th>lower_text</th>\n",
       "      <th>target</th>\n",
       "    </tr>\n",
       "  </thead>\n",
       "  <tbody>\n",
       "    <tr>\n",
       "      <th>0</th>\n",
       "      <td>There Were 2 Mass Shootings In Texas Last Week...</td>\n",
       "      <td>She left her husband. He killed their children...</td>\n",
       "      <td>meichun jau huffpost amanda painter sole survi...</td>\n",
       "      <td>crime</td>\n",
       "    </tr>\n",
       "    <tr>\n",
       "      <th>1</th>\n",
       "      <td>Will Smith Joins Diplo And Nicky Jam For The 2...</td>\n",
       "      <td>Of course it has a song.</td>\n",
       "      <td>2018 fifa world cup starts june 14 russia offi...</td>\n",
       "      <td>entertainment</td>\n",
       "    </tr>\n",
       "    <tr>\n",
       "      <th>2</th>\n",
       "      <td>Hugh Grant Marries For The First Time At Age 57</td>\n",
       "      <td>The actor and his longtime girlfriend Anna Ebe...</td>\n",
       "      <td>love actually turned matrimony hugh grant 57ye...</td>\n",
       "      <td>entertainment</td>\n",
       "    </tr>\n",
       "    <tr>\n",
       "      <th>3</th>\n",
       "      <td>Jim Carrey Blasts 'Castrato' Adam Schiff And D...</td>\n",
       "      <td>The actor gives Dems an ass-kicking for not fi...</td>\n",
       "      <td>rep adam schiff dcalif fellow democrats better...</td>\n",
       "      <td>entertainment</td>\n",
       "    </tr>\n",
       "    <tr>\n",
       "      <th>4</th>\n",
       "      <td>Julianna Margulies Uses Donald Trump Poop Bags...</td>\n",
       "      <td>The \"Dietland\" actress said using the bags is ...</td>\n",
       "      <td>dietland star told host jimmy fallon uses trum...</td>\n",
       "      <td>entertainment</td>\n",
       "    </tr>\n",
       "    <tr>\n",
       "      <th>...</th>\n",
       "      <td>...</td>\n",
       "      <td>...</td>\n",
       "      <td>...</td>\n",
       "      <td>...</td>\n",
       "    </tr>\n",
       "    <tr>\n",
       "      <th>40378</th>\n",
       "      <td>Book Publishers Are Scrambling To Release Trum...</td>\n",
       "      <td>Several forthcoming new books center on coping...</td>\n",
       "      <td>day donald trumps election win many americans ...</td>\n",
       "      <td>arts &amp; culture</td>\n",
       "    </tr>\n",
       "    <tr>\n",
       "      <th>40379</th>\n",
       "      <td>Second NFL Player Targeted By Stomach-Turning ...</td>\n",
       "      <td>Broncos linebacker Brandon Marshall said he wa...</td>\n",
       "      <td>justin edmonds via getty images brandon marsha...</td>\n",
       "      <td>diverse voices</td>\n",
       "    </tr>\n",
       "    <tr>\n",
       "      <th>40380</th>\n",
       "      <td>Senate Democrats Give Up On Coal Miner Health ...</td>\n",
       "      <td>Sen. Joe Manchin said he hopes to enlist Presi...</td>\n",
       "      <td>coalstate senate democrats friday backed threa...</td>\n",
       "      <td>politics</td>\n",
       "    </tr>\n",
       "    <tr>\n",
       "      <th>40381</th>\n",
       "      <td>Courtesy Over Death Penalty Cases May Be Dead ...</td>\n",
       "      <td>The justices agreed to stay one man's executio...</td>\n",
       "      <td>days presidential election chief justice john ...</td>\n",
       "      <td>politics</td>\n",
       "    </tr>\n",
       "    <tr>\n",
       "      <th>40382</th>\n",
       "      <td>Scientists Discover Feathered Dinosaur Tail Tr...</td>\n",
       "      <td>The surprise finding is 99 million years old.</td>\n",
       "      <td>royal saskatchewan museumrc mckellar tiny feat...</td>\n",
       "      <td>science</td>\n",
       "    </tr>\n",
       "  </tbody>\n",
       "</table>\n",
       "<p>39367 rows × 4 columns</p>\n",
       "</div>"
      ],
      "text/plain": [
       "                                                headline  \\\n",
       "0      There Were 2 Mass Shootings In Texas Last Week...   \n",
       "1      Will Smith Joins Diplo And Nicky Jam For The 2...   \n",
       "2        Hugh Grant Marries For The First Time At Age 57   \n",
       "3      Jim Carrey Blasts 'Castrato' Adam Schiff And D...   \n",
       "4      Julianna Margulies Uses Donald Trump Poop Bags...   \n",
       "...                                                  ...   \n",
       "40378  Book Publishers Are Scrambling To Release Trum...   \n",
       "40379  Second NFL Player Targeted By Stomach-Turning ...   \n",
       "40380  Senate Democrats Give Up On Coal Miner Health ...   \n",
       "40381  Courtesy Over Death Penalty Cases May Be Dead ...   \n",
       "40382  Scientists Discover Feathered Dinosaur Tail Tr...   \n",
       "\n",
       "                                       short_description  \\\n",
       "0      She left her husband. He killed their children...   \n",
       "1                               Of course it has a song.   \n",
       "2      The actor and his longtime girlfriend Anna Ebe...   \n",
       "3      The actor gives Dems an ass-kicking for not fi...   \n",
       "4      The \"Dietland\" actress said using the bags is ...   \n",
       "...                                                  ...   \n",
       "40378  Several forthcoming new books center on coping...   \n",
       "40379  Broncos linebacker Brandon Marshall said he wa...   \n",
       "40380  Sen. Joe Manchin said he hopes to enlist Presi...   \n",
       "40381  The justices agreed to stay one man's executio...   \n",
       "40382      The surprise finding is 99 million years old.   \n",
       "\n",
       "                                              lower_text          target  \n",
       "0      meichun jau huffpost amanda painter sole survi...           crime  \n",
       "1      2018 fifa world cup starts june 14 russia offi...   entertainment  \n",
       "2      love actually turned matrimony hugh grant 57ye...   entertainment  \n",
       "3      rep adam schiff dcalif fellow democrats better...   entertainment  \n",
       "4      dietland star told host jimmy fallon uses trum...   entertainment  \n",
       "...                                                  ...             ...  \n",
       "40378  day donald trumps election win many americans ...  arts & culture  \n",
       "40379  justin edmonds via getty images brandon marsha...  diverse voices  \n",
       "40380  coalstate senate democrats friday backed threa...        politics  \n",
       "40381  days presidential election chief justice john ...        politics  \n",
       "40382  royal saskatchewan museumrc mckellar tiny feat...         science  \n",
       "\n",
       "[39367 rows x 4 columns]"
      ]
     },
     "execution_count": 39,
     "metadata": {},
     "output_type": "execute_result"
    }
   ],
   "source": [
    "df_2"
   ]
  },
  {
   "cell_type": "markdown",
   "metadata": {},
   "source": [
    "Now that I have removed more stopwords I built a multinomial Naive Baise model and a random forest model which were scored on accuracy that looked at the leftover text after the stopwords were removed. These models are relatively basic as they only take into account the number of times a word is used in each category of news, wherease a neural network will also look at the specific word location in a text as well."
   ]
  },
  {
   "cell_type": "code",
   "execution_count": null,
   "metadata": {},
   "outputs": [],
   "source": [
    "y = df_2[\"target\"]\n",
    "X = df_2[\"lower_text\"]"
   ]
  },
  {
   "cell_type": "code",
   "execution_count": 41,
   "metadata": {},
   "outputs": [],
   "source": [
    "stopwords_list = stopwords.words('english') + list(pictwitter) + list(http) + list(www)\n",
    "idf_train, idf_test, y_tr, y_t, vectorizer = tfidf(X, y, stopwords_list)"
   ]
  },
  {
   "cell_type": "code",
   "execution_count": 42,
   "metadata": {},
   "outputs": [],
   "source": [
    "def classify_text(classifier, tf_idf_train, tf_idf_test, y_train):\n",
    "    classifier.fit(tf_idf_train, y_train)\n",
    "    train_preds = classifier.predict(tf_idf_train)\n",
    "    test_preds = classifier.predict(tf_idf_test)\n",
    "    return train_preds, test_preds\n",
    "\n",
    "def score_preds(y_test,y_train,test_preds, train_preds):\n",
    "    print(\"Train: \", accuracy_score(y_train, train_preds))\n",
    "    print(\"Test: \", accuracy_score(y_test, test_preds))"
   ]
  },
  {
   "cell_type": "code",
   "execution_count": 64,
   "metadata": {},
   "outputs": [],
   "source": [
    "rfc = RandomForestClassifier()\n",
    "nb_classifier = MultinomialNB()"
   ]
  },
  {
   "cell_type": "code",
   "execution_count": 44,
   "metadata": {},
   "outputs": [],
   "source": [
    "nb_train_preds, nb_test_preds = classify_text(nb_classifier, idf_train, idf_test, y_tr)"
   ]
  },
  {
   "cell_type": "code",
   "execution_count": 45,
   "metadata": {},
   "outputs": [
    {
     "name": "stdout",
     "output_type": "stream",
     "text": [
      "Train:  0.40972057578323456\n",
      "Test:  0.3966673440357651\n"
     ]
    }
   ],
   "source": [
    "score_preds(y_t, y_tr, nb_test_preds, nb_train_preds)"
   ]
  },
  {
   "cell_type": "code",
   "execution_count": 46,
   "metadata": {},
   "outputs": [
    {
     "name": "stdout",
     "output_type": "stream",
     "text": [
      "Train:  0.9969517358171042\n",
      "Test:  0.6134931924405609\n"
     ]
    }
   ],
   "source": [
    "rf_train_preds, rf_test_preds = classify_text(rfc, idf_train, idf_test, y_tr)\n",
    "\n",
    "score_preds(y_t, y_tr, rf_test_preds, rf_train_preds)"
   ]
  },
  {
   "cell_type": "code",
   "execution_count": 47,
   "metadata": {},
   "outputs": [],
   "source": [
    "from sklearn.model_selection import GridSearchCV"
   ]
  },
  {
   "cell_type": "code",
   "execution_count": 65,
   "metadata": {},
   "outputs": [],
   "source": [
    "param_grid = {\n",
    "    \"n_estimators\": [100, 150],\n",
    "    \"criterion\": [\"gini\", \"entropy\"],\n",
    "    \"min_samples_split\": [2,4],\n",
    "    \"min_samples_leaf\": [1,3]\n",
    "}"
   ]
  },
  {
   "cell_type": "code",
   "execution_count": 69,
   "metadata": {},
   "outputs": [],
   "source": [
    "grid = GridSearchCV(rfc, param_grid, scoring = \"accuracy\", cv = 2, verbose = True)"
   ]
  },
  {
   "cell_type": "code",
   "execution_count": 70,
   "metadata": {},
   "outputs": [
    {
     "name": "stdout",
     "output_type": "stream",
     "text": [
      "Fitting 2 folds for each of 16 candidates, totalling 32 fits\n"
     ]
    },
    {
     "name": "stderr",
     "output_type": "stream",
     "text": [
      "[Parallel(n_jobs=1)]: Using backend SequentialBackend with 1 concurrent workers.\n",
      "[Parallel(n_jobs=1)]: Done  32 out of  32 | elapsed: 60.1min finished\n"
     ]
    },
    {
     "data": {
      "text/plain": [
       "GridSearchCV(cv=2, estimator=RandomForestClassifier(),\n",
       "             param_grid={'criterion': ['gini', 'entropy'],\n",
       "                         'min_samples_leaf': [1, 3],\n",
       "                         'min_samples_split': [2, 4],\n",
       "                         'n_estimators': [100, 150]},\n",
       "             scoring='accuracy', verbose=True)"
      ]
     },
     "execution_count": 70,
     "metadata": {},
     "output_type": "execute_result"
    }
   ],
   "source": [
    "grid.fit(idf_train, y_tr)"
   ]
  },
  {
   "cell_type": "code",
   "execution_count": 71,
   "metadata": {},
   "outputs": [
    {
     "data": {
      "text/plain": [
       "{'criterion': 'gini',\n",
       " 'min_samples_leaf': 1,\n",
       " 'min_samples_split': 4,\n",
       " 'n_estimators': 100}"
      ]
     },
     "execution_count": 71,
     "metadata": {},
     "output_type": "execute_result"
    }
   ],
   "source": [
    "grid.best_params_"
   ]
  },
  {
   "cell_type": "code",
   "execution_count": 72,
   "metadata": {},
   "outputs": [],
   "source": [
    "rfc_better = RandomForestClassifier(n_estimators = 100, min_samples_leaf = 1, min_samples_split = 4, criterion = \"gini\")"
   ]
  },
  {
   "cell_type": "code",
   "execution_count": 73,
   "metadata": {},
   "outputs": [
    {
     "name": "stdout",
     "output_type": "stream",
     "text": [
      "Train:  0.996917866215072\n",
      "Test:  0.6127819548872181\n"
     ]
    }
   ],
   "source": [
    "rf_train_preds_better, rf_test_preds_better = classify_text(rfc_better, idf_train, idf_test, y_tr)\n",
    "\n",
    "score_preds(y_t, y_tr, rf_test_preds_better, rf_train_preds_better)"
   ]
  },
  {
   "cell_type": "markdown",
   "metadata": {},
   "source": [
    "As we can see, with the data we had managed to collect at that time the best training accuracy these models could provide was about 61 percent accurate. Which given this was sorting for about 36 categories at the time, is significantly more useful than a random guess which should have an accuracy score of about 2.7 percent."
   ]
  }
 ],
 "metadata": {
  "kernelspec": {
   "display_name": "Python 3",
   "language": "python",
   "name": "python3"
  },
  "language_info": {
   "codemirror_mode": {
    "name": "ipython",
    "version": 3
   },
   "file_extension": ".py",
   "mimetype": "text/x-python",
   "name": "python",
   "nbconvert_exporter": "python",
   "pygments_lexer": "ipython3",
   "version": "3.8.5"
  }
 },
 "nbformat": 4,
 "nbformat_minor": 4
}
