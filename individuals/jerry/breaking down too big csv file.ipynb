{
 "cells": [
  {
   "cell_type": "code",
   "execution_count": 4,
   "metadata": {},
   "outputs": [],
   "source": [
    "import pandas as pd\n",
    "import zipfile\n",
    "import gzip"
   ]
  },
  {
   "cell_type": "code",
   "execution_count": 7,
   "metadata": {},
   "outputs": [],
   "source": [
    "# df = pd.read_csv('../../data/100_thousand.gzip', compression = \"gzip\")"
   ]
  },
  {
   "cell_type": "code",
   "execution_count": 9,
   "metadata": {},
   "outputs": [
    {
     "data": {
      "text/html": [
       "<div>\n",
       "<style scoped>\n",
       "    .dataframe tbody tr th:only-of-type {\n",
       "        vertical-align: middle;\n",
       "    }\n",
       "\n",
       "    .dataframe tbody tr th {\n",
       "        vertical-align: top;\n",
       "    }\n",
       "\n",
       "    .dataframe thead th {\n",
       "        text-align: right;\n",
       "    }\n",
       "</style>\n",
       "<table border=\"1\" class=\"dataframe\">\n",
       "  <thead>\n",
       "    <tr style=\"text-align: right;\">\n",
       "      <th></th>\n",
       "      <th>headline</th>\n",
       "      <th>full_text</th>\n",
       "      <th>combined</th>\n",
       "    </tr>\n",
       "  </thead>\n",
       "  <tbody>\n",
       "    <tr>\n",
       "      <th>0</th>\n",
       "      <td>2016 Presidential Candidates Use Pre-Announcem...</td>\n",
       "      <td>Scott Walker, governor of Wisconsin, speaks du...</td>\n",
       "      <td>2016 Presidential Candidates Use Pre-Announcem...</td>\n",
       "    </tr>\n",
       "    <tr>\n",
       "      <th>1</th>\n",
       "      <td>Immigration Advocates Try To Assuage Fears Ove...</td>\n",
       "      <td>Rep. Luis Gutierrez, D-Ill, speaks during a \"U...</td>\n",
       "      <td>Immigration Advocates Try To Assuage Fears Ove...</td>\n",
       "    </tr>\n",
       "    <tr>\n",
       "      <th>2</th>\n",
       "      <td>UVA Students Say Banning Sorority Members From...</td>\n",
       "      <td>The Rotunda stands under renovation on the Uni...</td>\n",
       "      <td>UVA Students Say Banning Sorority Members From...</td>\n",
       "    </tr>\n",
       "    <tr>\n",
       "      <th>3</th>\n",
       "      <td>'Zombie Cat' Should Not Go Back To Owner Who B...</td>\n",
       "      <td>Rescue workers who helped save Bart -- the “zo...</td>\n",
       "      <td>'Zombie Cat' Should Not Go Back To Owner Who B...</td>\n",
       "    </tr>\n",
       "    <tr>\n",
       "      <th>4</th>\n",
       "      <td>The Super Bowl Sprints Workout to Burn Fat and...</td>\n",
       "      <td>We have waited long enough, and it's finally h...</td>\n",
       "      <td>The Super Bowl Sprints Workout to Burn Fat and...</td>\n",
       "    </tr>\n",
       "    <tr>\n",
       "      <th>...</th>\n",
       "      <td>...</td>\n",
       "      <td>...</td>\n",
       "      <td>...</td>\n",
       "    </tr>\n",
       "    <tr>\n",
       "      <th>100847</th>\n",
       "      <td>RIM CEO Thorsten Heins' 'Significant' Plans Fo...</td>\n",
       "      <td>By Sinead Carew and Nicola Leske  NEW YORK (Re...</td>\n",
       "      <td>RIM CEO Thorsten Heins' 'Significant' Plans Fo...</td>\n",
       "    </tr>\n",
       "    <tr>\n",
       "      <th>100848</th>\n",
       "      <td>Maria Sharapova Stunned By Victoria Azarenka I...</td>\n",
       "      <td>By Steve Tignor, Tennis.com    MELBOURNE -- \"J...</td>\n",
       "      <td>Maria Sharapova Stunned By Victoria Azarenka I...</td>\n",
       "    </tr>\n",
       "    <tr>\n",
       "      <th>100849</th>\n",
       "      <td>Giants Over Patriots, Jets Over Colts Among  M...</td>\n",
       "      <td>Leading up to Super Bowl XLVI, the most talked...</td>\n",
       "      <td>Giants Over Patriots, Jets Over Colts Among  M...</td>\n",
       "    </tr>\n",
       "    <tr>\n",
       "      <th>100850</th>\n",
       "      <td>Aldon Smith Arrested: 49ers Linebacker Busted ...</td>\n",
       "      <td>49ers rookie and rising star Aldon Smith was a...</td>\n",
       "      <td>Aldon Smith Arrested: 49ers Linebacker Busted ...</td>\n",
       "    </tr>\n",
       "    <tr>\n",
       "      <th>100851</th>\n",
       "      <td>Dwight Howard Rips Teammates After Magic Loss ...</td>\n",
       "      <td>Judging by the comments that Magic center Dwig...</td>\n",
       "      <td>Dwight Howard Rips Teammates After Magic Loss ...</td>\n",
       "    </tr>\n",
       "  </tbody>\n",
       "</table>\n",
       "<p>100852 rows × 3 columns</p>\n",
       "</div>"
      ],
      "text/plain": [
       "                                                 headline  \\\n",
       "0       2016 Presidential Candidates Use Pre-Announcem...   \n",
       "1       Immigration Advocates Try To Assuage Fears Ove...   \n",
       "2       UVA Students Say Banning Sorority Members From...   \n",
       "3       'Zombie Cat' Should Not Go Back To Owner Who B...   \n",
       "4       The Super Bowl Sprints Workout to Burn Fat and...   \n",
       "...                                                   ...   \n",
       "100847  RIM CEO Thorsten Heins' 'Significant' Plans Fo...   \n",
       "100848  Maria Sharapova Stunned By Victoria Azarenka I...   \n",
       "100849  Giants Over Patriots, Jets Over Colts Among  M...   \n",
       "100850  Aldon Smith Arrested: 49ers Linebacker Busted ...   \n",
       "100851  Dwight Howard Rips Teammates After Magic Loss ...   \n",
       "\n",
       "                                                full_text  \\\n",
       "0       Scott Walker, governor of Wisconsin, speaks du...   \n",
       "1       Rep. Luis Gutierrez, D-Ill, speaks during a \"U...   \n",
       "2       The Rotunda stands under renovation on the Uni...   \n",
       "3       Rescue workers who helped save Bart -- the “zo...   \n",
       "4       We have waited long enough, and it's finally h...   \n",
       "...                                                   ...   \n",
       "100847  By Sinead Carew and Nicola Leske  NEW YORK (Re...   \n",
       "100848  By Steve Tignor, Tennis.com    MELBOURNE -- \"J...   \n",
       "100849  Leading up to Super Bowl XLVI, the most talked...   \n",
       "100850  49ers rookie and rising star Aldon Smith was a...   \n",
       "100851  Judging by the comments that Magic center Dwig...   \n",
       "\n",
       "                                                 combined  \n",
       "0       2016 Presidential Candidates Use Pre-Announcem...  \n",
       "1       Immigration Advocates Try To Assuage Fears Ove...  \n",
       "2       UVA Students Say Banning Sorority Members From...  \n",
       "3       'Zombie Cat' Should Not Go Back To Owner Who B...  \n",
       "4       The Super Bowl Sprints Workout to Burn Fat and...  \n",
       "...                                                   ...  \n",
       "100847  RIM CEO Thorsten Heins' 'Significant' Plans Fo...  \n",
       "100848  Maria Sharapova Stunned By Victoria Azarenka I...  \n",
       "100849  Giants Over Patriots, Jets Over Colts Among  M...  \n",
       "100850  Aldon Smith Arrested: 49ers Linebacker Busted ...  \n",
       "100851  Dwight Howard Rips Teammates After Magic Loss ...  \n",
       "\n",
       "[100852 rows x 3 columns]"
      ]
     },
     "execution_count": 9,
     "metadata": {},
     "output_type": "execute_result"
    }
   ],
   "source": [
    "df"
   ]
  },
  {
   "cell_type": "code",
   "execution_count": 10,
   "metadata": {},
   "outputs": [],
   "source": [
    "df_1 = df.iloc[:50001]\n",
    "df_2 = df.iloc[50001:]"
   ]
  },
  {
   "cell_type": "code",
   "execution_count": 12,
   "metadata": {},
   "outputs": [
    {
     "data": {
      "text/plain": [
       "headline     Clinton Smith Named New Editor-In-Chief Of Ver...\n",
       "full_text    It looks like big changes are coming to one of...\n",
       "combined     Clinton Smith Named New Editor-In-Chief Of Ver...\n",
       "Name: 50001, dtype: object"
      ]
     },
     "execution_count": 12,
     "metadata": {},
     "output_type": "execute_result"
    }
   ],
   "source": [
    "df.iloc[50001]"
   ]
  },
  {
   "cell_type": "code",
   "execution_count": 13,
   "metadata": {},
   "outputs": [
    {
     "data": {
      "text/plain": [
       "headline     Police Create 'Ring Of Steel' Around Carole An...\n",
       "full_text    Now that the royal baby is finally here, Engla...\n",
       "combined     Police Create 'Ring Of Steel' Around Carole An...\n",
       "Name: 50000, dtype: object"
      ]
     },
     "execution_count": 13,
     "metadata": {},
     "output_type": "execute_result"
    }
   ],
   "source": [
    "df_1.iloc[-1]"
   ]
  },
  {
   "cell_type": "code",
   "execution_count": 14,
   "metadata": {},
   "outputs": [
    {
     "data": {
      "text/plain": [
       "headline     Clinton Smith Named New Editor-In-Chief Of Ver...\n",
       "full_text    It looks like big changes are coming to one of...\n",
       "combined     Clinton Smith Named New Editor-In-Chief Of Ver...\n",
       "Name: 50001, dtype: object"
      ]
     },
     "execution_count": 14,
     "metadata": {},
     "output_type": "execute_result"
    }
   ],
   "source": [
    "df_2.iloc[0]"
   ]
  },
  {
   "cell_type": "code",
   "execution_count": 15,
   "metadata": {},
   "outputs": [],
   "source": [
    "# df_1.to_csv(\"1st_50k.gzip\", compression = \"gzip\", index = False)\n",
    "# df_2.to_csv(\"2nd_50k.gzip\", compression = \"gzip\", index = False)"
   ]
  },
  {
   "cell_type": "code",
   "execution_count": null,
   "metadata": {},
   "outputs": [],
   "source": []
  }
 ],
 "metadata": {
  "kernelspec": {
   "display_name": "learn-env",
   "language": "python",
   "name": "learn-env"
  },
  "language_info": {
   "codemirror_mode": {
    "name": "ipython",
    "version": 3
   },
   "file_extension": ".py",
   "mimetype": "text/x-python",
   "name": "python",
   "nbconvert_exporter": "python",
   "pygments_lexer": "ipython3",
   "version": "3.8.5"
  }
 },
 "nbformat": 4,
 "nbformat_minor": 4
}
