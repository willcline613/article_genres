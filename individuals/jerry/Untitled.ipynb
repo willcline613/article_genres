{
 "cells": [
  {
   "cell_type": "markdown",
   "metadata": {},
   "source": [
    "The next step is to test basic models with our data, as opposed to more complex models such as neural networks. I imported the necessary libraries below and then combined the different csv files that comprised of our total collected article data."
   ]
  },
  {
   "cell_type": "code",
   "execution_count": 1,
   "metadata": {},
   "outputs": [],
   "source": [
    "import json\n",
    "import pandas as pd\n",
    "import numpy as np\n",
    "from sklearn.preprocessing import LabelEncoder\n",
    "from sklearn.ensemble import RandomForestClassifier\n",
    "from sklearn.naive_bayes import MultinomialNB\n",
    "from sklearn.metrics import accuracy_score, confusion_matrix\n",
    "from sklearn.feature_extraction.text import TfidfVectorizer\n",
    "from sklearn.model_selection import train_test_split\n",
    "import string\n",
    "from nltk.corpus import stopwords\n",
    "from nltk import word_tokenize\n",
    "import scipy\n",
    "import zipfile"
   ]
  },
  {
   "cell_type": "code",
   "execution_count": 65,
   "metadata": {},
   "outputs": [],
   "source": [
    "df = pd.read_json(\"../../data/News_Category_Dataset_v2.json\", lines = True)\n",
    "\n",
    "\n",
    "zf = zipfile.ZipFile('../../data/dffulltext.csv.zip') \n",
    "df_i = pd.read_csv(zf.open('dffulltext.csv'))\n",
    "df_ii = pd.read_csv(\"../../data/1st_50k.gzip\", compression = \"gzip\")\n",
    "df_iii = pd.read_csv(\"../../data/2nd_50k.gzip\", compression = \"gzip\")"
   ]
  },
  {
   "cell_type": "code",
   "execution_count": 66,
   "metadata": {},
   "outputs": [
    {
     "data": {
      "text/html": [
       "<div>\n",
       "<style scoped>\n",
       "    .dataframe tbody tr th:only-of-type {\n",
       "        vertical-align: middle;\n",
       "    }\n",
       "\n",
       "    .dataframe tbody tr th {\n",
       "        vertical-align: top;\n",
       "    }\n",
       "\n",
       "    .dataframe thead th {\n",
       "        text-align: right;\n",
       "    }\n",
       "</style>\n",
       "<table border=\"1\" class=\"dataframe\">\n",
       "  <thead>\n",
       "    <tr style=\"text-align: right;\">\n",
       "      <th></th>\n",
       "      <th>Unnamed: 0</th>\n",
       "      <th>category</th>\n",
       "      <th>headline</th>\n",
       "      <th>authors</th>\n",
       "      <th>link</th>\n",
       "      <th>short_description</th>\n",
       "      <th>date</th>\n",
       "      <th>full_text</th>\n",
       "    </tr>\n",
       "  </thead>\n",
       "  <tbody>\n",
       "    <tr>\n",
       "      <th>0</th>\n",
       "      <td>0</td>\n",
       "      <td>CRIME</td>\n",
       "      <td>There Were 2 Mass Shootings In Texas Last Week...</td>\n",
       "      <td>Melissa Jeltsen</td>\n",
       "      <td>https://www.huffingtonpost.com/entry/texas-ama...</td>\n",
       "      <td>She left her husband. He killed their children...</td>\n",
       "      <td>2018-05-26</td>\n",
       "      <td>Mei-Chun Jau for HuffPost Amanda Painter is th...</td>\n",
       "    </tr>\n",
       "    <tr>\n",
       "      <th>1</th>\n",
       "      <td>1</td>\n",
       "      <td>ENTERTAINMENT</td>\n",
       "      <td>Will Smith Joins Diplo And Nicky Jam For The 2...</td>\n",
       "      <td>Andy McDonald</td>\n",
       "      <td>https://www.huffingtonpost.com/entry/will-smit...</td>\n",
       "      <td>Of course it has a song.</td>\n",
       "      <td>2018-05-26</td>\n",
       "      <td>The 2018 FIFA World Cup starts June 14 in Russ...</td>\n",
       "    </tr>\n",
       "    <tr>\n",
       "      <th>2</th>\n",
       "      <td>2</td>\n",
       "      <td>ENTERTAINMENT</td>\n",
       "      <td>Hugh Grant Marries For The First Time At Age 57</td>\n",
       "      <td>Ron Dicker</td>\n",
       "      <td>https://www.huffingtonpost.com/entry/hugh-gran...</td>\n",
       "      <td>The actor and his longtime girlfriend Anna Ebe...</td>\n",
       "      <td>2018-05-26</td>\n",
       "      <td>Love actually turned to matrimony for Hugh Gra...</td>\n",
       "    </tr>\n",
       "    <tr>\n",
       "      <th>3</th>\n",
       "      <td>3</td>\n",
       "      <td>ENTERTAINMENT</td>\n",
       "      <td>Jim Carrey Blasts 'Castrato' Adam Schiff And D...</td>\n",
       "      <td>Ron Dicker</td>\n",
       "      <td>https://www.huffingtonpost.com/entry/jim-carre...</td>\n",
       "      <td>The actor gives Dems an ass-kicking for not fi...</td>\n",
       "      <td>2018-05-26</td>\n",
       "      <td>Rep. Adam Schiff (D-Calif.) and fellow Democra...</td>\n",
       "    </tr>\n",
       "    <tr>\n",
       "      <th>4</th>\n",
       "      <td>4</td>\n",
       "      <td>ENTERTAINMENT</td>\n",
       "      <td>Julianna Margulies Uses Donald Trump Poop Bags...</td>\n",
       "      <td>Ron Dicker</td>\n",
       "      <td>https://www.huffingtonpost.com/entry/julianna-...</td>\n",
       "      <td>The \"Dietland\" actress said using the bags is ...</td>\n",
       "      <td>2018-05-26</td>\n",
       "      <td>The “Dietland” star told host Jimmy Fallon tha...</td>\n",
       "    </tr>\n",
       "  </tbody>\n",
       "</table>\n",
       "</div>"
      ],
      "text/plain": [
       "   Unnamed: 0       category  \\\n",
       "0           0          CRIME   \n",
       "1           1  ENTERTAINMENT   \n",
       "2           2  ENTERTAINMENT   \n",
       "3           3  ENTERTAINMENT   \n",
       "4           4  ENTERTAINMENT   \n",
       "\n",
       "                                            headline          authors  \\\n",
       "0  There Were 2 Mass Shootings In Texas Last Week...  Melissa Jeltsen   \n",
       "1  Will Smith Joins Diplo And Nicky Jam For The 2...    Andy McDonald   \n",
       "2    Hugh Grant Marries For The First Time At Age 57       Ron Dicker   \n",
       "3  Jim Carrey Blasts 'Castrato' Adam Schiff And D...       Ron Dicker   \n",
       "4  Julianna Margulies Uses Donald Trump Poop Bags...       Ron Dicker   \n",
       "\n",
       "                                                link  \\\n",
       "0  https://www.huffingtonpost.com/entry/texas-ama...   \n",
       "1  https://www.huffingtonpost.com/entry/will-smit...   \n",
       "2  https://www.huffingtonpost.com/entry/hugh-gran...   \n",
       "3  https://www.huffingtonpost.com/entry/jim-carre...   \n",
       "4  https://www.huffingtonpost.com/entry/julianna-...   \n",
       "\n",
       "                                   short_description        date  \\\n",
       "0  She left her husband. He killed their children...  2018-05-26   \n",
       "1                           Of course it has a song.  2018-05-26   \n",
       "2  The actor and his longtime girlfriend Anna Ebe...  2018-05-26   \n",
       "3  The actor gives Dems an ass-kicking for not fi...  2018-05-26   \n",
       "4  The \"Dietland\" actress said using the bags is ...  2018-05-26   \n",
       "\n",
       "                                           full_text  \n",
       "0  Mei-Chun Jau for HuffPost Amanda Painter is th...  \n",
       "1  The 2018 FIFA World Cup starts June 14 in Russ...  \n",
       "2  Love actually turned to matrimony for Hugh Gra...  \n",
       "3  Rep. Adam Schiff (D-Calif.) and fellow Democra...  \n",
       "4  The “Dietland” star told host Jimmy Fallon tha...  "
      ]
     },
     "execution_count": 66,
     "metadata": {},
     "output_type": "execute_result"
    }
   ],
   "source": [
    "df_i.head()"
   ]
  },
  {
   "cell_type": "code",
   "execution_count": 67,
   "metadata": {},
   "outputs": [],
   "source": [
    "df_i.drop([\"Unnamed: 0\", \"authors\", \"link\", \"date\", \"short_description\"], axis = 1, inplace = True)"
   ]
  },
  {
   "cell_type": "code",
   "execution_count": 68,
   "metadata": {},
   "outputs": [
    {
     "data": {
      "text/plain": [
       "'CRIME'"
      ]
     },
     "execution_count": 68,
     "metadata": {},
     "output_type": "execute_result"
    }
   ],
   "source": [
    "df[\"category\"].iloc[0]"
   ]
  },
  {
   "cell_type": "code",
   "execution_count": 69,
   "metadata": {},
   "outputs": [],
   "source": [
    "df_target_ii = []\n",
    "df_target_iii = []\n",
    "x = 100000\n",
    "for i in df[\"category\"].iloc[100001:]:\n",
    "    if x < 150001:\n",
    "        df_target_ii.append(df[\"category\"].iloc[x])\n",
    "    else:\n",
    "        df_target_iii.append(df[\"category\"].iloc[x])\n",
    "    x += 1"
   ]
  },
  {
   "cell_type": "code",
   "execution_count": 70,
   "metadata": {},
   "outputs": [],
   "source": [
    "df_ii[\"target\"] = df_target_ii\n",
    "df_iii[\"target\"] = df_target_iii"
   ]
  },
  {
   "cell_type": "code",
   "execution_count": 71,
   "metadata": {},
   "outputs": [],
   "source": [
    "df_iii.drop(['headline', \"full_text\"], axis = 1, inplace = True)\n",
    "df_ii.drop([\"headline\", \"full_text\"], axis = 1, inplace = True)"
   ]
  },
  {
   "cell_type": "code",
   "execution_count": 72,
   "metadata": {},
   "outputs": [],
   "source": [
    "df = pd.concat([df_ii, df_iii], axis = 0)"
   ]
  },
  {
   "cell_type": "code",
   "execution_count": 73,
   "metadata": {},
   "outputs": [],
   "source": [
    "df_i[\"combined\"] = df_i[\"headline\"] + df_i[\"full_text\"]\n",
    "df_i[\"target\"] = df_i[\"category\"]\n",
    "df_i.drop([\"headline\", \"full_text\", \"category\"], axis = 1, inplace = True)"
   ]
  },
  {
   "cell_type": "code",
   "execution_count": 74,
   "metadata": {},
   "outputs": [],
   "source": [
    "df_final = pd.concat([df, df_i], axis = 0)"
   ]
  },
  {
   "cell_type": "code",
   "execution_count": 75,
   "metadata": {},
   "outputs": [],
   "source": [
    "df_final.dropna(subset =[\"combined\"], inplace = True)"
   ]
  },
  {
   "cell_type": "code",
   "execution_count": 93,
   "metadata": {},
   "outputs": [],
   "source": [
    "df_final.reset_index(inplace = True)"
   ]
  },
  {
   "cell_type": "code",
   "execution_count": 94,
   "metadata": {},
   "outputs": [
    {
     "data": {
      "text/html": [
       "<div>\n",
       "<style scoped>\n",
       "    .dataframe tbody tr th:only-of-type {\n",
       "        vertical-align: middle;\n",
       "    }\n",
       "\n",
       "    .dataframe tbody tr th {\n",
       "        vertical-align: top;\n",
       "    }\n",
       "\n",
       "    .dataframe thead th {\n",
       "        text-align: right;\n",
       "    }\n",
       "</style>\n",
       "<table border=\"1\" class=\"dataframe\">\n",
       "  <thead>\n",
       "    <tr style=\"text-align: right;\">\n",
       "      <th></th>\n",
       "      <th>index</th>\n",
       "      <th>combined</th>\n",
       "      <th>target</th>\n",
       "      <th>cleaned</th>\n",
       "    </tr>\n",
       "  </thead>\n",
       "  <tbody>\n",
       "    <tr>\n",
       "      <th>0</th>\n",
       "      <td>1</td>\n",
       "      <td>Immigration Advocates Try To Assuage Fears Ove...</td>\n",
       "      <td>POLITICS</td>\n",
       "      <td></td>\n",
       "    </tr>\n",
       "    <tr>\n",
       "      <th>1</th>\n",
       "      <td>2</td>\n",
       "      <td>UVA Students Say Banning Sorority Members From...</td>\n",
       "      <td>POLITICS</td>\n",
       "      <td></td>\n",
       "    </tr>\n",
       "    <tr>\n",
       "      <th>2</th>\n",
       "      <td>3</td>\n",
       "      <td>'Zombie Cat' Should Not Go Back To Owner Who B...</td>\n",
       "      <td>EDUCATION</td>\n",
       "      <td></td>\n",
       "    </tr>\n",
       "    <tr>\n",
       "      <th>3</th>\n",
       "      <td>5</td>\n",
       "      <td>Autism Without Fear: Examining the Legitimacy ...</td>\n",
       "      <td>HEALTHY LIVING</td>\n",
       "      <td></td>\n",
       "    </tr>\n",
       "    <tr>\n",
       "      <th>4</th>\n",
       "      <td>6</td>\n",
       "      <td>Being a Philanthropist Without MoneyPeople say...</td>\n",
       "      <td>HEALTHY LIVING</td>\n",
       "      <td></td>\n",
       "    </tr>\n",
       "    <tr>\n",
       "      <th>...</th>\n",
       "      <td>...</td>\n",
       "      <td>...</td>\n",
       "      <td>...</td>\n",
       "      <td>...</td>\n",
       "    </tr>\n",
       "    <tr>\n",
       "      <th>129140</th>\n",
       "      <td>40378</td>\n",
       "      <td>Book Publishers Are Scrambling To Release Trum...</td>\n",
       "      <td>ARTS &amp; CULTURE</td>\n",
       "      <td></td>\n",
       "    </tr>\n",
       "    <tr>\n",
       "      <th>129141</th>\n",
       "      <td>40379</td>\n",
       "      <td>Second NFL Player Targeted By Stomach-Turning ...</td>\n",
       "      <td>DIVERSE VOICES</td>\n",
       "      <td></td>\n",
       "    </tr>\n",
       "    <tr>\n",
       "      <th>129142</th>\n",
       "      <td>40380</td>\n",
       "      <td>Senate Democrats Give Up On Coal Miner Health ...</td>\n",
       "      <td>POLITICS</td>\n",
       "      <td></td>\n",
       "    </tr>\n",
       "    <tr>\n",
       "      <th>129143</th>\n",
       "      <td>40381</td>\n",
       "      <td>Courtesy Over Death Penalty Cases May Be Dead ...</td>\n",
       "      <td>POLITICS</td>\n",
       "      <td></td>\n",
       "    </tr>\n",
       "    <tr>\n",
       "      <th>129144</th>\n",
       "      <td>40382</td>\n",
       "      <td>Scientists Discover Feathered Dinosaur Tail Tr...</td>\n",
       "      <td>SCIENCE</td>\n",
       "      <td></td>\n",
       "    </tr>\n",
       "  </tbody>\n",
       "</table>\n",
       "<p>129145 rows × 4 columns</p>\n",
       "</div>"
      ],
      "text/plain": [
       "        index                                           combined  \\\n",
       "0           1  Immigration Advocates Try To Assuage Fears Ove...   \n",
       "1           2  UVA Students Say Banning Sorority Members From...   \n",
       "2           3  'Zombie Cat' Should Not Go Back To Owner Who B...   \n",
       "3           5  Autism Without Fear: Examining the Legitimacy ...   \n",
       "4           6  Being a Philanthropist Without MoneyPeople say...   \n",
       "...       ...                                                ...   \n",
       "129140  40378  Book Publishers Are Scrambling To Release Trum...   \n",
       "129141  40379  Second NFL Player Targeted By Stomach-Turning ...   \n",
       "129142  40380  Senate Democrats Give Up On Coal Miner Health ...   \n",
       "129143  40381  Courtesy Over Death Penalty Cases May Be Dead ...   \n",
       "129144  40382  Scientists Discover Feathered Dinosaur Tail Tr...   \n",
       "\n",
       "                target cleaned  \n",
       "0             POLITICS          \n",
       "1             POLITICS          \n",
       "2            EDUCATION          \n",
       "3       HEALTHY LIVING          \n",
       "4       HEALTHY LIVING          \n",
       "...                ...     ...  \n",
       "129140  ARTS & CULTURE          \n",
       "129141  DIVERSE VOICES          \n",
       "129142        POLITICS          \n",
       "129143        POLITICS          \n",
       "129144         SCIENCE          \n",
       "\n",
       "[129145 rows x 4 columns]"
      ]
     },
     "execution_count": 94,
     "metadata": {},
     "output_type": "execute_result"
    }
   ],
   "source": [
    "df_final"
   ]
  },
  {
   "cell_type": "code",
   "execution_count": 77,
   "metadata": {},
   "outputs": [],
   "source": [
    "df_final = df_final.loc[df_final[\"target\"] != \"WEIRD NEWS\"]\n",
    "f_final = df_final.loc[df_final[\"target\"] != \"IMPACT\"]\n",
    "df_final = df_final.loc[df_final[\"target\"] != \"GOOD NEWS\"]\n",
    "df_final = df_final.loc[df_final[\"target\"] != \"FIFTY\"]"
   ]
  },
  {
   "cell_type": "code",
   "execution_count": 80,
   "metadata": {},
   "outputs": [],
   "source": [
    "df_final.target = df_final.target.replace([\"ARTS\",'CULTURE & ARTS'], \"ARTS & CULTURE\").replace(['THE WORLDPOST'], 'WORLD NEWS').replace(['STYLE'], 'STYLE & BEAUTY')\\\n",
    ".replace(['TASTE'], 'FOOD & DRINK').replace(['WELLNESS'], 'HEALTHY LIVING').replace(['PARENTING'], 'PARENTS').replace(['MONEY'], 'BUSINESS')\\\n",
    ".replace(['COLLEGE'], 'EDUCATION').replace(['GREEN'], 'ENVIRONMENT').replace([\"WOMEN\", \"BLACK VOICES\", 'QUEER VOICES', 'LATINO VOICES'], 'DIVERSE VOICES')\n",
    "\n"
   ]
  },
  {
   "cell_type": "code",
   "execution_count": 96,
   "metadata": {},
   "outputs": [
    {
     "name": "stdout",
     "output_type": "stream",
     "text": [
      "Collecting wn\n",
      "  Downloading wn-0.8.0-py3-none-any.whl (66 kB)\n",
      "\u001b[K     |████████████████████████████████| 66 kB 3.7 MB/s eta 0:00:011\n",
      "\u001b[?25hCollecting requests~=2.25\n",
      "  Downloading requests-2.26.0-py2.py3-none-any.whl (62 kB)\n",
      "\u001b[K     |████████████████████████████████| 62 kB 1.7 MB/s  eta 0:00:01\n",
      "\u001b[?25hCollecting toml~=0.10\n",
      "  Downloading toml-0.10.2-py2.py3-none-any.whl (16 kB)\n",
      "Collecting charset-normalizer~=2.0.0; python_version >= \"3\"\n",
      "  Downloading charset_normalizer-2.0.4-py3-none-any.whl (36 kB)\n",
      "Requirement already satisfied: urllib3<1.27,>=1.21.1 in /Users/jerryhudspeth/opt/anaconda3/envs/learn-env/lib/python3.8/site-packages (from requests~=2.25->wn) (1.25.10)\n",
      "Requirement already satisfied: idna<4,>=2.5; python_version >= \"3\" in /Users/jerryhudspeth/opt/anaconda3/envs/learn-env/lib/python3.8/site-packages (from requests~=2.25->wn) (2.10)\n",
      "Requirement already satisfied: certifi>=2017.4.17 in /Users/jerryhudspeth/opt/anaconda3/envs/learn-env/lib/python3.8/site-packages (from requests~=2.25->wn) (2021.5.30)\n",
      "Installing collected packages: charset-normalizer, requests, toml, wn\n",
      "  Attempting uninstall: requests\n",
      "    Found existing installation: requests 2.24.0\n",
      "    Uninstalling requests-2.24.0:\n",
      "      Successfully uninstalled requests-2.24.0\n",
      "\u001b[31mERROR: After October 2020 you may experience errors when installing or updating packages. This is because pip will change the way that it resolves dependency conflicts.\n",
      "\n",
      "We recommend you use --use-feature=2020-resolver to test your packages with the new resolver before it becomes the default.\n",
      "\n",
      "jupyter-server 1.9.0 requires tornado>=6.1.0, but you'll have tornado 6.0.4 which is incompatible.\u001b[0m\n",
      "Successfully installed charset-normalizer-2.0.4 requests-2.26.0 toml-0.10.2 wn-0.8.0\n",
      "Note: you may need to restart the kernel to use updated packages.\n"
     ]
    }
   ],
   "source": [
    "pip install wn"
   ]
  },
  {
   "cell_type": "code",
   "execution_count": null,
   "metadata": {},
   "outputs": [],
   "source": []
  },
  {
   "cell_type": "code",
   "execution_count": 99,
   "metadata": {},
   "outputs": [],
   "source": [
    "from nltk.stem import WordNetLemmatizer"
   ]
  },
  {
   "cell_type": "code",
   "execution_count": 105,
   "metadata": {},
   "outputs": [
    {
     "name": "stderr",
     "output_type": "stream",
     "text": [
      "[nltk_data] Downloading package wordnet to\n",
      "[nltk_data]     /Users/jerryhudspeth/nltk_data...\n",
      "[nltk_data]   Unzipping corpora/wordnet.zip.\n",
      "100%|██████████| 129145/129145 [4:08:11<00:00,  8.67it/s]  \n"
     ]
    }
   ],
   "source": [
    "from tqdm import tqdm\n",
    "import re\n",
    "import wn\n",
    "import nltk\n",
    "nltk.download('wordnet')\n",
    "from nltk.stem import PorterStemmer, WordNetLemmatizer, SnowballStemmer\n",
    "\n",
    "ps = nltk.PorterStemmer()\n",
    "wn = nltk.WordNetLemmatizer()\n",
    "\n",
    "pictwitter = df_final.combined.loc[df_final.combined.str.startswith(\"pictwitter\")]\n",
    "http = df_final.combined.loc[df_final.combined.str.contains(\"http\")]\n",
    "www = df_final.combined.loc[df_final.combined.str.startswith(\"www\") == True]\n",
    "stop = stopwords.words('english') + list(pictwitter) + list(http) + list(www)\n",
    "\n",
    "def clean_history(history):\n",
    "    history = re.sub('<a\\b[^>]*>(.*?)</a>',\n",
    "       '',history)\n",
    "    punct_translator=str.maketrans('','',string.punctuation.replace('.', '') + '―“”’')\n",
    "    digit_translator=str.maketrans('','',string.digits)\n",
    "    history=history.translate(punct_translator)\n",
    "    history=history.translate(digit_translator)\n",
    "    split = history.split()\n",
    "    history = \" \".join([wn.lemmatize(word.lower()) for word in split if word.lower() not in stop and '.com' not in word])\n",
    "#     tokens = re.split('\\W+', history)\n",
    "    #history = [snow_stemmer.stem(word) for word in tokens if word not in stop]\n",
    "#     history = [wn.lemmatize(word) for word in tokens if word not in stop]\n",
    "#     history = ' '.join(history)\n",
    "    return history\n",
    "df_final['cleaned'] = ''\n",
    "with tqdm(total=len(df_final)) as pbar:\n",
    "    for idx in df_final.index:\n",
    "        df_final.at[idx, 'cleaned'] = clean_history(df_final.combined[idx])\n",
    "        pbar.update(1)\n",
    "#         df['text_clean'] = df['full_text'].apply(lambda x: clean_history(x))\n"
   ]
  },
  {
   "cell_type": "code",
   "execution_count": null,
   "metadata": {},
   "outputs": [],
   "source": [
    "sm = SMOTE(random_state=42)\n",
    "#fit resample just training data. The testing observations presumably do not require smoting\n",
    "X_tr_res, y_tr_res = sm.fit_resample(idf_train, y_tr)"
   ]
  }
 ],
 "metadata": {
  "kernelspec": {
   "display_name": "learn-env",
   "language": "python",
   "name": "learn-env"
  },
  "language_info": {
   "codemirror_mode": {
    "name": "ipython",
    "version": 3
   },
   "file_extension": ".py",
   "mimetype": "text/x-python",
   "name": "python",
   "nbconvert_exporter": "python",
   "pygments_lexer": "ipython3",
   "version": "3.8.5"
  }
 },
 "nbformat": 4,
 "nbformat_minor": 4
}
